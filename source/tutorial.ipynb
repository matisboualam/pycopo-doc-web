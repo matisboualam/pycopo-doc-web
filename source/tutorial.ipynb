{
 "cells": [
  {
   "attachments": {},
   "cell_type": "markdown",
   "metadata": {},
   "source": [
    "# Jupyter Notebook tutorial"
   ]
  },
  {
   "attachments": {},
   "cell_type": "markdown",
   "metadata": {},
   "source": [
    "_______________\n",
    "#### introduction"
   ]
  },
  {
   "attachments": {},
   "cell_type": "markdown",
   "metadata": {},
   "source": [
    "This jupyter notebook will guide you throught the creation of a composite marker.\n",
    "\n",
    "During this tutorial, we will work with a dataset of images included in the pycopo gitlab repository (https://gitlab.com/symmehub/pycopo.git) "
   ]
  },
  {
   "attachments": {},
   "cell_type": "markdown",
   "metadata": {},
   "source": [
    "> **_NOTE:_**  *refer to the usage section to get the pycopo module installation process* "
   ]
  },
  {
   "attachments": {},
   "cell_type": "markdown",
   "metadata": {},
   "source": [
    "_______________\n",
    "#### i_ module importation"
   ]
  },
  {
   "attachments": {},
   "cell_type": "markdown",
   "metadata": {},
   "source": [
    ">The **first step** consist in importing every module required to run this tutorial:"
   ]
  },
  {
   "cell_type": "code",
   "execution_count": 1,
   "metadata": {},
   "outputs": [
    {
     "name": "stderr",
     "output_type": "stream",
     "text": [
      "/home/matis/git-clone/pycopo/pycopo/core.py:191: SyntaxWarning: \"is\" with a literal. Did you mean \"==\"?\n",
      "  if method is \"cv2\":\n"
     ]
    }
   ],
   "source": [
    "import os\n",
    "from PIL import Image\n",
    "import json\n",
    "import time\n",
    "import tarfile\n",
    "\n",
    "from skimage import io\n",
    "import numpy as np\n",
    "from cv2 import aruco\n",
    "import pycopo as pcp\n",
    "import matplotlib.pyplot as plt\n",
    "import networkx as nx"
   ]
  },
  {
   "attachments": {},
   "cell_type": "markdown",
   "metadata": {},
   "source": [
    "_______________\n",
    "#### ii_ image dataset"
   ]
  },
  {
   "attachments": {},
   "cell_type": "markdown",
   "metadata": {},
   "source": [
    ">Then we need to properly set up our image dataset:"
   ]
  },
  {
   "cell_type": "code",
   "execution_count": 2,
   "metadata": {},
   "outputs": [],
   "source": [
    "# SETUP\n",
    "image_directory = \"./_dataset/\"\n",
    "\n",
    "metadata = json.load(open(image_directory + \"metadata.json\"))\n",
    "camera_matrix = np.array(metadata[\"camera_matrix\"])\n",
    "distortion_coefficients = np.array(metadata[\"distortion_coefficients\"])\n",
    "md = float(metadata[\"aruco_marker_size\"].split()[0])\n",
    "marker_dimension = {i: md for i in range(1, 250)}\n",
    "marker_size = 12.4079e-3\n",
    "marker_dimension = {i: marker_size for i in range(1, 250)}\n",
    "\n",
    "# Aruco settings\n",
    "parameters = aruco.DetectorParameters()\n",
    "parameters.cornerRefinementMethod = 1\n",
    "parameters.cornerRefinementWinSize = 2\n",
    "parameters.cornerRefinementMaxIterations = 10"
   ]
  },
  {
   "cell_type": "code",
   "execution_count": 3,
   "metadata": {},
   "outputs": [],
   "source": [
    "target_dir = \"../build/html/_images/\"\n",
    "dir = \"./_dataset\"\n",
    "files = os.listdir(target_dir)\n",
    "no_gif = True\n",
    "for file in files:\n",
    "    if file.endswith(\".gif\"):  # Change the file extensions to match your image format\n",
    "        no_gif = False\n",
    "if (no_gif):\n",
    "    images = []\n",
    "    for file in os.listdir(dir):\n",
    "        if file.endswith(\".tif\"):  # Change the file extensions to match your image format\n",
    "            file_path = os.path.join(dir, file)\n",
    "            im = Image.open(file_path)\n",
    "            width, height = im.size\n",
    "            im = im.resize((int(width/2),int(height/2)))\n",
    "            images.append(im)\n",
    "    images[0].save(\n",
    "        \"../build/html/_images/imdataset.gif\", save_all=True, append_images=images[1:], duration=500, loop=0\n",
    "    )"
   ]
  },
  {
   "attachments": {},
   "cell_type": "markdown",
   "metadata": {},
   "source": [
    "_______________"
   ]
  },
  {
   "attachments": {},
   "cell_type": "markdown",
   "metadata": {},
   "source": [
    ">Let's have a look on our images:"
   ]
  },
  {
   "attachments": {},
   "cell_type": "markdown",
   "metadata": {},
   "source": [
    "> **_NOTE:_**  *(here a concatenation of every images from our dataset in a .GIF file)* "
   ]
  },
  {
   "attachments": {},
   "cell_type": "markdown",
   "metadata": {},
   "source": [
    "\n",
    "![dataset gif](_images/imdataset.gif)"
   ]
  },
  {
   "attachments": {},
   "cell_type": "markdown",
   "metadata": {},
   "source": [
    ">A dodecahedron object is set on the center of every images in our dataset. We rotate the object during the photoshoot in order to capture every faces.\n",
    "\n",
    ">There are as much Aruco markers as the object has faces. **Each of them needs to be identifiable in the dataset** in order to create a composite trackable in every position."
   ]
  },
  {
   "attachments": {},
   "cell_type": "markdown",
   "metadata": {},
   "source": [
    "_______________\n",
    "#### iii_ dataframe initialization"
   ]
  },
  {
   "attachments": {},
   "cell_type": "markdown",
   "metadata": {},
   "source": [
    ">**Let's create and load a dataframe called batch.**\n",
    "\n",
    ">This dataframe will contain our images, the corner's coordinates from the markers detected in each image, the poses associated and many more info we are going to manipulate in the creation of our composite. "
   ]
  },
  {
   "cell_type": "code",
   "execution_count": 4,
   "metadata": {},
   "outputs": [
    {
     "name": "stdout",
     "output_type": "stream",
     "text": [
      "# BATCH INTITIALIZATION\n"
     ]
    },
    {
     "data": {
      "text/plain": [
       "<pycopo.calibration.ImageBatchCalibration at 0x7fdbd57ff220>"
      ]
     },
     "execution_count": 4,
     "metadata": {},
     "output_type": "execute_result"
    }
   ],
   "source": [
    "# STEP 1: PREPROCESSING\n",
    "print(\"# BATCH INTITIALIZATION\")\n",
    "batch = pcp.calibration.ImageBatchCalibration(\n",
    "    aruco_dict=aruco.DICT_6X6_250,\n",
    "    parameters=parameters,\n",
    "    marker_dimension=marker_dimension,\n",
    "    output_directory=\"./_outputs_calibration/\",\n",
    "    camera_matrix=camera_matrix,\n",
    "    distortion_coefficients=distortion_coefficients,\n",
    ")\n",
    "\n",
    "batch.load_image_batch(directory=image_directory)"
   ]
  },
  {
   "attachments": {},
   "cell_type": "markdown",
   "metadata": {},
   "source": [
    "_______________\n",
    "#### iv_ marker detection et pose estimation"
   ]
  },
  {
   "attachments": {},
   "cell_type": "markdown",
   "metadata": {},
   "source": [
    ">We initiate the creation of our composite by detecting and estimating the pose of any marker identifiable."
   ]
  },
  {
   "cell_type": "code",
   "execution_count": 5,
   "metadata": {},
   "outputs": [
    {
     "name": "stderr",
     "output_type": "stream",
     "text": [
      "Estimating pose on detect id_detect: 1004: 100%|██████████| 1005/1005 [00:13<00:00, 72.86it/s]\n"
     ]
    }
   ],
   "source": [
    "batch.detect_markers(\n",
    "    plot_markers=False,\n",
    "    enforce=False,\n",
    ")\n",
    "_ = batch.estimate_pose()"
   ]
  },
  {
   "attachments": {},
   "cell_type": "markdown",
   "metadata": {},
   "source": [
    ">The draw_markers() function allows us to define the contour of an Aruco marker detected in an image and print its id.\n",
    "\n",
    ">A blue point is also drew at the upper-left corner, allowing us to observe the orientation's marker."
   ]
  },
  {
   "cell_type": "code",
   "execution_count": 6,
   "metadata": {},
   "outputs": [],
   "source": [
    "dir = \"./_outputs_calibration\"\n",
    "contents = os.listdir(dir)\n",
    "if len(contents) == 0:\n",
    "    batch.draw_markers()"
   ]
  },
  {
   "attachments": {},
   "cell_type": "markdown",
   "metadata": {},
   "source": [
    ">Here a zoomed in image with its marker drew:"
   ]
  },
  {
   "cell_type": "code",
   "execution_count": 7,
   "metadata": {},
   "outputs": [
    {
     "data": {
      "text/plain": [
       "<matplotlib.image.AxesImage at 0x7fdbd43d5d00>"
      ]
     },
     "execution_count": 7,
     "metadata": {},
     "output_type": "execute_result"
    },
    {
     "data": {
      "image/png": "[encoded data removed]",
      "text/plain": [
       "<Figure size 432x288 with 1 Axes>"
      ]
     },
     "metadata": {
      "needs_background": "light"
     },
     "output_type": "display_data"
    }
   ],
   "source": [
    "im = io.imread(\"./_outputs_calibration/img_0099_markers.jpg\")\n",
    "zoomed = im[950:1600, 2400:2800]\n",
    "\n",
    "io.imshow(zoomed)"
   ]
  },
  {
   "attachments": {},
   "cell_type": "markdown",
   "metadata": {},
   "source": [
    "_______________\n",
    "#### v_ graph creation"
   ]
  },
  {
   "attachments": {},
   "cell_type": "markdown",
   "metadata": {},
   "source": [
    ">If we want to visualize our raw marker/image detection data, we end-up with this graph:"
   ]
  },
  {
   "cell_type": "code",
   "execution_count": 9,
   "metadata": {},
   "outputs": [
    {
     "ename": "NetworkXError",
     "evalue": "Node 190 has no position.",
     "output_type": "error",
     "traceback": [
      "\u001b[0;31m---------------------------------------------------------------------------\u001b[0m",
      "\u001b[0;31mKeyError\u001b[0m                                  Traceback (most recent call last)",
      "File \u001b[0;32m~/miniconda3/envs/matis/lib/python3.9/site-packages/networkx/drawing/nx_pylab.py:454\u001b[0m, in \u001b[0;36mdraw_networkx_nodes\u001b[0;34m(G, pos, nodelist, node_size, node_color, node_shape, alpha, cmap, vmin, vmax, ax, linewidths, edgecolors, label, margins)\u001b[0m\n\u001b[1;32m    453\u001b[0m \u001b[39mtry\u001b[39;00m:\n\u001b[0;32m--> 454\u001b[0m     xy \u001b[39m=\u001b[39m np\u001b[39m.\u001b[39masarray([pos[v] \u001b[39mfor\u001b[39;00m v \u001b[39min\u001b[39;00m nodelist])\n\u001b[1;32m    455\u001b[0m \u001b[39mexcept\u001b[39;00m \u001b[39mKeyError\u001b[39;00m \u001b[39mas\u001b[39;00m err:\n",
      "File \u001b[0;32m~/miniconda3/envs/matis/lib/python3.9/site-packages/networkx/drawing/nx_pylab.py:454\u001b[0m, in \u001b[0;36m<listcomp>\u001b[0;34m(.0)\u001b[0m\n\u001b[1;32m    453\u001b[0m \u001b[39mtry\u001b[39;00m:\n\u001b[0;32m--> 454\u001b[0m     xy \u001b[39m=\u001b[39m np\u001b[39m.\u001b[39masarray([pos[v] \u001b[39mfor\u001b[39;00m v \u001b[39min\u001b[39;00m nodelist])\n\u001b[1;32m    455\u001b[0m \u001b[39mexcept\u001b[39;00m \u001b[39mKeyError\u001b[39;00m \u001b[39mas\u001b[39;00m err:\n",
      "\u001b[0;31mKeyError\u001b[0m: 190",
      "\nThe above exception was the direct cause of the following exception:\n",
      "\u001b[0;31mNetworkXError\u001b[0m                             Traceback (most recent call last)",
      "\u001b[1;32m/home/matis/git-clone/pycopo-doc-web/source/tutorial.ipynb Cell 29\u001b[0m in \u001b[0;36m<cell line: 4>\u001b[0;34m()\u001b[0m\n\u001b[1;32m      <a href='vscode-notebook-cell://wsl%2Bubuntu-20.04/home/matis/git-clone/pycopo-doc-web/source/tutorial.ipynb#X40sdnNjb2RlLXJlbW90ZQ%3D%3D?line=1'>2</a>\u001b[0m MG \u001b[39m=\u001b[39m pcp\u001b[39m.\u001b[39mutils\u001b[39m.\u001b[39mget_multigraph(data\u001b[39m=\u001b[39mdata)\n\u001b[1;32m      <a href='vscode-notebook-cell://wsl%2Bubuntu-20.04/home/matis/git-clone/pycopo-doc-web/source/tutorial.ipynb#X40sdnNjb2RlLXJlbW90ZQ%3D%3D?line=2'>3</a>\u001b[0m G \u001b[39m=\u001b[39m pcp\u001b[39m.\u001b[39mutils\u001b[39m.\u001b[39mget_graph(data\u001b[39m=\u001b[39mdata)\n\u001b[0;32m----> <a href='vscode-notebook-cell://wsl%2Bubuntu-20.04/home/matis/git-clone/pycopo-doc-web/source/tutorial.ipynb#X40sdnNjb2RlLXJlbW90ZQ%3D%3D?line=3'>4</a>\u001b[0m pcp\u001b[39m.\u001b[39;49mutils\u001b[39m.\u001b[39;49mplot_graph(G, MG, data)\n",
      "File \u001b[0;32m~/git-clone/pycopo/pycopo/utils.py:840\u001b[0m, in \u001b[0;36mplot_graph\u001b[0;34m(G, MG, data, path)\u001b[0m\n\u001b[1;32m    838\u001b[0m pos \u001b[39m=\u001b[39m nx\u001b[39m.\u001b[39mspring_layout(G)\n\u001b[1;32m    839\u001b[0m nsize \u001b[39m=\u001b[39m \u001b[39m1000\u001b[39m\n\u001b[0;32m--> 840\u001b[0m nx\u001b[39m.\u001b[39;49mdraw_networkx_nodes(\n\u001b[1;32m    841\u001b[0m     G,\n\u001b[1;32m    842\u001b[0m     pos,\n\u001b[1;32m    843\u001b[0m     nodelist\u001b[39m=\u001b[39;49m\u001b[39mlist\u001b[39;49m(centralMarkers),\n\u001b[1;32m    844\u001b[0m     node_color\u001b[39m=\u001b[39;49m\u001b[39m\"\u001b[39;49m\u001b[39mg\u001b[39;49m\u001b[39m\"\u001b[39;49m,\n\u001b[1;32m    845\u001b[0m     node_size\u001b[39m=\u001b[39;49mnsize,\n\u001b[1;32m    846\u001b[0m     alpha\u001b[39m=\u001b[39;49m\u001b[39m0.8\u001b[39;49m,\n\u001b[1;32m    847\u001b[0m )\n\u001b[1;32m    848\u001b[0m nx\u001b[39m.\u001b[39mdraw_networkx_nodes(\n\u001b[1;32m    849\u001b[0m     G,\n\u001b[1;32m    850\u001b[0m     pos,\n\u001b[0;32m   (...)\u001b[0m\n\u001b[1;32m    854\u001b[0m     alpha\u001b[39m=\u001b[39m\u001b[39m0.8\u001b[39m,\n\u001b[1;32m    855\u001b[0m )\n\u001b[1;32m    856\u001b[0m nx\u001b[39m.\u001b[39mdraw_networkx_nodes(\n\u001b[1;32m    857\u001b[0m     G, pos, nodelist\u001b[39m=\u001b[39mimages, node_color\u001b[39m=\u001b[39m\u001b[39m\"\u001b[39m\u001b[39mb\u001b[39m\u001b[39m\"\u001b[39m, node_size\u001b[39m=\u001b[39mnsize, alpha\u001b[39m=\u001b[39m\u001b[39m0.8\u001b[39m\n\u001b[1;32m    858\u001b[0m )\n",
      "File \u001b[0;32m~/miniconda3/envs/matis/lib/python3.9/site-packages/networkx/drawing/nx_pylab.py:456\u001b[0m, in \u001b[0;36mdraw_networkx_nodes\u001b[0;34m(G, pos, nodelist, node_size, node_color, node_shape, alpha, cmap, vmin, vmax, ax, linewidths, edgecolors, label, margins)\u001b[0m\n\u001b[1;32m    454\u001b[0m     xy \u001b[39m=\u001b[39m np\u001b[39m.\u001b[39masarray([pos[v] \u001b[39mfor\u001b[39;00m v \u001b[39min\u001b[39;00m nodelist])\n\u001b[1;32m    455\u001b[0m \u001b[39mexcept\u001b[39;00m \u001b[39mKeyError\u001b[39;00m \u001b[39mas\u001b[39;00m err:\n\u001b[0;32m--> 456\u001b[0m     \u001b[39mraise\u001b[39;00m nx\u001b[39m.\u001b[39mNetworkXError(\u001b[39mf\u001b[39m\u001b[39m\"\u001b[39m\u001b[39mNode \u001b[39m\u001b[39m{\u001b[39;00merr\u001b[39m}\u001b[39;00m\u001b[39m has no position.\u001b[39m\u001b[39m\"\u001b[39m) \u001b[39mfrom\u001b[39;00m \u001b[39merr\u001b[39;00m\n\u001b[1;32m    458\u001b[0m \u001b[39mif\u001b[39;00m \u001b[39misinstance\u001b[39m(alpha, Iterable):\n\u001b[1;32m    459\u001b[0m     node_color \u001b[39m=\u001b[39m apply_alpha(node_color, alpha, nodelist, cmap, vmin, vmax)\n",
      "\u001b[0;31mNetworkXError\u001b[0m: Node 190 has no position."
     ]
    },
    {
     "data": {
      "image/png": "[encoded data removed]",
      "text/plain": [
       "<Figure size 432x288 with 1 Axes>"
      ]
     },
     "metadata": {
      "needs_background": "light"
     },
     "output_type": "display_data"
    }
   ],
   "source": [
    "data = batch.merge_all()\n",
    "MG = pcp.utils.get_multigraph(data=data)\n",
    "G = pcp.utils.get_graph(data=data)"
   ]
  },
  {
   "attachments": {},
   "cell_type": "markdown",
   "metadata": {},
   "source": [
    "> *blue nodes: marker poses | red nodes: image*"
   ]
  },
  {
   "attachments": {},
   "cell_type": "markdown",
   "metadata": {},
   "source": [
    "_______________\n",
    "#### vi_ GBU algorithm"
   ]
  },
  {
   "attachments": {},
   "cell_type": "markdown",
   "metadata": {},
   "source": [
    ">**In order to get rid of the pose ambiguity (cf. [pycopo_theory](./pycopo_theory.md)), we submit our dataframe poses info to the GBU algorithm.**\n",
    "\n",
    ">>The pose filtration process relies on the get_graph_data function from the pycopo module. Here the detailed process:\n",
    "    \n",
    ">>* info extraction from our dataframe batch\n",
    ">>* graph construction based on the image/marker detection info\n",
    ">>* GBU algorithm filtration\n",
    ">>* graph updating with the filtered poses\n",
    ">>* marker counting, checking if we've lost some ids "
   ]
  },
  {
   "cell_type": "code",
   "execution_count": 10,
   "metadata": {},
   "outputs": [
    {
     "name": "stderr",
     "output_type": "stream",
     "text": [
      "Working on cycle: ('m189', 'i115', 'm188', 'i114'): 100%|██████████| 680/680 [00:23<00:00, 28.98it/s]\n"
     ]
    },
    {
     "name": "stdout",
     "output_type": "stream",
     "text": [
      "full data \t= 2010 poses\n",
      "no valid pose \t= 0 poses\n",
      "out of cycle \t= 328 poses\n",
      "good data \t= 411 poses\n",
      "bad data \t= 1157 poses\n",
      "ambigus data \t= 114 poses\n",
      "==========================\n"
     ]
    },
    {
     "name": "stderr",
     "output_type": "stream",
     "text": [
      "Working on cycle: ('m193', 'i113', 'm204', 'i112'): 100%|██████████| 308/308 [00:09<00:00, 33.89it/s]\n"
     ]
    },
    {
     "name": "stdout",
     "output_type": "stream",
     "text": [
      "full data \t= 525 poses\n",
      "no valid pose \t= 0 poses\n",
      "out of cycle \t= 54 poses\n",
      "good data \t= 378 poses\n",
      "bad data \t= 48 poses\n",
      "ambigus data \t= 10 poses\n",
      "==========================\n",
      "/!\\ we lose marker(s) : {192}\n"
     ]
    },
    {
     "data": {
      "text/html": [
       "<div>\n",
       "<style scoped>\n",
       "    .dataframe tbody tr th:only-of-type {\n",
       "        vertical-align: middle;\n",
       "    }\n",
       "\n",
       "    .dataframe tbody tr th {\n",
       "        vertical-align: top;\n",
       "    }\n",
       "\n",
       "    .dataframe thead tr th {\n",
       "        text-align: left;\n",
       "    }\n",
       "</style>\n",
       "<table border=\"1\" class=\"dataframe\">\n",
       "  <thead>\n",
       "    <tr>\n",
       "      <th></th>\n",
       "      <th>index</th>\n",
       "      <th>poses</th>\n",
       "      <th>detects</th>\n",
       "      <th colspan=\"3\" halign=\"left\">rvec</th>\n",
       "      <th colspan=\"3\" halign=\"left\">tvec</th>\n",
       "      <th>flag</th>\n",
       "      <th>...</th>\n",
       "      <th colspan=\"8\" halign=\"left\">p2d</th>\n",
       "      <th colspan=\"2\" halign=\"left\">image</th>\n",
       "    </tr>\n",
       "    <tr>\n",
       "      <th></th>\n",
       "      <th></th>\n",
       "      <th></th>\n",
       "      <th></th>\n",
       "      <th>x</th>\n",
       "      <th>y</th>\n",
       "      <th>z</th>\n",
       "      <th>x</th>\n",
       "      <th>y</th>\n",
       "      <th>z</th>\n",
       "      <th>graph</th>\n",
       "      <th>...</th>\n",
       "      <th colspan=\"2\" halign=\"left\">c0</th>\n",
       "      <th colspan=\"2\" halign=\"left\">c1</th>\n",
       "      <th colspan=\"2\" halign=\"left\">c2</th>\n",
       "      <th colspan=\"2\" halign=\"left\">c3</th>\n",
       "      <th>fname</th>\n",
       "      <th>path</th>\n",
       "    </tr>\n",
       "    <tr>\n",
       "      <th></th>\n",
       "      <th></th>\n",
       "      <th></th>\n",
       "      <th></th>\n",
       "      <th></th>\n",
       "      <th></th>\n",
       "      <th></th>\n",
       "      <th></th>\n",
       "      <th></th>\n",
       "      <th></th>\n",
       "      <th>processed</th>\n",
       "      <th>...</th>\n",
       "      <th>x</th>\n",
       "      <th>y</th>\n",
       "      <th>x</th>\n",
       "      <th>y</th>\n",
       "      <th>x</th>\n",
       "      <th>y</th>\n",
       "      <th>x</th>\n",
       "      <th>y</th>\n",
       "      <th></th>\n",
       "      <th></th>\n",
       "    </tr>\n",
       "  </thead>\n",
       "  <tbody>\n",
       "    <tr>\n",
       "      <th>1</th>\n",
       "      <td>1</td>\n",
       "      <td>1</td>\n",
       "      <td>0</td>\n",
       "      <td>1.103566</td>\n",
       "      <td>-0.078667</td>\n",
       "      <td>1.885849</td>\n",
       "      <td>-0.026778</td>\n",
       "      <td>-0.005759</td>\n",
       "      <td>0.795778</td>\n",
       "      <td>True</td>\n",
       "      <td>...</td>\n",
       "      <td>2544.101318</td>\n",
       "      <td>1444.704712</td>\n",
       "      <td>2529.856445</td>\n",
       "      <td>1506.913696</td>\n",
       "      <td>2464.308838</td>\n",
       "      <td>1454.584351</td>\n",
       "      <td>2477.799316</td>\n",
       "      <td>1392.204712</td>\n",
       "      <td>img_0000.tif</td>\n",
       "      <td>/home/matis/git-clone/pycopo-doc-web/source/_d...</td>\n",
       "    </tr>\n",
       "    <tr>\n",
       "      <th>2</th>\n",
       "      <td>2</td>\n",
       "      <td>2</td>\n",
       "      <td>1</td>\n",
       "      <td>-0.25767</td>\n",
       "      <td>-0.694493</td>\n",
       "      <td>2.356669</td>\n",
       "      <td>-0.006563</td>\n",
       "      <td>-0.005939</td>\n",
       "      <td>0.788194</td>\n",
       "      <td>True</td>\n",
       "      <td>...</td>\n",
       "      <td>2712.738281</td>\n",
       "      <td>1447.889038</td>\n",
       "      <td>2642.476318</td>\n",
       "      <td>1507.457153</td>\n",
       "      <td>2591.752197</td>\n",
       "      <td>1447.837646</td>\n",
       "      <td>2662.632812</td>\n",
       "      <td>1388.084229</td>\n",
       "      <td>img_0000.tif</td>\n",
       "      <td>/home/matis/git-clone/pycopo-doc-web/source/_d...</td>\n",
       "    </tr>\n",
       "    <tr>\n",
       "      <th>9</th>\n",
       "      <td>9</td>\n",
       "      <td>9</td>\n",
       "      <td>4</td>\n",
       "      <td>0.47126</td>\n",
       "      <td>-0.370985</td>\n",
       "      <td>2.138876</td>\n",
       "      <td>-0.018269</td>\n",
       "      <td>-0.043798</td>\n",
       "      <td>0.789579</td>\n",
       "      <td>True</td>\n",
       "      <td>...</td>\n",
       "      <td>2627.951416</td>\n",
       "      <td>1158.92749</td>\n",
       "      <td>2579.474854</td>\n",
       "      <td>1226.341187</td>\n",
       "      <td>2503.689697</td>\n",
       "      <td>1174.544189</td>\n",
       "      <td>2551.637207</td>\n",
       "      <td>1106.521362</td>\n",
       "      <td>img_0000.tif</td>\n",
       "      <td>/home/matis/git-clone/pycopo-doc-web/source/_d...</td>\n",
       "    </tr>\n",
       "    <tr>\n",
       "      <th>10</th>\n",
       "      <td>10</td>\n",
       "      <td>10</td>\n",
       "      <td>5</td>\n",
       "      <td>-1.000389</td>\n",
       "      <td>-0.965148</td>\n",
       "      <td>2.25778</td>\n",
       "      <td>0.001085</td>\n",
       "      <td>-0.044721</td>\n",
       "      <td>0.800939</td>\n",
       "      <td>True</td>\n",
       "      <td>...</td>\n",
       "      <td>2743.412842</td>\n",
       "      <td>1166.369019</td>\n",
       "      <td>2687.8396</td>\n",
       "      <td>1223.912109</td>\n",
       "      <td>2674.770508</td>\n",
       "      <td>1162.726562</td>\n",
       "      <td>2730.772949</td>\n",
       "      <td>1104.881592</td>\n",
       "      <td>img_0000.tif</td>\n",
       "      <td>/home/matis/git-clone/pycopo-doc-web/source/_d...</td>\n",
       "    </tr>\n",
       "    <tr>\n",
       "      <th>17</th>\n",
       "      <td>17</td>\n",
       "      <td>17</td>\n",
       "      <td>8</td>\n",
       "      <td>1.050641</td>\n",
       "      <td>-0.107987</td>\n",
       "      <td>1.917003</td>\n",
       "      <td>-0.026293</td>\n",
       "      <td>-0.005775</td>\n",
       "      <td>0.794175</td>\n",
       "      <td>True</td>\n",
       "      <td>...</td>\n",
       "      <td>2550.127686</td>\n",
       "      <td>1444.506958</td>\n",
       "      <td>2532.173828</td>\n",
       "      <td>1506.823608</td>\n",
       "      <td>2464.617676</td>\n",
       "      <td>1454.46228</td>\n",
       "      <td>2481.895752</td>\n",
       "      <td>1391.767212</td>\n",
       "      <td>img_0001.tif</td>\n",
       "      <td>/home/matis/git-clone/pycopo-doc-web/source/_d...</td>\n",
       "    </tr>\n",
       "    <tr>\n",
       "      <th>...</th>\n",
       "      <td>...</td>\n",
       "      <td>...</td>\n",
       "      <td>...</td>\n",
       "      <td>...</td>\n",
       "      <td>...</td>\n",
       "      <td>...</td>\n",
       "      <td>...</td>\n",
       "      <td>...</td>\n",
       "      <td>...</td>\n",
       "      <td>...</td>\n",
       "      <td>...</td>\n",
       "      <td>...</td>\n",
       "      <td>...</td>\n",
       "      <td>...</td>\n",
       "      <td>...</td>\n",
       "      <td>...</td>\n",
       "      <td>...</td>\n",
       "      <td>...</td>\n",
       "      <td>...</td>\n",
       "      <td>...</td>\n",
       "      <td>...</td>\n",
       "    </tr>\n",
       "    <tr>\n",
       "      <th>1998</th>\n",
       "      <td>1998</td>\n",
       "      <td>1998</td>\n",
       "      <td>999</td>\n",
       "      <td>-0.244637</td>\n",
       "      <td>-0.531736</td>\n",
       "      <td>0.833634</td>\n",
       "      <td>-0.019624</td>\n",
       "      <td>-0.015908</td>\n",
       "      <td>0.777707</td>\n",
       "      <td>True</td>\n",
       "      <td>...</td>\n",
       "      <td>2557.278809</td>\n",
       "      <td>1306.167358</td>\n",
       "      <td>2609.578857</td>\n",
       "      <td>1377.598877</td>\n",
       "      <td>2549.151855</td>\n",
       "      <td>1438.129639</td>\n",
       "      <td>2496.450439</td>\n",
       "      <td>1366.586548</td>\n",
       "      <td>img_0115.tif</td>\n",
       "      <td>/home/matis/git-clone/pycopo-doc-web/source/_d...</td>\n",
       "    </tr>\n",
       "    <tr>\n",
       "      <th>2001</th>\n",
       "      <td>2001</td>\n",
       "      <td>2001</td>\n",
       "      <td>1000</td>\n",
       "      <td>-1.004563</td>\n",
       "      <td>-1.319235</td>\n",
       "      <td>-2.295614</td>\n",
       "      <td>0.002927</td>\n",
       "      <td>-0.032986</td>\n",
       "      <td>0.799528</td>\n",
       "      <td>True</td>\n",
       "      <td>...</td>\n",
       "      <td>2729.369873</td>\n",
       "      <td>1268.298584</td>\n",
       "      <td>2664.787354</td>\n",
       "      <td>1277.742188</td>\n",
       "      <td>2716.446289</td>\n",
       "      <td>1232.045532</td>\n",
       "      <td>2781.067139</td>\n",
       "      <td>1222.459351</td>\n",
       "      <td>img_0115.tif</td>\n",
       "      <td>/home/matis/git-clone/pycopo-doc-web/source/_d...</td>\n",
       "    </tr>\n",
       "    <tr>\n",
       "      <th>2003</th>\n",
       "      <td>2003</td>\n",
       "      <td>2003</td>\n",
       "      <td>1001</td>\n",
       "      <td>-0.431048</td>\n",
       "      <td>0.181347</td>\n",
       "      <td>-2.335636</td>\n",
       "      <td>0.0041</td>\n",
       "      <td>-0.015785</td>\n",
       "      <td>0.779741</td>\n",
       "      <td>True</td>\n",
       "      <td>...</td>\n",
       "      <td>2733.126953</td>\n",
       "      <td>1439.306519</td>\n",
       "      <td>2670.63623</td>\n",
       "      <td>1374.662354</td>\n",
       "      <td>2731.525879</td>\n",
       "      <td>1307.232422</td>\n",
       "      <td>2794.18457</td>\n",
       "      <td>1372.196045</td>\n",
       "      <td>img_0115.tif</td>\n",
       "      <td>/home/matis/git-clone/pycopo-doc-web/source/_d...</td>\n",
       "    </tr>\n",
       "    <tr>\n",
       "      <th>2006</th>\n",
       "      <td>2006</td>\n",
       "      <td>2006</td>\n",
       "      <td>1003</td>\n",
       "      <td>-0.823899</td>\n",
       "      <td>-0.250302</td>\n",
       "      <td>0.916318</td>\n",
       "      <td>0.018226</td>\n",
       "      <td>-0.025892</td>\n",
       "      <td>0.787021</td>\n",
       "      <td>True</td>\n",
       "      <td>...</td>\n",
       "      <td>2836.290527</td>\n",
       "      <td>1248.925537</td>\n",
       "      <td>2892.291992</td>\n",
       "      <td>1320.679932</td>\n",
       "      <td>2838.37085</td>\n",
       "      <td>1349.820557</td>\n",
       "      <td>2781.748047</td>\n",
       "      <td>1277.462158</td>\n",
       "      <td>img_0115.tif</td>\n",
       "      <td>/home/matis/git-clone/pycopo-doc-web/source/_d...</td>\n",
       "    </tr>\n",
       "    <tr>\n",
       "      <th>2008</th>\n",
       "      <td>2008</td>\n",
       "      <td>2008</td>\n",
       "      <td>1004</td>\n",
       "      <td>0.369258</td>\n",
       "      <td>-0.761395</td>\n",
       "      <td>0.644886</td>\n",
       "      <td>0.017833</td>\n",
       "      <td>-0.005166</td>\n",
       "      <td>0.785038</td>\n",
       "      <td>True</td>\n",
       "      <td>...</td>\n",
       "      <td>2840.688965</td>\n",
       "      <td>1399.546387</td>\n",
       "      <td>2889.684082</td>\n",
       "      <td>1437.755249</td>\n",
       "      <td>2828.743652</td>\n",
       "      <td>1506.837158</td>\n",
       "      <td>2779.269531</td>\n",
       "      <td>1469.53064</td>\n",
       "      <td>img_0115.tif</td>\n",
       "      <td>/home/matis/git-clone/pycopo-doc-web/source/_d...</td>\n",
       "    </tr>\n",
       "  </tbody>\n",
       "</table>\n",
       "<p>378 rows × 32 columns</p>\n",
       "</div>"
      ],
      "text/plain": [
       "     index poses detects      rvec                          tvec            \\\n",
       "                                 x         y         z         x         y   \n",
       "                                                                             \n",
       "1        1     1       0  1.103566 -0.078667  1.885849 -0.026778 -0.005759   \n",
       "2        2     2       1  -0.25767 -0.694493  2.356669 -0.006563 -0.005939   \n",
       "9        9     9       4   0.47126 -0.370985  2.138876 -0.018269 -0.043798   \n",
       "10      10    10       5 -1.000389 -0.965148   2.25778  0.001085 -0.044721   \n",
       "17      17    17       8  1.050641 -0.107987  1.917003 -0.026293 -0.005775   \n",
       "...    ...   ...     ...       ...       ...       ...       ...       ...   \n",
       "1998  1998  1998     999 -0.244637 -0.531736  0.833634 -0.019624 -0.015908   \n",
       "2001  2001  2001    1000 -1.004563 -1.319235 -2.295614  0.002927 -0.032986   \n",
       "2003  2003  2003    1001 -0.431048  0.181347 -2.335636    0.0041 -0.015785   \n",
       "2006  2006  2006    1003 -0.823899 -0.250302  0.916318  0.018226 -0.025892   \n",
       "2008  2008  2008    1004  0.369258 -0.761395  0.644886  0.017833 -0.005166   \n",
       "\n",
       "                    flag  ...          p2d                            \\\n",
       "             z     graph  ...           c0                        c1   \n",
       "               processed  ...            x            y            x   \n",
       "1     0.795778      True  ...  2544.101318  1444.704712  2529.856445   \n",
       "2     0.788194      True  ...  2712.738281  1447.889038  2642.476318   \n",
       "9     0.789579      True  ...  2627.951416   1158.92749  2579.474854   \n",
       "10    0.800939      True  ...  2743.412842  1166.369019    2687.8396   \n",
       "17    0.794175      True  ...  2550.127686  1444.506958  2532.173828   \n",
       "...        ...       ...  ...          ...          ...          ...   \n",
       "1998  0.777707      True  ...  2557.278809  1306.167358  2609.578857   \n",
       "2001  0.799528      True  ...  2729.369873  1268.298584  2664.787354   \n",
       "2003  0.779741      True  ...  2733.126953  1439.306519   2670.63623   \n",
       "2006  0.787021      True  ...  2836.290527  1248.925537  2892.291992   \n",
       "2008  0.785038      True  ...  2840.688965  1399.546387  2889.684082   \n",
       "\n",
       "                                                                       \\\n",
       "                            c2                        c3                \n",
       "                y            x            y            x            y   \n",
       "1     1506.913696  2464.308838  1454.584351  2477.799316  1392.204712   \n",
       "2     1507.457153  2591.752197  1447.837646  2662.632812  1388.084229   \n",
       "9     1226.341187  2503.689697  1174.544189  2551.637207  1106.521362   \n",
       "10    1223.912109  2674.770508  1162.726562  2730.772949  1104.881592   \n",
       "17    1506.823608  2464.617676   1454.46228  2481.895752  1391.767212   \n",
       "...           ...          ...          ...          ...          ...   \n",
       "1998  1377.598877  2549.151855  1438.129639  2496.450439  1366.586548   \n",
       "2001  1277.742188  2716.446289  1232.045532  2781.067139  1222.459351   \n",
       "2003  1374.662354  2731.525879  1307.232422   2794.18457  1372.196045   \n",
       "2006  1320.679932   2838.37085  1349.820557  2781.748047  1277.462158   \n",
       "2008  1437.755249  2828.743652  1506.837158  2779.269531   1469.53064   \n",
       "\n",
       "             image                                                     \n",
       "             fname                                               path  \n",
       "                                                                       \n",
       "1     img_0000.tif  /home/matis/git-clone/pycopo-doc-web/source/_d...  \n",
       "2     img_0000.tif  /home/matis/git-clone/pycopo-doc-web/source/_d...  \n",
       "9     img_0000.tif  /home/matis/git-clone/pycopo-doc-web/source/_d...  \n",
       "10    img_0000.tif  /home/matis/git-clone/pycopo-doc-web/source/_d...  \n",
       "17    img_0001.tif  /home/matis/git-clone/pycopo-doc-web/source/_d...  \n",
       "...            ...                                                ...  \n",
       "1998  img_0115.tif  /home/matis/git-clone/pycopo-doc-web/source/_d...  \n",
       "2001  img_0115.tif  /home/matis/git-clone/pycopo-doc-web/source/_d...  \n",
       "2003  img_0115.tif  /home/matis/git-clone/pycopo-doc-web/source/_d...  \n",
       "2006  img_0115.tif  /home/matis/git-clone/pycopo-doc-web/source/_d...  \n",
       "2008  img_0115.tif  /home/matis/git-clone/pycopo-doc-web/source/_d...  \n",
       "\n",
       "[378 rows x 32 columns]"
      ]
     },
     "execution_count": 10,
     "metadata": {},
     "output_type": "execute_result"
    }
   ],
   "source": [
    "batch.get_graph_data(plot_markers=False, criterion=0.15, atomic_cycle=True, deph_max=1)"
   ]
  },
  {
   "attachments": {},
   "cell_type": "markdown",
   "metadata": {},
   "source": [
    ">Once the bad poses cleaned-up, we calibrate our graph in specifying our central markers wich are the graph nodes the most related to the other.\n",
    "\n",
    ">Here the resulting graph from the whole process:"
   ]
  },
  {
   "cell_type": "code",
   "execution_count": 11,
   "metadata": {},
   "outputs": [
    {
     "ename": "TypeError",
     "evalue": "plot_graph() missing 1 required positional argument: 'data'",
     "output_type": "error",
     "traceback": [
      "\u001b[0;31m---------------------------------------------------------------------------\u001b[0m",
      "\u001b[0;31mTypeError\u001b[0m                                 Traceback (most recent call last)",
      "\u001b[1;32m/home/matis/git-clone/pycopo-doc-web/source/tutorial.ipynb Cell 35\u001b[0m in \u001b[0;36m<cell line: 2>\u001b[0;34m()\u001b[0m\n\u001b[1;32m      <a href='vscode-notebook-cell://wsl%2Bubuntu-20.04/home/matis/git-clone/pycopo-doc-web/source/tutorial.ipynb#X46sdnNjb2RlLXJlbW90ZQ%3D%3D?line=0'>1</a>\u001b[0m batch\u001b[39m.\u001b[39mgraph_calibration()\n\u001b[0;32m----> <a href='vscode-notebook-cell://wsl%2Bubuntu-20.04/home/matis/git-clone/pycopo-doc-web/source/tutorial.ipynb#X46sdnNjb2RlLXJlbW90ZQ%3D%3D?line=1'>2</a>\u001b[0m batch\u001b[39m.\u001b[39;49mplot_graph()\n",
      "File \u001b[0;32m~/git-clone/pycopo/pycopo/calibration.py:716\u001b[0m, in \u001b[0;36mImageBatchCalibration.plot_graph\u001b[0;34m(self, path)\u001b[0m\n\u001b[1;32m    712\u001b[0m \u001b[39mdef\u001b[39;00m \u001b[39mplot_graph\u001b[39m(\u001b[39mself\u001b[39m, path\u001b[39m=\u001b[39m\u001b[39mNone\u001b[39;00m):\n\u001b[1;32m    713\u001b[0m     \u001b[39m\"\"\"\u001b[39;00m\n\u001b[1;32m    714\u001b[0m \u001b[39m    Plots the graph.\u001b[39;00m\n\u001b[1;32m    715\u001b[0m \u001b[39m    \"\"\"\u001b[39;00m\n\u001b[0;32m--> 716\u001b[0m     pcp\u001b[39m.\u001b[39;49mutils\u001b[39m.\u001b[39;49mplot_graph(\u001b[39mself\u001b[39;49m\u001b[39m.\u001b[39;49mgraph, \u001b[39mself\u001b[39;49m\u001b[39m.\u001b[39;49mmultigraph, path\u001b[39m=\u001b[39;49mpath)\n",
      "\u001b[0;31mTypeError\u001b[0m: plot_graph() missing 1 required positional argument: 'data'"
     ]
    }
   ],
   "source": [
    "batch.graph_calibration()"
   ]
  },
  {
   "attachments": {},
   "cell_type": "markdown",
   "metadata": {},
   "source": [
    "> *green nodes: non-central marker poses | red nodes: image | blue nodes: central marker poses*"
   ]
  },
  {
   "cell_type": "code",
   "execution_count": 12,
   "metadata": {},
   "outputs": [
    {
     "name": "stdout",
     "output_type": "stream",
     "text": [
      "optimizing\t elapsed time : 4451.983\ts\r"
     ]
    },
    {
     "data": {
      "text/plain": [
       "(<Pycopo Composite Marker w. 20 markers>,\n",
       " <Pycopo Pose batch w. 90 entries>,\n",
       "  active_mask: array([0, 0, 0, 0, 0, 0, 0, 0, 0, 0, 0, 0, 0, 0, 0, 0, 0, 0, 0, 0, 0, 0,\n",
       "        0, 0, 0, 0, 0, 0, 0, 0, 0, 0, 0, 0, 0, 0, 0, 0, 0, 0, 0, 0, 0, 0,\n",
       "        0, 0, 0, 0, 0, 0, 0, 0, 0, 0, 0, 0, 0, 0, 0, 0, 0, 0, 0, 0, 0, 0,\n",
       "        0, 0, 0, 0, 0, 0, 0, 0, 0, 0, 0, 0, 0, 0, 0, 0, 0, 0, 0, 0, 0, 0,\n",
       "        0, 0, 0, 0, 0, 0, 0, 0, 0, 0, 0, 0, 0, 0, 0, 0, 0, 0, 0, 0, 0, 0,\n",
       "        0, 0, 0, 0, 0, 0, 0, 0, 0, 0, 0, 0, 0, 0, 0, 0, 0, 0, 0, 0, 0, 0,\n",
       "        0, 0, 0, 0, 0, 0, 0, 0, 0, 0, 0, 0, 0, 0, 0, 0, 0, 0, 0, 0, 0, 0,\n",
       "        0, 0, 0, 0, 0, 0, 0, 0, 0, 0, 0, 0, 0, 0, 0, 0, 0, 0, 0, 0, 0, 0,\n",
       "        0, 0, 0, 0, 0, 0, 0, 0, 0, 0, 0, 0, 0, 0, 0, 0, 0, 0, 0, 0, 0, 0,\n",
       "        0, 0, 0, 0, 0, 0, 0, 0, 0, 0, 0, 0, 0, 0, 0, 0, 0, 0, 0, 0, 0, 0,\n",
       "        0, 0, 0, 0, 0, 0, 0, 0, 0, 0, 0, 0, 0, 0, 0, 0, 0, 0, 0, 0, 0, 0,\n",
       "        0, 0, 0, 0, 0, 0, 0, 0, 0, 0, 0, 0, 0, 0, 0, 0, 0, 0, 0, 0, 0, 0,\n",
       "        0, 0, 0, 0, 0, 0, 0, 0, 0, 0, 0, 0, 0, 0, 0, 0, 0, 0, 0, 0, 0, 0,\n",
       "        0, 0, 0, 0, 0, 0, 0, 0, 0, 0, 0, 0, 0, 0, 0, 0, 0, 0, 0, 0, 0, 0,\n",
       "        0, 0, 0, 0, 0, 0, 0, 0, 0, 0, 0, 0, 0, 0, 0, 0, 0, 0, 0, 0, 0, 0,\n",
       "        0, 0, 0, 0, 0, 0, 0, 0, 0, 0, 0, 0, 0, 0, 0, 0, 0, 0, 0, 0, 0, 0,\n",
       "        0, 0, 0, 0, 0, 0, 0, 0, 0, 0, 0, 0, 0, 0, 0, 0, 0, 0, 0, 0, 0, 0,\n",
       "        0, 0, 0, 0, 0, 0, 0, 0, 0, 0, 0, 0, 0, 0, 0, 0, 0, 0, 0, 0, 0, 0,\n",
       "        0, 0, 0, 0, 0, 0, 0, 0, 0, 0, 0, 0, 0, 0, 0, 0, 0, 0, 0, 0, 0, 0,\n",
       "        0, 0, 0, 0, 0, 0, 0, 0, 0, 0, 0, 0, 0, 0, 0, 0, 0, 0, 0, 0, 0, 0,\n",
       "        0, 0, 0, 0, 0, 0, 0, 0, 0, 0, 0, 0, 0, 0, 0, 0, 0, 0, 0, 0, 0, 0,\n",
       "        0, 0, 0, 0, 0, 0, 0, 0, 0, 0, 0, 0, 0, 0, 0, 0, 0, 0, 0, 0, 0, 0,\n",
       "        0, 0, 0, 0, 0, 0, 0, 0, 0, 0, 0, 0, 0, 0, 0, 0, 0, 0, 0, 0, 0, 0,\n",
       "        0, 0, 0, 0, 0, 0, 0, 0, 0, 0, 0, 0, 0, 0, 0, 0, 0, 0, 0, 0, 0, 0,\n",
       "        0, 0, 0, 0, 0, 0, 0, 0, 0, 0, 0, 0, 0, 0, 0, 0, 0, 0, 0, 0, 0, 0,\n",
       "        0, 0, 0, 0, 0, 0, 0, 0, 0, 0, 0, 0, 0, 0, 0, 0, 0, 0, 0, 0, 0, 0,\n",
       "        0, 0, 0, 0, 0, 0, 0, 0, 0, 0, 0, 0, 0, 0, 0, 0, 0, 0, 0, 0, 0, 0,\n",
       "        0, 0, 0, 0, 0, 0, 0, 0, 0, 0, 0, 0, 0, 0, 0, 0, 0, 0, 0, 0, 0, 0,\n",
       "        0, 0, 0, 0, 0, 0, 0, 0, 0, 0, 0, 0, 0, 0, 0, 0, 0, 0, 0, 0, 0, 0,\n",
       "        0, 0, 0, 0, 0, 0, 0, 0, 0, 0, 0, 0, 0, 0, 0, 0])\n",
       "         cost: 36.310571325773786\n",
       "          fun: array([-0.03123605, -0.0487377 ,  0.06929911, ..., -0.11816372,\n",
       "        -0.09192481,  0.00134426])\n",
       "         grad: array([-1.19266419e-05, -2.12771720e-05, -4.36145077e-05,  1.91603538e-05,\n",
       "         8.72248592e-07, -1.55567554e-05,  5.29446739e-06,  2.28702914e-05,\n",
       "         2.29692631e-07,  3.69750635e-05,  9.90053725e-06, -1.39318293e-04,\n",
       "         2.11429048e-05, -3.05651184e-07,  2.80631733e-05, -2.13343535e-05,\n",
       "        -1.61447724e-05,  3.12148778e-05, -3.53170520e-05, -1.89709477e-05,\n",
       "         3.96533814e-05, -7.75836358e-07, -1.88188596e-05,  5.15362265e-05,\n",
       "         1.62079767e-05,  1.92469674e-05,  1.37149523e-05, -1.14601322e-05,\n",
       "         9.34711080e-06, -1.21888421e-05, -4.74808333e-06, -3.88123899e-06,\n",
       "         9.30140673e-06, -2.70620639e-05, -2.95987654e-05, -7.19634412e-05,\n",
       "         2.43520805e-05,  2.05944670e-05,  1.30862048e-05, -2.69734094e-05,\n",
       "         5.79254902e-08, -9.78665472e-07, -2.87613501e-05,  9.05188074e-06,\n",
       "        -2.07233942e-05, -1.45313372e-05,  1.78500030e-05, -1.77615731e-05,\n",
       "        -1.70331633e-06,  5.09668560e-06, -9.13344678e-06, -1.34471837e-05,\n",
       "         2.23504454e-05, -3.98986244e-05,  1.78497265e-05,  1.66457817e-05,\n",
       "        -9.95412826e-07,  1.44178151e-03,  6.61110205e-04,  1.56146973e-03,\n",
       "         2.45363566e-03,  3.30601952e-04,  4.61275176e-05,  6.54232848e-04,\n",
       "        -1.47789609e-03,  1.05599518e-05, -1.34774045e-03,  3.19389576e-03,\n",
       "         2.99431698e-04,  2.05690108e-04, -4.23018766e-04,  6.76404698e-04,\n",
       "        -6.38980528e-05, -1.37990508e-04, -1.89410843e-04,  1.28162561e-03,\n",
       "         1.30784576e-02,  1.09719330e-03, -1.24543135e-02, -1.81207351e-04,\n",
       "         5.91382806e-04,  7.20084083e-04, -5.76378217e-04,  9.33901872e-04,\n",
       "        -7.44669594e-04,  7.47035766e-04, -4.28218889e-04, -2.15516770e-03,\n",
       "         9.82356552e-04,  6.31003209e-04,  2.38522585e-04,  6.08508398e-04,\n",
       "        -1.72032925e-04,  1.63967618e-03,  3.95578596e-03,  1.56382347e-03,\n",
       "         1.08845951e-02,  3.45606244e-03, -7.12867830e-04,  3.58903801e-04,\n",
       "        -6.00342344e-04,  6.73511615e-05, -6.66576616e-04, -4.81478015e-03,\n",
       "        -9.29944280e-04,  5.56231355e-03,  5.51939962e-04,  2.50803614e-04,\n",
       "        -6.60587616e-04, -6.53136448e-04, -4.56281802e-04,  1.11732257e-04,\n",
       "        -1.74963634e-04, -3.54796545e-04, -2.79863960e-05,  1.36138314e-05,\n",
       "         4.12570640e-05, -5.49769057e-05,  1.95716432e-05, -2.13729436e-05,\n",
       "        -2.09906881e-05,  3.24157920e-05,  3.81202736e-06, -4.42371262e-06,\n",
       "         4.14771140e-05,  1.79309648e-05, -2.50197870e-05,  3.21322750e-05,\n",
       "         3.73193597e-05, -1.96565728e-05,  2.88037960e-05,  1.96811181e-05,\n",
       "         1.16811869e-05,  6.83373654e-05,  7.38770584e-05,  1.00785384e-05,\n",
       "        -2.12219322e-05, -1.12829638e-05,  1.05618436e-05, -1.72852494e-05,\n",
       "        -5.56810813e-06,  1.35863290e-05, -1.46301445e-05,  1.60846682e-05,\n",
       "         1.14467411e-05, -1.97535328e-05,  1.04083103e-05,  9.53844538e-06,\n",
       "        -2.05666449e-05, -2.95412414e-06,  1.96177558e-05, -5.75161993e-06,\n",
       "        -2.17015458e-05,  4.16408418e-05,  3.85936268e-05, -3.84596825e-05,\n",
       "         4.46072373e-06,  2.04222871e-05, -3.85260470e-05,  1.53558845e-05,\n",
       "         5.32041463e-05, -1.98252085e-05, -2.71235917e-05, -3.25564554e-05,\n",
       "         1.99998381e-05,  1.80876027e-06,  6.22785828e-05, -2.82187893e-05,\n",
       "         4.14843512e-05,  8.72721307e-04,  2.78170588e-04, -1.15237766e-05,\n",
       "        -7.49490638e-05, -1.30664793e-05, -3.05811176e-06, -2.40695560e-05,\n",
       "        -3.70141024e-05, -4.56920353e-06,  7.33053866e-07, -3.89905159e-05,\n",
       "         1.06360630e-05,  2.22306602e-05, -1.74374991e-05,  1.78102141e-06,\n",
       "         1.23872066e-05, -9.28445573e-06,  8.67222066e-06,  2.97466172e-06,\n",
       "         2.94845306e-06, -9.79540390e-06, -1.89394175e-05, -1.01823295e-05,\n",
       "        -1.23567766e-06,  9.47790922e-06,  6.44670273e-06,  4.88841860e-05,\n",
       "        -1.48209785e-07,  1.71306759e-05,  2.47587263e-05, -4.41048201e-06,\n",
       "        -1.52364663e-08,  5.80161559e-06, -3.63766908e-06,  4.16540652e-06,\n",
       "        -1.87138761e-05, -8.77282955e-06,  2.37903414e-06, -1.74091640e-04,\n",
       "        -1.55398221e-05, -4.25194181e-04, -1.22487842e-04, -4.07416279e-05,\n",
       "        -4.30065980e-05,  5.13469891e-05, -2.30937744e-06,  2.13301464e-05,\n",
       "        -1.02204189e-04,  3.22283520e-06, -1.11396117e-05,  1.20378629e-05,\n",
       "        -1.91081117e-07,  7.16196706e-05,  1.08404961e-04,  1.38001492e-05,\n",
       "         4.58275338e-05, -4.59692524e-04,  2.75056197e-06, -3.83638758e-05,\n",
       "        -4.30708244e-05,  2.78412825e-05,  7.35249121e-05,  2.31618993e-05,\n",
       "        -1.97772328e-05, -8.93609788e-06, -9.60420428e-06, -8.98385865e-06,\n",
       "        -4.74310020e-05,  2.38744918e-05, -1.19763942e-05,  6.13483835e-06,\n",
       "         1.66977060e-06, -1.16240416e-05, -1.39615248e-05, -1.67138203e-05,\n",
       "         6.57614031e-06, -2.22800082e-05,  8.67126229e-07, -5.85525866e-06,\n",
       "         9.12151981e-06, -2.92923982e-06, -2.07438707e-05, -3.17101585e-05,\n",
       "         1.02377177e-05, -1.37158267e-05, -1.77565432e-05,  7.41850765e-06,\n",
       "        -1.14088936e-05, -3.31459208e-06, -1.87103025e-06, -4.82029748e-06,\n",
       "         1.11657595e-05,  1.66544634e-05, -1.65904276e-05,  1.57614080e-06,\n",
       "         1.80192101e-05, -7.53266462e-06,  1.14306866e-06,  8.20747747e-06,\n",
       "        -1.71509791e-05, -2.50348080e-07,  3.26296745e-05,  5.36863486e-06,\n",
       "         1.02027293e-05,  3.28504015e-05,  2.48555167e-05,  2.02638714e-05,\n",
       "         1.94569247e-05, -1.79254792e-04, -9.95427342e-07, -2.07657539e-05,\n",
       "        -2.67699614e-05,  1.95170843e-05,  1.15453694e-05, -2.86285788e-05,\n",
       "         4.54396065e-06,  1.49637219e-05, -5.36357524e-05,  1.04454277e-05,\n",
       "        -1.17671763e-05,  1.25978368e-05, -6.11568210e-06, -2.51443903e-05,\n",
       "        -6.88071024e-05, -2.45540045e-05, -5.93010584e-06, -9.80874437e-06,\n",
       "        -1.77725565e-06, -8.31088767e-06,  9.77321968e-06,  1.96611181e-05,\n",
       "        -1.86767572e-05, -1.06784850e-05,  2.80165071e-05, -3.40248270e-06,\n",
       "         3.80448107e-05,  1.43319916e-05,  2.29796088e-06, -4.05174741e-05,\n",
       "        -2.04304117e-05,  8.88109917e-06, -1.37765984e-05,  2.72204674e-05,\n",
       "         3.59894359e-05, -1.40914392e-05,  1.45080394e-05,  3.31120583e-05,\n",
       "        -3.05297018e-05, -1.78377252e-05,  2.62587210e-05,  1.17922610e-05,\n",
       "         3.36685941e-05,  5.89432298e-05,  8.55315079e-06,  2.11077578e-05,\n",
       "         5.28782548e-05, -7.00647092e-06,  3.76415178e-05,  7.30952890e-06,\n",
       "        -1.84472658e-05, -1.56075025e-04,  3.06233391e-05,  4.31269674e-05,\n",
       "         1.00408054e-04, -1.26218591e-05,  1.56058868e-05, -4.33617477e-06,\n",
       "        -8.45622273e-05, -1.24346882e-05, -3.99403962e-04, -1.16546258e-04,\n",
       "        -2.34614470e-05, -4.48905496e-04,  1.08825148e-04,  1.03945439e-04,\n",
       "         1.85962125e-04,  3.24518970e-05,  3.24421589e-05,  7.76591568e-05,\n",
       "         4.46969015e-05, -8.86533894e-06,  6.64339667e-06,  1.02351358e-04,\n",
       "        -1.96859847e-04, -1.30267830e-04,  2.78435356e-05,  3.75431496e-05,\n",
       "        -1.55159874e-04, -5.06864594e-05,  2.97386851e-04, -6.61912256e-05,\n",
       "        -3.09298524e-04,  2.47810896e-04,  2.35766636e-04, -3.57268461e-06,\n",
       "        -1.35542131e-05,  1.19803993e-05, -1.34217235e-05,  3.09496254e-05,\n",
       "         2.21871389e-05, -1.43007051e-05, -4.26306866e-05,  1.06563552e-04,\n",
       "         5.20592801e-05, -1.72788014e-04,  2.97232540e-05, -1.03920889e-05,\n",
       "        -2.72099955e-06,  1.34925141e-06,  4.38362722e-06,  3.07513950e-05,\n",
       "         2.13860071e-05, -3.49522113e-05, -1.40566504e-05, -7.85399705e-06,\n",
       "         2.30353570e-04, -1.61869462e-04, -3.47977044e-05, -1.98910281e-04,\n",
       "        -3.33158821e-04, -3.24337551e-05,  1.60080632e-04, -1.74995901e-04,\n",
       "        -2.53903748e-05, -8.67474516e-05, -2.14648491e-04, -3.29801227e-05,\n",
       "        -2.14589930e-04, -1.82548678e-04, -2.55078184e-05,  3.98631239e-04,\n",
       "        -4.26242991e-05, -2.18476884e-05,  2.61314822e-05, -3.55624044e-04,\n",
       "        -1.83872752e-05,  1.05547497e-04, -1.97392882e-04, -1.48731173e-05,\n",
       "         1.38075892e-04, -2.45185747e-04, -1.24893011e-05,  1.58414203e-04,\n",
       "        -1.39753731e-04, -6.13587547e-06,  1.34231208e-04, -1.36675267e-04,\n",
       "        -1.03508585e-05,  8.91762980e-05, -2.43543066e-04, -8.72823634e-06,\n",
       "         5.02749240e-04, -2.23287024e-04,  2.60786997e-05, -2.30310892e-04,\n",
       "        -8.13234583e-05, -1.71976573e-05, -4.35575672e-05,  1.61977014e-04,\n",
       "         1.22065273e-05, -3.59666323e-04, -1.54641927e-04, -2.43509227e-06,\n",
       "        -6.20985238e-05, -1.41821769e-04,  4.95586246e-05, -1.57611731e-04,\n",
       "         6.99244804e-05, -8.45836311e-06, -6.98782940e-05, -1.78361329e-05,\n",
       "        -4.99968904e-05,  1.91283939e-04, -1.32556444e-04,  4.68348248e-05,\n",
       "         8.50332526e-05,  1.19544998e-04,  5.48527785e-05,  7.35256443e-04,\n",
       "         1.55130977e-04,  3.11632583e-05, -4.17378633e-04, -5.12565082e-05,\n",
       "        -2.81502307e-06, -2.42200422e-04, -7.19149161e-05, -4.86488435e-06,\n",
       "         1.19772163e-04,  1.07812244e-04,  2.87524796e-06, -5.28252574e-04,\n",
       "        -5.90719169e-05, -1.60999897e-05,  6.49181782e-04, -7.39438470e-05,\n",
       "        -9.67322265e-06, -3.08860590e-05,  1.61455433e-04, -1.67541123e-05,\n",
       "         4.05317184e-04,  1.81468967e-04,  9.45838454e-06, -1.15583241e-04,\n",
       "         4.07269192e-06, -5.08159713e-06, -3.88331038e-03,  5.20538470e-06,\n",
       "        -3.71137922e-05,  5.78982217e-02,  2.57432950e-04,  2.21765765e-04,\n",
       "         4.67575387e-03, -1.17738462e-04, -2.69256912e-05,  3.31590336e-03,\n",
       "         1.55743580e-04, -9.99498991e-06, -2.45418703e-03,  4.07674538e-05,\n",
       "        -3.11527311e-05,  1.79156826e-04, -5.06623919e-05, -2.02102515e-05,\n",
       "         1.97074307e-04, -5.94195672e-05, -1.43865005e-05, -2.45254689e-03,\n",
       "        -6.26157200e-05, -2.92996729e-05, -1.77535831e-04,  1.93619753e-05,\n",
       "        -3.26607014e-05,  1.21728127e-03,  1.54039426e-04,  2.56957836e-06,\n",
       "        -5.75569465e-04, -1.09944346e-04, -1.04568303e-05,  1.37730625e-03,\n",
       "        -3.00617452e-05,  2.26969139e-06, -2.00399676e-04,  2.19907637e-04,\n",
       "        -8.20869156e-06, -1.80029307e-03,  5.07790837e-05, -5.65012407e-06,\n",
       "         7.52930393e-04,  1.32490249e-04,  8.69007988e-06, -9.10359076e-05,\n",
       "        -2.61447834e-05, -1.84198117e-05, -4.67052421e-04, -1.16088951e-04,\n",
       "        -8.63439297e-06, -2.20360417e-04, -1.68277061e-05, -1.10068823e-05,\n",
       "        -1.86735511e-04, -1.67160318e-04, -7.43692814e-06,  4.56469117e-04,\n",
       "         1.31192935e-05, -2.63785499e-06,  2.25353994e-04,  2.27285593e-04,\n",
       "        -8.55202529e-07,  6.70053957e-04, -3.36539704e-05, -7.27327597e-06,\n",
       "        -6.74371464e-04,  2.57367969e-04,  2.97378313e-06, -1.15086836e-03,\n",
       "        -3.07061748e-04,  1.52652366e-05,  2.19228511e-03, -2.34647561e-04,\n",
       "         4.20404729e-05, -8.99092121e-04, -2.92736112e-04,  5.71162198e-06,\n",
       "         4.16746243e-04, -1.43347281e-04,  1.30867013e-05,  3.40420444e-04,\n",
       "        -2.06081573e-04,  1.93369499e-06, -3.67171633e-04, -3.13269778e-04,\n",
       "         2.88408804e-05,  1.34264620e-03, -6.06200358e-05,  2.53780867e-05,\n",
       "         4.02289077e-04, -1.86945133e-04,  2.66843449e-05, -8.96354063e-04,\n",
       "        -2.19390803e-04, -8.69209219e-06, -2.68304259e-04, -2.13524652e-04,\n",
       "        -1.03354492e-05, -1.77272578e-03, -5.01851461e-04, -1.44775720e-05,\n",
       "         4.98939053e-04, -6.78267729e-05, -2.53781320e-06,  2.39071568e-04,\n",
       "        -2.22035226e-04, -1.64424543e-05,  1.22812955e-04, -2.27383463e-04,\n",
       "        -9.77565927e-06,  7.02247871e-04, -1.16605257e-04,  1.49520069e-06,\n",
       "        -3.18646250e-04, -4.73150587e-04, -2.59499570e-05, -1.32553192e-04,\n",
       "        -1.98210702e-04, -1.08122151e-05,  3.86567888e-04, -2.15887212e-05,\n",
       "        -2.02333389e-05,  5.73660132e-04, -9.55233904e-05, -2.06599947e-05,\n",
       "        -7.72719163e-05, -4.07358245e-04, -4.45726625e-05,  2.80624112e-04,\n",
       "        -2.16988064e-04, -3.22083540e-05,  7.14929947e-05, -1.45791896e-04,\n",
       "        -3.65429221e-05,  7.10612125e-06, -2.24384585e-04, -3.90239968e-05,\n",
       "        -2.69989826e-04, -2.52543092e-04, -3.83748562e-05,  5.74690144e-04,\n",
       "         3.81386215e-03, -7.09065992e-06, -1.50741388e-04,  1.45884040e-03,\n",
       "        -5.22009161e-05,  1.54000534e-04, -4.35741072e-03,  3.23230704e-04,\n",
       "        -1.62084193e-04, -6.64570032e-04,  4.08092307e-05, -1.44827961e-04,\n",
       "         1.63400107e-05, -2.43850436e-04,  3.54644550e-04, -2.23611283e-03,\n",
       "        -2.85887938e-04, -3.63727190e-04, -2.40072053e-03, -1.40801162e-04,\n",
       "         2.91982436e-04, -2.38030166e-04, -2.06269402e-04,  8.98753189e-04,\n",
       "         4.03462535e-04, -1.71913682e-04, -1.35242946e-02, -3.26347238e-03,\n",
       "        -8.96372033e-05,  2.65608858e-03,  6.25207170e-03,  5.86408898e-05,\n",
       "         7.74048882e-04,  4.00031297e-03, -2.76394556e-06, -2.72150571e-05,\n",
       "        -1.41070210e-04, -8.55201296e-06])\n",
       "          jac: array([[-2.66604380e+01, -1.35331461e+01, -1.42095806e+01, ...,\n",
       "          0.00000000e+00,  0.00000000e+00,  0.00000000e+00],\n",
       "        [-2.32653048e+01, -1.95253130e+01,  4.96862692e+01, ...,\n",
       "          0.00000000e+00,  0.00000000e+00,  0.00000000e+00],\n",
       "        [ 3.18218908e+01, -1.66418523e+01, -1.29842194e+01, ...,\n",
       "          0.00000000e+00,  0.00000000e+00,  0.00000000e+00],\n",
       "        ...,\n",
       "        [ 0.00000000e+00,  0.00000000e+00,  0.00000000e+00, ...,\n",
       "         -1.07860717e-01,  7.42641112e+03, -1.83976105e+01],\n",
       "        [ 0.00000000e+00,  0.00000000e+00,  0.00000000e+00, ...,\n",
       "          7.51293539e+03,  1.03825523e-01, -9.95659639e+01],\n",
       "        [ 0.00000000e+00,  0.00000000e+00,  0.00000000e+00, ...,\n",
       "          1.03825541e-01,  7.51326187e+03,  2.89809432e+01]])\n",
       "      message: '`ftol` termination condition is satisfied.'\n",
       "         nfev: 7867\n",
       "         njev: None\n",
       "   optimality: 0.057898221739606015\n",
       "       status: 2\n",
       "      success: True\n",
       "            x: array([-4.92663836e-01, -2.08375980e+00,  2.25242084e+00,  1.85551246e+00,\n",
       "         2.36751936e+00, -8.84362024e-01, -1.14614689e+00, -2.36403757e+00,\n",
       "         1.63886084e+00,  2.21188139e+00,  2.21954400e+00, -1.35827463e-02,\n",
       "         9.93015506e-01, -9.50959444e-01,  2.73620171e+00, -3.84085195e-01,\n",
       "         4.15528708e-01,  3.32091878e-01,  1.62007905e+00, -2.59353769e-01,\n",
       "         2.64368027e+00,  2.60359813e-01, -1.60754159e+00,  2.63282903e+00,\n",
       "        -2.11583013e+00, -4.16405727e-01, -2.25031613e+00,  3.91329657e-01,\n",
       "        -4.03595630e-01, -2.99134069e-01, -7.63345999e-01,  8.29758379e-01,\n",
       "         6.03899224e-01, -1.62384469e+00,  1.74732054e-02, -3.75021871e-01,\n",
       "         2.38077024e+00,  1.17648466e+00,  1.64867546e+00, -1.54556806e+00,\n",
       "         1.62229700e+00,  1.13151591e+00,  1.92610372e+00, -2.02569378e+00,\n",
       "        -1.41459825e+00,  1.57622247e+00, -1.59392963e+00, -1.14713306e+00,\n",
       "         1.16721263e+00, -1.20819348e+00, -8.62366262e-01,  7.55602756e-01,\n",
       "        -8.20498591e-01, -5.34566925e-01, -1.24803973e+00,  2.27092330e-01,\n",
       "         1.66177433e+00, -1.56070280e-02,  4.16908620e-02,  3.44353873e-02,\n",
       "        -1.47685149e-02,  3.14062580e-02,  5.23520999e-02,  1.07390649e-02,\n",
       "         1.33136677e-02,  2.79792885e-02,  1.88428910e-03, -2.79194111e-03,\n",
       "         3.86922474e-02, -3.21464942e-02,  3.44411583e-02,  2.37581759e-02,\n",
       "        -2.99924420e-02,  1.60462683e-02,  2.02933464e-02, -1.53869032e-02,\n",
       "         6.81564690e-04,  9.40920884e-03, -4.17977141e-04,  1.54059863e-02,\n",
       "         9.31886876e-03, -4.09156184e-02,  1.89546601e-02,  3.47642834e-02,\n",
       "        -1.52854732e-02,  3.00729937e-02,  1.96587754e-02, -7.95971419e-03,\n",
       "        -1.56878960e-02,  1.08675460e-02, -2.85271542e-02,  5.37658411e-03,\n",
       "         3.78041126e-02, -1.38143304e-02, -1.01586203e-02,  2.72321723e-02,\n",
       "         2.38312436e-03, -1.78357012e-02,  2.88215431e-02, -1.18016482e-02,\n",
       "         1.34872490e-02,  4.92335805e-02,  1.77423091e-02, -3.28928023e-03,\n",
       "         2.91210209e-02, -3.87011914e-03,  2.94992956e-02,  3.80768387e-02,\n",
       "         1.62638408e-02,  7.61665361e-03,  1.08962344e-02,  1.18681301e-02,\n",
       "        -1.48608060e-02,  1.12280599e-02, -9.88121539e-01,  1.81528909e+00,\n",
       "        -3.47860681e-02, -9.78364469e-01,  1.76414266e+00, -6.09938249e-02,\n",
       "        -9.69371860e-01,  1.71123245e+00, -8.89024423e-02, -9.57919414e-01,\n",
       "         1.64881801e+00, -1.21781698e-01, -9.46638118e-01,  1.59612735e+00,\n",
       "        -1.46891760e-01, -9.33259154e-01,  1.53399031e+00, -1.76223410e-01,\n",
       "        -9.22060021e-01,  1.48016459e+00, -2.03048789e-01, -9.07806520e-01,\n",
       "         1.41850042e+00, -2.30133842e-01, -8.95972663e-01,  1.36543336e+00,\n",
       "        -2.54679545e-01, -8.79808576e-01,  1.30250183e+00, -2.80749684e-01,\n",
       "        -8.68934026e-01,  1.24900081e+00, -3.05395865e-01, -8.51774292e-01,\n",
       "         1.18548395e+00, -3.31928164e-01, -8.38983143e-01,  1.12990680e+00,\n",
       "        -3.56134096e-01, -8.05017442e-01,  1.00884314e+00, -4.00827619e-01,\n",
       "        -5.77814911e-01,  2.38056850e-01, -6.61734045e-01, -5.58035423e-01,\n",
       "         1.84758208e-01, -6.76063958e-01, -5.32459450e-01,  1.24609327e-01,\n",
       "        -6.89885142e-01, -5.15453493e-01,  6.62711160e-02, -7.06377843e-01,\n",
       "        -4.91130302e-01,  7.42029951e-03, -7.19451169e-01, -4.70400055e-01,\n",
       "        -4.74819528e-02, -7.32436458e-01, -4.45480943e-01, -1.10915857e-01,\n",
       "        -7.47654640e-01, -3.96984713e-01, -2.29195645e-01, -7.74892595e-01,\n",
       "        -3.73796824e-01, -2.82368350e-01, -7.86293660e-01, -3.50556438e-01,\n",
       "        -3.47244994e-01, -7.98633237e-01, -3.28181418e-01, -4.00770938e-01,\n",
       "        -8.09144787e-01, -3.01269044e-01, -4.65211979e-01, -8.21105364e-01,\n",
       "        -2.81540159e-01, -5.18779648e-01, -8.29657690e-01, -2.54959096e-01,\n",
       "        -5.84298535e-01, -8.40223547e-01, -2.32206851e-01, -6.37506547e-01,\n",
       "        -8.48212424e-01, -2.04087903e-01, -7.02290423e-01, -8.58064884e-01,\n",
       "        -1.81248833e-01, -7.55118543e-01, -8.65132362e-01, -1.51466232e-01,\n",
       "        -8.18866386e-01, -8.73804793e-01, -1.27058869e-01, -8.72086135e-01,\n",
       "        -8.80510689e-01, -9.82442890e-02, -9.36211789e-01, -8.87597234e-01,\n",
       "        -7.35838364e-02, -9.88317467e-01, -8.93261654e-01, -4.28551802e-02,\n",
       "        -1.05247451e+00, -8.99400042e-01, -1.92045190e-02, -1.10552004e+00,\n",
       "        -9.03188474e-01,  1.17394083e-02, -1.17016736e+00, -9.07890321e-01,\n",
       "         3.42048994e-02, -1.22304094e+00, -9.09688488e-01,  7.28607213e-02,\n",
       "        -1.28323076e+00, -9.17467942e-01,  9.74207140e-02, -1.33749678e+00,\n",
       "        -9.18369565e-01,  1.29343543e-01, -1.39964552e+00, -9.20741373e-01,\n",
       "         1.56871837e-01, -1.45146271e+00, -9.22360309e-01,  1.89897320e-01,\n",
       "        -1.51506308e+00, -9.23346288e-01,  2.17468864e-01, -1.56648280e+00,\n",
       "        -9.23304980e-01,  2.52780851e-01, -1.62887187e+00, -9.24420953e-01,\n",
       "         2.81045156e-01, -1.68220141e+00, -9.22838838e-01,  3.15331885e-01,\n",
       "        -1.74513152e+00, -9.20337630e-01,  3.44852865e-01, -1.79517526e+00,\n",
       "        -9.19244832e-01,  3.81000398e-01, -1.85817664e+00, -9.15907824e-01,\n",
       "         4.11127902e-01, -1.90981297e+00, -9.13182060e-01,  4.46841138e-01,\n",
       "        -1.97176282e+00, -9.07242737e-01,  4.77942032e-01, -2.02583412e+00,\n",
       "        -9.00318961e-01,  8.09453874e-01, -2.53644588e+00, -8.15770484e-01,\n",
       "         9.21304714e-01, -2.69279943e+00, -7.65615401e-01,  9.65484500e-01,\n",
       "        -2.75090834e+00, -7.45298098e-01,  1.00419713e+00, -2.79940015e+00,\n",
       "        -7.29400952e-01,  1.04768315e+00, -2.85462653e+00, -7.08468608e-01,\n",
       "        -1.06494357e+00,  2.84452025e+00,  6.66306688e-01, -1.06770021e+00,\n",
       "         2.78612905e+00,  6.20039295e-01, -1.06938313e+00,  2.73811806e+00,\n",
       "         5.78795514e-01, -1.06988147e+00,  2.68121899e+00,  5.33314087e-01,\n",
       "        -1.07036935e+00,  2.63303396e+00,  4.93070540e-01, -1.06997200e+00,\n",
       "         2.57423912e+00,  4.46760322e-01, -1.06857396e+00,  2.52546558e+00,\n",
       "         4.08636669e-01, -1.06625180e+00,  2.46571452e+00,  3.65751436e-01,\n",
       "        -1.06382304e+00,  2.41579821e+00,  3.28744197e-01, -1.06097450e+00,\n",
       "         2.35760186e+00,  2.83380033e-01, -1.05540469e+00,  2.30050357e+00,\n",
       "         2.49859221e-01, -1.04950809e+00,  2.23849996e+00,  2.09821743e-01,\n",
       "        -1.04472530e+00,  2.18961242e+00,  1.78548404e-01, -1.02748414e+00,\n",
       "         2.07064988e+00,  1.11666130e-01, -1.02042908e+00,  2.01187516e+00,\n",
       "         7.49342169e-02, -1.01295146e+00,  1.96012383e+00,  4.49329170e-02,\n",
       "        -1.00254221e+00,  1.89752262e+00,  1.11928441e-02, -9.93733297e-01,\n",
       "         1.84632345e+00, -1.68685093e-02, -9.88938863e-01,  1.81579527e+00,\n",
       "        -3.35212881e-02,  8.04261030e-01,  2.23401969e+00, -5.16227540e-01,\n",
       "         8.14477833e-01,  2.01795741e+00, -4.06186107e-01,  8.16359351e-01,\n",
       "         1.78239531e+00, -2.90556692e-01,  8.11131670e-01,  1.54854146e+00,\n",
       "        -1.77763180e-01,  7.96587808e-01,  1.31317052e+00, -7.27737578e-02,\n",
       "         7.74186765e-01,  1.07757829e+00,  2.73885849e-02,  7.08826068e-01,\n",
       "         6.04082428e-01,  2.13580789e-01,  6.66865520e-01,  3.66061901e-01,\n",
       "         3.00841994e-01,  6.12564133e-01,  1.32141053e-01,  3.81056530e-01,\n",
       "         5.57453794e-01, -1.06744889e-01,  4.58121066e-01,  4.95614961e-01,\n",
       "        -3.44863661e-01,  5.29704467e-01,  4.27673612e-01, -5.82566916e-01,\n",
       "         5.96997128e-01,  3.72262645e-01, -7.60698870e-01,  6.44358940e-01,\n",
       "        -3.06825081e-02, -5.69857184e-02,  8.17537208e-01, -3.14623937e-02,\n",
       "        -5.70185143e-02,  8.16520553e-01, -3.21997524e-02, -5.70064652e-02,\n",
       "         8.15557290e-01, -3.30224773e-02, -5.69823660e-02,  8.14150108e-01,\n",
       "        -3.36228132e-02, -5.70241462e-02,  8.12924497e-01, -3.42327605e-02,\n",
       "        -5.70411469e-02,  8.11591784e-01, -3.47290092e-02, -5.70315461e-02,\n",
       "         8.10346572e-01, -3.51237733e-02, -5.70536270e-02,  8.08340403e-01,\n",
       "        -3.54209040e-02, -5.70631680e-02,  8.07183463e-01, -3.56565916e-02,\n",
       "        -5.71267510e-02,  8.05724476e-01, -3.57826406e-02, -5.71067454e-02,\n",
       "         8.04353992e-01, -3.58666358e-02, -5.71136392e-02,  8.02459179e-01,\n",
       "        -3.58479339e-02, -5.71264608e-02,  8.01675487e-01, -3.55027332e-02,\n",
       "        -5.72869625e-02,  8.00003465e-01, -2.51119321e-02, -5.76577008e-02,\n",
       "         7.84098337e-01, -2.39559365e-02, -5.76495859e-02,  7.83013535e-01,\n",
       "        -2.25375323e-02, -5.76442979e-02,  7.81730534e-01, -2.13337520e-02,\n",
       "        -5.77055458e-02,  7.81831707e-01, -1.98379172e-02, -5.76876444e-02,\n",
       "         7.80596902e-01, -1.85622095e-02, -5.77148331e-02,  7.80360390e-01,\n",
       "        -1.70500971e-02, -5.78048724e-02,  7.81213701e-01, -1.41450770e-02,\n",
       "        -5.77635664e-02,  7.79589971e-01, -1.28150867e-02, -5.77865947e-02,\n",
       "         7.79501624e-01, -1.12371239e-02, -5.77987494e-02,  7.79474606e-01,\n",
       "        -9.92606849e-03, -5.78128834e-02,  7.79592823e-01, -8.36270155e-03,\n",
       "        -5.78347356e-02,  7.79957724e-01, -7.07373854e-03, -5.78561267e-02,\n",
       "         7.80223774e-01, -5.54274830e-03, -5.78657447e-02,  7.80656119e-01,\n",
       "        -4.30044122e-03, -5.78656864e-02,  7.81095683e-01, -2.82068748e-03,\n",
       "        -5.78334607e-02,  7.80821071e-01, -1.66236511e-03, -5.78778128e-02,\n",
       "         7.82318199e-01, -2.82540323e-04, -5.78865094e-02,  7.83172514e-01,\n",
       "         8.08209588e-04, -5.78824483e-02,  7.83691180e-01,  2.06810906e-03,\n",
       "        -5.78848111e-02,  7.84710370e-01,  3.06488194e-03, -5.78877693e-02,\n",
       "         7.85569652e-01,  4.20779530e-03, -5.78824482e-02,  7.86584937e-01,\n",
       "         5.08565193e-03, -5.78788376e-02,  7.87637246e-01,  6.06776053e-03,\n",
       "        -5.78720715e-02,  7.88677502e-01,  6.81297543e-03, -5.78006706e-02,\n",
       "         7.88928372e-01,  7.66847865e-03, -5.78697460e-02,  7.91149342e-01,\n",
       "         8.26935240e-03, -5.78403868e-02,  7.92382321e-01,  8.94171531e-03,\n",
       "        -5.78330805e-02,  7.93834236e-01,  9.41702562e-03, -5.78174729e-02,\n",
       "         7.94900132e-01,  9.87459151e-03, -5.78041402e-02,  7.96627155e-01,\n",
       "         1.01958177e-02, -5.77939400e-02,  7.98000568e-01,  1.04673462e-02,\n",
       "        -5.78067693e-02,  7.99498364e-01,  1.05914407e-02, -5.77768901e-02,\n",
       "         8.00839643e-01,  1.06757689e-02, -5.77456106e-02,  8.02550507e-01,\n",
       "         1.06721730e-02, -5.77497226e-02,  8.03645545e-01,  1.05419611e-02,\n",
       "        -5.77254619e-02,  8.05288732e-01,  1.03572464e-02, -5.77183033e-02,\n",
       "         8.06612083e-01,  1.00388766e-02, -5.76735161e-02,  8.08138806e-01,\n",
       "         9.64554828e-03, -5.76239901e-02,  8.09704043e-01,  2.42463562e-03,\n",
       "        -5.75360686e-02,  8.20142061e-01, -9.82185005e-04, -5.73912131e-02,\n",
       "         8.23112405e-01, -2.38523543e-03, -5.73558229e-02,  8.24136495e-01,\n",
       "        -3.61262633e-03, -5.73674880e-02,  8.24418970e-01, -5.02047262e-03,\n",
       "        -5.73758197e-02,  8.25229756e-01, -6.32970348e-03, -5.71368460e-02,\n",
       "         8.24960418e-01, -7.84948036e-03, -5.72019231e-02,  8.25564048e-01,\n",
       "        -9.15082823e-03, -5.71739680e-02,  8.25891832e-01, -1.06602605e-02,\n",
       "        -5.71730483e-02,  8.26080036e-01, -1.19624070e-02, -5.71013272e-02,\n",
       "         8.26004020e-01, -1.35388827e-02, -5.70473550e-02,  8.25794836e-01,\n",
       "        -1.48550318e-02, -5.69973022e-02,  8.25750435e-01, -1.64085702e-02,\n",
       "        -5.69927356e-02,  8.25480319e-01, -1.77198986e-02, -5.69412020e-02,\n",
       "         8.25155933e-01, -1.92223803e-02, -5.67933115e-02,  8.24123843e-01,\n",
       "        -2.05990925e-02, -5.68912694e-02,  8.24122069e-01, -2.21020931e-02,\n",
       "        -5.68986495e-02,  8.23824322e-01, -2.32222376e-02, -5.68975921e-02,\n",
       "         8.23608164e-01, -2.58801362e-02, -5.70384138e-02,  8.21689789e-01,\n",
       "        -2.70752022e-02, -5.69869349e-02,  8.21073828e-01, -2.80838122e-02,\n",
       "        -5.69683532e-02,  8.20049957e-01, -2.92364541e-02, -5.70174287e-02,\n",
       "         8.19090427e-01, -3.01171572e-02, -5.70127302e-02,  8.17912906e-01,\n",
       "        -3.06135863e-02, -5.70110450e-02,  8.17455099e-01, -4.11188866e-02,\n",
       "        -4.12519530e-03,  8.20334458e-01, -4.43543157e-02, -4.09535046e-03,\n",
       "         8.12653974e-01, -4.60126913e-02, -4.15948552e-03,  8.04322194e-01,\n",
       "        -4.55071497e-02, -4.31884219e-03,  7.95651917e-01, -4.28819776e-02,\n",
       "        -4.43770442e-03,  7.87137139e-01, -3.83384314e-02, -4.58980352e-03,\n",
       "         7.80372063e-01, -2.46893529e-02, -4.88794340e-03,  7.69710181e-01,\n",
       "        -1.64420789e-02, -5.01520352e-03,  7.67474371e-01, -7.91283950e-03,\n",
       "        -5.11348045e-03,  7.67919798e-01,  3.73058766e-04, -5.18340506e-03,\n",
       "         7.70505761e-01,  7.89154357e-03, -5.21425403e-03,  7.74336554e-01,\n",
       "         1.41707407e-02, -5.20288959e-03,  7.80206691e-01,  1.78386058e-02,\n",
       "        -5.17000552e-03,  7.85329000e-01]))"
      ]
     },
     "execution_count": 12,
     "metadata": {},
     "output_type": "execute_result"
    }
   ],
   "source": [
    "batch.optimize_calibration()"
   ]
  },
  {
   "cell_type": "code",
   "execution_count": 21,
   "metadata": {},
   "outputs": [
    {
     "data": {
      "image/png": "[encoded data removed]",
      "text/plain": [
       "<Figure size 432x288 with 1 Axes>"
      ]
     },
     "metadata": {
      "needs_background": "light"
     },
     "output_type": "display_data"
    },
    {
     "data": {
      "image/png": "[encoded data removed]",
      "text/plain": [
       "<Figure size 432x288 with 1 Axes>"
      ]
     },
     "metadata": {
      "needs_background": "light"
     },
     "output_type": "display_data"
    },
    {
     "ename": "KeyError",
     "evalue": "'img_0000.tif'",
     "output_type": "error",
     "traceback": [
      "\u001b[0;31m---------------------------------------------------------------------------\u001b[0m",
      "\u001b[0;31mKeyError\u001b[0m                                  Traceback (most recent call last)",
      "File \u001b[0;32m~/miniconda3/envs/matis/lib/python3.9/site-packages/pandas/core/indexes/base.py:3621\u001b[0m, in \u001b[0;36mIndex.get_loc\u001b[0;34m(self, key, method, tolerance)\u001b[0m\n\u001b[1;32m   3620\u001b[0m \u001b[39mtry\u001b[39;00m:\n\u001b[0;32m-> 3621\u001b[0m     \u001b[39mreturn\u001b[39;00m \u001b[39mself\u001b[39;49m\u001b[39m.\u001b[39;49m_engine\u001b[39m.\u001b[39;49mget_loc(casted_key)\n\u001b[1;32m   3622\u001b[0m \u001b[39mexcept\u001b[39;00m \u001b[39mKeyError\u001b[39;00m \u001b[39mas\u001b[39;00m err:\n",
      "File \u001b[0;32m~/miniconda3/envs/matis/lib/python3.9/site-packages/pandas/_libs/index.pyx:136\u001b[0m, in \u001b[0;36mpandas._libs.index.IndexEngine.get_loc\u001b[0;34m()\u001b[0m\n",
      "File \u001b[0;32m~/miniconda3/envs/matis/lib/python3.9/site-packages/pandas/_libs/index.pyx:144\u001b[0m, in \u001b[0;36mpandas._libs.index.IndexEngine.get_loc\u001b[0;34m()\u001b[0m\n",
      "File \u001b[0;32mpandas/_libs/index_class_helper.pxi:41\u001b[0m, in \u001b[0;36mpandas._libs.index.Int64Engine._check_type\u001b[0;34m()\u001b[0m\n",
      "\u001b[0;31mKeyError\u001b[0m: 'img_0000.tif'",
      "\nThe above exception was the direct cause of the following exception:\n",
      "\u001b[0;31mKeyError\u001b[0m                                  Traceback (most recent call last)",
      "\u001b[1;32m/home/matis/git-clone/pycopo-doc-web/source/tutorial.ipynb Cell 38\u001b[0m in \u001b[0;36m<cell line: 1>\u001b[0;34m()\u001b[0m\n\u001b[0;32m----> <a href='vscode-notebook-cell://wsl%2Bubuntu-20.04/home/matis/git-clone/pycopo-doc-web/source/tutorial.ipynb#X52sdnNjb2RlLXJlbW90ZQ%3D%3D?line=0'>1</a>\u001b[0m batch\u001b[39m.\u001b[39;49mplot_reprojection_errors()\n",
      "File \u001b[0;32m~/git-clone/pycopo/pycopo/calibration.py:1068\u001b[0m, in \u001b[0;36mImageBatchCalibration.plot_reprojection_errors\u001b[0;34m(self, global_plot, individual_plots, marker_cycle, color_cycle, plot_type)\u001b[0m\n\u001b[1;32m   1066\u001b[0m quadLoc \u001b[39m=\u001b[39m np\u001b[39m.\u001b[39marray([\u001b[39m0\u001b[39m, \u001b[39m1\u001b[39m, \u001b[39m2\u001b[39m, \u001b[39m3\u001b[39m, \u001b[39m0\u001b[39m])\n\u001b[1;32m   1067\u001b[0m \u001b[39mfor\u001b[39;00m image_ind, imData \u001b[39min\u001b[39;00m data\u001b[39m.\u001b[39mgroupby(level\u001b[39m=\u001b[39m\u001b[39m0\u001b[39m):\n\u001b[0;32m-> 1068\u001b[0m     imagePath \u001b[39m=\u001b[39m \u001b[39mself\u001b[39;49m\u001b[39m.\u001b[39;49mdata_graph_img\u001b[39m.\u001b[39;49mloc[image_ind]\u001b[39m.\u001b[39mimage\u001b[39m.\u001b[39mpath\u001b[39m.\u001b[39mvalues\u001b[39m.\u001b[39mastype(\n\u001b[1;32m   1069\u001b[0m         \u001b[39mstr\u001b[39m\n\u001b[1;32m   1070\u001b[0m     )[\u001b[39m0\u001b[39m]\n\u001b[1;32m   1071\u001b[0m     fname \u001b[39m=\u001b[39m \u001b[39mself\u001b[39m\u001b[39m.\u001b[39mdata_graph_img\u001b[39m.\u001b[39mloc[image_ind]\u001b[39m.\u001b[39mimage\u001b[39m.\u001b[39mfname\u001b[39m.\u001b[39mvalues\u001b[39m.\u001b[39mastype(\n\u001b[1;32m   1072\u001b[0m         \u001b[39mstr\u001b[39m\n\u001b[1;32m   1073\u001b[0m     )[\u001b[39m0\u001b[39m]\n\u001b[1;32m   1074\u001b[0m     rgb \u001b[39m=\u001b[39m io\u001b[39m.\u001b[39mimread(imagePath \u001b[39m+\u001b[39m fname)\n",
      "File \u001b[0;32m~/miniconda3/envs/matis/lib/python3.9/site-packages/pandas/core/indexing.py:967\u001b[0m, in \u001b[0;36m_LocationIndexer.__getitem__\u001b[0;34m(self, key)\u001b[0m\n\u001b[1;32m    964\u001b[0m axis \u001b[39m=\u001b[39m \u001b[39mself\u001b[39m\u001b[39m.\u001b[39maxis \u001b[39mor\u001b[39;00m \u001b[39m0\u001b[39m\n\u001b[1;32m    966\u001b[0m maybe_callable \u001b[39m=\u001b[39m com\u001b[39m.\u001b[39mapply_if_callable(key, \u001b[39mself\u001b[39m\u001b[39m.\u001b[39mobj)\n\u001b[0;32m--> 967\u001b[0m \u001b[39mreturn\u001b[39;00m \u001b[39mself\u001b[39;49m\u001b[39m.\u001b[39;49m_getitem_axis(maybe_callable, axis\u001b[39m=\u001b[39;49maxis)\n",
      "File \u001b[0;32m~/miniconda3/envs/matis/lib/python3.9/site-packages/pandas/core/indexing.py:1202\u001b[0m, in \u001b[0;36m_LocIndexer._getitem_axis\u001b[0;34m(self, key, axis)\u001b[0m\n\u001b[1;32m   1200\u001b[0m \u001b[39m# fall thru to straight lookup\u001b[39;00m\n\u001b[1;32m   1201\u001b[0m \u001b[39mself\u001b[39m\u001b[39m.\u001b[39m_validate_key(key, axis)\n\u001b[0;32m-> 1202\u001b[0m \u001b[39mreturn\u001b[39;00m \u001b[39mself\u001b[39;49m\u001b[39m.\u001b[39;49m_get_label(key, axis\u001b[39m=\u001b[39;49maxis)\n",
      "File \u001b[0;32m~/miniconda3/envs/matis/lib/python3.9/site-packages/pandas/core/indexing.py:1153\u001b[0m, in \u001b[0;36m_LocIndexer._get_label\u001b[0;34m(self, label, axis)\u001b[0m\n\u001b[1;32m   1151\u001b[0m \u001b[39mdef\u001b[39;00m \u001b[39m_get_label\u001b[39m(\u001b[39mself\u001b[39m, label, axis: \u001b[39mint\u001b[39m):\n\u001b[1;32m   1152\u001b[0m     \u001b[39m# GH#5667 this will fail if the label is not present in the axis.\u001b[39;00m\n\u001b[0;32m-> 1153\u001b[0m     \u001b[39mreturn\u001b[39;00m \u001b[39mself\u001b[39;49m\u001b[39m.\u001b[39;49mobj\u001b[39m.\u001b[39;49mxs(label, axis\u001b[39m=\u001b[39;49maxis)\n",
      "File \u001b[0;32m~/miniconda3/envs/matis/lib/python3.9/site-packages/pandas/core/generic.py:3864\u001b[0m, in \u001b[0;36mNDFrame.xs\u001b[0;34m(self, key, axis, level, drop_level)\u001b[0m\n\u001b[1;32m   3862\u001b[0m             new_index \u001b[39m=\u001b[39m index[loc]\n\u001b[1;32m   3863\u001b[0m \u001b[39melse\u001b[39;00m:\n\u001b[0;32m-> 3864\u001b[0m     loc \u001b[39m=\u001b[39m index\u001b[39m.\u001b[39;49mget_loc(key)\n\u001b[1;32m   3866\u001b[0m     \u001b[39mif\u001b[39;00m \u001b[39misinstance\u001b[39m(loc, np\u001b[39m.\u001b[39mndarray):\n\u001b[1;32m   3867\u001b[0m         \u001b[39mif\u001b[39;00m loc\u001b[39m.\u001b[39mdtype \u001b[39m==\u001b[39m np\u001b[39m.\u001b[39mbool_:\n",
      "File \u001b[0;32m~/miniconda3/envs/matis/lib/python3.9/site-packages/pandas/core/indexes/base.py:3623\u001b[0m, in \u001b[0;36mIndex.get_loc\u001b[0;34m(self, key, method, tolerance)\u001b[0m\n\u001b[1;32m   3621\u001b[0m     \u001b[39mreturn\u001b[39;00m \u001b[39mself\u001b[39m\u001b[39m.\u001b[39m_engine\u001b[39m.\u001b[39mget_loc(casted_key)\n\u001b[1;32m   3622\u001b[0m \u001b[39mexcept\u001b[39;00m \u001b[39mKeyError\u001b[39;00m \u001b[39mas\u001b[39;00m err:\n\u001b[0;32m-> 3623\u001b[0m     \u001b[39mraise\u001b[39;00m \u001b[39mKeyError\u001b[39;00m(key) \u001b[39mfrom\u001b[39;00m \u001b[39merr\u001b[39;00m\n\u001b[1;32m   3624\u001b[0m \u001b[39mexcept\u001b[39;00m \u001b[39mTypeError\u001b[39;00m:\n\u001b[1;32m   3625\u001b[0m     \u001b[39m# If we have a listlike key, _check_indexing_error will raise\u001b[39;00m\n\u001b[1;32m   3626\u001b[0m     \u001b[39m#  InvalidIndexError. Otherwise we fall through and re-raise\u001b[39;00m\n\u001b[1;32m   3627\u001b[0m     \u001b[39m#  the TypeError.\u001b[39;00m\n\u001b[1;32m   3628\u001b[0m     \u001b[39mself\u001b[39m\u001b[39m.\u001b[39m_check_indexing_error(key)\n",
      "\u001b[0;31mKeyError\u001b[0m: 'img_0000.tif'"
     ]
    }
   ],
   "source": [
    "batch.plot_reprojection_errors()"
   ]
  },
  {
   "cell_type": "code",
   "execution_count": 22,
   "metadata": {},
   "outputs": [
    {
     "ename": "AttributeError",
     "evalue": "'ImageBatchCalibration' object has no attribute 'save_composite'",
     "output_type": "error",
     "traceback": [
      "\u001b[0;31m---------------------------------------------------------------------------\u001b[0m",
      "\u001b[0;31mAttributeError\u001b[0m                            Traceback (most recent call last)",
      "\u001b[1;32m/home/matis/git-clone/pycopo-doc-web/source/tutorial.ipynb Cell 39\u001b[0m in \u001b[0;36m<cell line: 1>\u001b[0;34m()\u001b[0m\n\u001b[0;32m----> <a href='vscode-notebook-cell://wsl%2Bubuntu-20.04/home/matis/git-clone/pycopo-doc-web/source/tutorial.ipynb#X53sdnNjb2RlLXJlbW90ZQ%3D%3D?line=0'>1</a>\u001b[0m batch\u001b[39m.\u001b[39;49msave_composite()\n",
      "\u001b[0;31mAttributeError\u001b[0m: 'ImageBatchCalibration' object has no attribute 'save_composite'"
     ]
    }
   ],
   "source": [
    "batch.save_composite()"
   ]
  }
 ],
 "metadata": {
  "kernelspec": {
   "display_name": "matis",
   "language": "python",
   "name": "python3"
  },
  "language_info": {
   "codemirror_mode": {
    "name": "ipython",
    "version": 3
   },
   "file_extension": ".py",
   "mimetype": "text/x-python",
   "name": "python",
   "nbconvert_exporter": "python",
   "pygments_lexer": "ipython3",
   "version": "3.9.12"
  }
 },
 "nbformat": 4,
 "nbformat_minor": 2
}
