{
 "cells": [
  {
   "attachments": {},
   "cell_type": "markdown",
   "metadata": {},
   "source": [
    "# Jupyter Notebook tutorial"
   ]
  },
  {
   "attachments": {},
   "cell_type": "markdown",
   "metadata": {},
   "source": [
    "_______________\n",
    "#### introduction"
   ]
  },
  {
   "attachments": {},
   "cell_type": "markdown",
   "metadata": {},
   "source": [
    "This jupyter notebook will guide you throught the creation of a composite marker.\n",
    "\n",
    "During this tutorial, we will work with a dataset of images included in the pycopo gitlab repository (https://gitlab.com/symmehub/pycopo.git) "
   ]
  },
  {
   "attachments": {},
   "cell_type": "markdown",
   "metadata": {},
   "source": [
    "> **_NOTE:_**  *refer to the usage section to get the pycopo module installation process* "
   ]
  },
  {
   "attachments": {},
   "cell_type": "markdown",
   "metadata": {},
   "source": [
    "_______________\n",
    "#### i_ module importation"
   ]
  },
  {
   "attachments": {},
   "cell_type": "markdown",
   "metadata": {},
   "source": [
    ">The **first step** consist in importing every module required to run this tutorial:"
   ]
  },
  {
   "cell_type": "code",
   "execution_count": 1,
   "metadata": {},
   "outputs": [],
   "source": [
    "import os\n",
    "from PIL import Image\n",
    "import json\n",
    "import time\n",
    "import tarfile\n",
    "\n",
    "from skimage import io\n",
    "import numpy as np\n",
    "from cv2 import aruco\n",
    "import pycopo as pcp\n",
    "import matplotlib.pyplot as plt\n",
    "import networkx as nx"
   ]
  },
  {
   "attachments": {},
   "cell_type": "markdown",
   "metadata": {},
   "source": [
    "_______________\n",
    "#### ii_ image dataset"
   ]
  },
  {
   "attachments": {},
   "cell_type": "markdown",
   "metadata": {},
   "source": [
    ">Then we need to properly set up our image dataset:"
   ]
  },
  {
   "cell_type": "code",
   "execution_count": 2,
   "metadata": {},
   "outputs": [],
   "source": [
    "# SETUP\n",
    "image_directory = \"./_dataset/\"\n",
    "\n",
    "metadata = json.load(open(image_directory + \"metadata.json\"))\n",
    "camera_matrix = np.array(metadata[\"camera_matrix\"])\n",
    "distortion_coefficients = np.array(metadata[\"distortion_coefficients\"])\n",
    "md = float(metadata[\"aruco_marker_size\"].split()[0])\n",
    "marker_dimension = {i: md for i in range(1, 250)}\n",
    "marker_size = 12.4079e-3\n",
    "marker_dimension = {i: marker_size for i in range(1, 250)}\n",
    "\n",
    "# Aruco settings\n",
    "parameters = aruco.DetectorParameters()\n",
    "parameters.cornerRefinementMethod = 1\n",
    "parameters.cornerRefinementWinSize = 2\n",
    "parameters.cornerRefinementMaxIterations = 10"
   ]
  },
  {
   "cell_type": "code",
   "execution_count": 3,
   "metadata": {},
   "outputs": [],
   "source": [
    "target_dir = \"../build/html/_images/\"\n",
    "files = os.listdir(target_dir)\n",
    "no_gif = True\n",
    "for file in files:\n",
    "    if file == \"imdataset.gif\":  # Change the file extensions to match your image format\n",
    "        no_gif = False\n",
    "if no_gif:\n",
    "    dir = \"./_dataset\"\n",
    "    files = sorted([file for file in os.listdir(dir) if file.endswith(\".tif\")], key=lambda x: int(os.path.splitext(x)[0].split(\"_\")[1]))\n",
    "    images = []\n",
    "    for file in files:\n",
    "        if file.endswith(\".tif\"):  # Change the file extensions to match your image format\n",
    "            file_path = os.path.join(dir, file)\n",
    "            im = Image.open(file_path)\n",
    "            width, height = im.size\n",
    "            im = im.resize((int(width/2),int(height/2)))\n",
    "            images.append(im)\n",
    "    images[0].save(\n",
    "        \"../build/html/_images/imdataset.gif\", save_all=True, append_images=images[1:], duration=100, loop=0\n",
    "    )"
   ]
  },
  {
   "attachments": {},
   "cell_type": "markdown",
   "metadata": {},
   "source": [
    "_______________"
   ]
  },
  {
   "attachments": {},
   "cell_type": "markdown",
   "metadata": {},
   "source": [
    ">Let's have a look on our images:"
   ]
  },
  {
   "attachments": {},
   "cell_type": "markdown",
   "metadata": {},
   "source": [
    "> **_NOTE:_**  *(here a concatenation of every images from our dataset in a .GIF file)* "
   ]
  },
  {
   "attachments": {},
   "cell_type": "markdown",
   "metadata": {},
   "source": [
    "![dataset gif](_images/imdataset.gif)"
   ]
  },
  {
   "attachments": {},
   "cell_type": "markdown",
   "metadata": {},
   "source": [
    ">A dodecahedron object is set on the center of every images in our dataset. We rotate the object during the photoshoot in order to capture every faces.\n",
    "\n",
    ">There are as much Aruco markers as the object has faces. **Each of them needs to be identifiable in the dataset** in order to create a composite trackable in every position."
   ]
  },
  {
   "attachments": {},
   "cell_type": "markdown",
   "metadata": {},
   "source": [
    "_______________\n",
    "#### iii_ dataframe initialization"
   ]
  },
  {
   "attachments": {},
   "cell_type": "markdown",
   "metadata": {},
   "source": [
    ">**Let's create and load a dataframe called batch.**\n",
    "\n",
    ">This dataframe will contain our images, the corner's coordinates from the markers detected in each image, the poses associated and many more info we are going to manipulate in the creation of our composite. "
   ]
  },
  {
   "cell_type": "code",
   "execution_count": 4,
   "metadata": {},
   "outputs": [
    {
     "name": "stdout",
     "output_type": "stream",
     "text": [
      "# BATCH INTITIALIZATION\n"
     ]
    },
    {
     "data": {
      "text/plain": [
       "<pycopo.calibration.ImageBatchCalibration at 0x7f1b043a4a00>"
      ]
     },
     "execution_count": 4,
     "metadata": {},
     "output_type": "execute_result"
    }
   ],
   "source": [
    "# STEP 1: PREPROCESSING\n",
    "print(\"# BATCH INTITIALIZATION\")\n",
    "batch = pcp.calibration.ImageBatchCalibration(\n",
    "    aruco_dict=aruco.DICT_6X6_250,\n",
    "    parameters=parameters,\n",
    "    marker_dimension=marker_dimension,\n",
    "    output_directory=\"./_outputs_calibration/\",\n",
    "    camera_matrix=camera_matrix,\n",
    "    distortion_coefficients=distortion_coefficients,\n",
    ")\n",
    "\n",
    "batch.load_image_batch(directory=image_directory)"
   ]
  },
  {
   "attachments": {},
   "cell_type": "markdown",
   "metadata": {},
   "source": [
    "_______________\n",
    "#### iv_ marker detection et pose estimation"
   ]
  },
  {
   "attachments": {},
   "cell_type": "markdown",
   "metadata": {},
   "source": [
    ">We initiate the creation of our composite by detecting and estimating the pose of any marker identifiable."
   ]
  },
  {
   "cell_type": "code",
   "execution_count": 5,
   "metadata": {},
   "outputs": [
    {
     "name": "stderr",
     "output_type": "stream",
     "text": [
      "Estimating pose on detect id_detect: 1004: 100%|██████████| 1005/1005 [00:13<00:00, 72.07it/s]\n"
     ]
    }
   ],
   "source": [
    "batch.detect_markers(\n",
    "    plot_markers=False,\n",
    "    enforce=False,\n",
    ")\n",
    "_ = batch.estimate_pose()"
   ]
  },
  {
   "attachments": {},
   "cell_type": "markdown",
   "metadata": {},
   "source": [
    ">The draw_markers() function allows us to define the contour of an Aruco marker detected in an image and print its id.\n",
    "\n",
    ">A blue point is also drew at the upper-left corner, allowing us to observe the orientation's marker."
   ]
  },
  {
   "cell_type": "code",
   "execution_count": 6,
   "metadata": {},
   "outputs": [],
   "source": [
    "dir = \"./_outputs_calibration\"\n",
    "contents = os.listdir(dir)\n",
    "if len(contents) == 0:\n",
    "    batch.draw_markers()"
   ]
  },
  {
   "attachments": {},
   "cell_type": "markdown",
   "metadata": {},
   "source": [
    ">Here a zoomed in image with its marker drew:"
   ]
  },
  {
   "cell_type": "code",
   "execution_count": 7,
   "metadata": {},
   "outputs": [
    {
     "data": {
      "text/plain": [
       "<matplotlib.image.AxesImage at 0x7f1accc71a00>"
      ]
     },
     "execution_count": 7,
     "metadata": {},
     "output_type": "execute_result"
    },
    {
     "data": {
      "image/png": "[encoded data removed]",
      "text/plain": [
       "<Figure size 432x288 with 1 Axes>"
      ]
     },
     "metadata": {
      "needs_background": "light"
     },
     "output_type": "display_data"
    }
   ],
   "source": [
    "im = io.imread(\"./_outputs_calibration/img_0099_markers.jpg\")\n",
    "zoomed = im[950:1600, 2400:2800]\n",
    "\n",
    "io.imshow(zoomed)"
   ]
  },
  {
   "attachments": {},
   "cell_type": "markdown",
   "metadata": {},
   "source": [
    "_______________\n",
    "#### v_ graph creation"
   ]
  },
  {
   "attachments": {},
   "cell_type": "markdown",
   "metadata": {},
   "source": [
    ">If we want to visualize our raw marker/image detection data, we end-up with this graph:"
   ]
  },
  {
   "cell_type": "code",
   "execution_count": 8,
   "metadata": {},
   "outputs": [],
   "source": [
    "data = batch.merge_all()\n",
    "MG = pcp.utils.get_multigraph(data=data)\n",
    "G = pcp.utils.get_graph(data=data)"
   ]
  },
  {
   "attachments": {},
   "cell_type": "markdown",
   "metadata": {},
   "source": [
    "> *blue nodes: marker poses | red nodes: image*"
   ]
  },
  {
   "attachments": {},
   "cell_type": "markdown",
   "metadata": {},
   "source": [
    "_______________\n",
    "#### vi_ GBU algorithm"
   ]
  },
  {
   "attachments": {},
   "cell_type": "markdown",
   "metadata": {},
   "source": [
    ">**In order to get rid of the pose ambiguity (cf. [pycopo_theory](./pycopo_theory.md)), we submit our dataframe poses info to the GBU algorithm.**\n",
    "\n",
    ">>The pose filtration process relies on the get_graph_data function from the pycopo module. Here the detailed process:\n",
    "    \n",
    ">>* info extraction from our dataframe batch\n",
    ">>* graph construction based on the image/marker detection info\n",
    ">>* GBU algorithm filtration\n",
    ">>* graph updating with the filtered poses\n",
    ">>* marker counting, checking if we've lost some ids "
   ]
  },
  {
   "cell_type": "code",
   "execution_count": 12,
   "metadata": {},
   "outputs": [
    {
     "name": "stderr",
     "output_type": "stream",
     "text": [
      "Working on cycle: ('m189', 'i115', 'm188', 'i114'): 100%|██████████| 680/680 [00:25<00:00, 26.50it/s]\n"
     ]
    },
    {
     "name": "stdout",
     "output_type": "stream",
     "text": [
      "full data \t= 2010 poses\n",
      "no valid pose \t= 0 poses\n",
      "out of cycle \t= 328 poses\n",
      "good data \t= 411 poses\n",
      "bad data \t= 1157 poses\n",
      "ambigus data \t= 114 poses\n",
      "==========================\n"
     ]
    },
    {
     "name": "stderr",
     "output_type": "stream",
     "text": [
      "Working on cycle: ('m193', 'i113', 'm204', 'i112'): 100%|██████████| 308/308 [00:08<00:00, 35.37it/s]\n"
     ]
    },
    {
     "name": "stdout",
     "output_type": "stream",
     "text": [
      "full data \t= 525 poses\n",
      "no valid pose \t= 0 poses\n",
      "out of cycle \t= 54 poses\n",
      "good data \t= 378 poses\n",
      "bad data \t= 48 poses\n",
      "ambigus data \t= 10 poses\n",
      "==========================\n",
      "/!\\ we lose marker(s) : {192}\n"
     ]
    }
   ],
   "source": [
    "batch.get_graph_data(plot_markers=False, criterion=0.15, atomic_cycle=True, deph_max=1)"
   ]
  },
  {
   "attachments": {},
   "cell_type": "markdown",
   "metadata": {},
   "source": [
    ">Once the bad poses cleaned-up, we calibrate our graph in specifying our central markers wich are the graph nodes the most related to the other.\n",
    "\n",
    ">Here the resulting graph from the whole process:"
   ]
  },
  {
   "cell_type": "code",
   "execution_count": 13,
   "metadata": {},
   "outputs": [
    {
     "data": {
      "text/plain": [
       "(<Pycopo Composite Marker w. 20 markers>, <Pycopo Pose batch w. 90 entries>)"
      ]
     },
     "execution_count": 13,
     "metadata": {},
     "output_type": "execute_result"
    }
   ],
   "source": [
    "batch.graph_calibration()"
   ]
  },
  {
   "attachments": {},
   "cell_type": "markdown",
   "metadata": {},
   "source": [
    "> *green nodes: non-central marker poses | red nodes: image | blue nodes: central marker poses*"
   ]
  },
  {
   "cell_type": "code",
   "execution_count": 14,
   "metadata": {},
   "outputs": [],
   "source": [
    "#batch.optimize_calibration()\n",
    "#batch.plot_reprojection_errors()"
   ]
  },
  {
   "cell_type": "code",
   "execution_count": 15,
   "metadata": {},
   "outputs": [],
   "source": [
    "compo = batch.composites[-1]\n",
    "compo.set_marker_reference(mk_ref=190, inplace=True)"
   ]
  },
  {
   "cell_type": "code",
   "execution_count": 16,
   "metadata": {},
   "outputs": [],
   "source": [
    "dir = \"./\"\n",
    "no_compo = True\n",
    "for file in os.listdir(dir):\n",
    "    if file == \"composite.json\":\n",
    "        no_compo=False\n",
    "if no_compo: \n",
    "    compo.save(path=\"composite.json\")"
   ]
  },
  {
   "cell_type": "code",
   "execution_count": 17,
   "metadata": {},
   "outputs": [
    {
     "name": "stderr",
     "output_type": "stream",
     "text": [
      "Estimating composite pose on image: 115: 100%|██████████| 116/116 [00:03<00:00, 34.82it/s]\n"
     ]
    },
    {
     "data": {
      "text/plain": [
       "<pycopo.calibration.ImageBatchCompositePose at 0x7f1ac5b4f1f0>"
      ]
     },
     "execution_count": 17,
     "metadata": {},
     "output_type": "execute_result"
    }
   ],
   "source": [
    "\n",
    "batch_compo = pcp.calibration.ImageBatchCompositePose(\n",
    "    aruco_dict=aruco.DICT_6X6_250,\n",
    "    parameters=parameters,\n",
    "    output_directory=\"./_outputs_composite_pose/\",\n",
    "    camera_matrix=camera_matrix,\n",
    "    distortion_coefficients=distortion_coefficients,\n",
    "    # directory =\"./_dataset_composite_pose/\",\n",
    "    directory = image_directory,\n",
    "    composites={\"my_compo\":compo}\n",
    ")\n",
    "\n",
    "batch_compo.load_image_batch(directory=batch_compo.directory)\n",
    "batch_compo.detect_markers(plot_markers=False, enforce=False)\n",
    "batch_compo.estimate_composite_pose(method=\"pycopo\", planar=True)"
   ]
  },
  {
   "cell_type": "code",
   "execution_count": 18,
   "metadata": {},
   "outputs": [
    {
     "name": "stdout",
     "output_type": "stream",
     "text": [
      "Drawing markers...\n"
     ]
    },
    {
     "name": "stderr",
     "output_type": "stream",
     "text": [
      "100%|██████████| 116/116 [01:16<00:00,  1.52it/s]\n"
     ]
    },
    {
     "name": "stdout",
     "output_type": "stream",
     "text": [
      "Drawing markers done\n"
     ]
    },
    {
     "name": "stderr",
     "output_type": "stream",
     "text": [
      "Drawing axis markers on: img_0115.tif: 100%|██████████| 116/116 [01:30<00:00,  1.29it/s]\n"
     ]
    },
    {
     "data": {
      "text/plain": [
       "<pycopo.calibration.ImageBatchCompositePose at 0x7f1ac5b4f1f0>"
      ]
     },
     "execution_count": 18,
     "metadata": {},
     "output_type": "execute_result"
    }
   ],
   "source": [
    "batch_compo.draw_markers().draw_xyz_composite(key=\"my_compo\", dimension=0.1, thickness=5)"
   ]
  },
  {
   "cell_type": "code",
   "execution_count": 22,
   "metadata": {},
   "outputs": [],
   "source": [
    "target_dir = \"../build/html/_images/\"\n",
    "files = os.listdir(target_dir)\n",
    "no_gif = True\n",
    "for file in files:\n",
    "    if file == \"axis_on image.gif\":  # Change the file extensions to match your image format\n",
    "        no_gif = False\n",
    "if no_gif:\n",
    "    img = []\n",
    "    dir = \"./_outputs_composite_pose/\"\n",
    "    files = sorted([file for file in os.listdir(dir) if file.endswith(\".jpg\")], key=lambda x: int(x.split(\"_\")[1]))\n",
    "    for file in files:\n",
    "        if file.endswith(\".jpg\"):  # Change the file extensions to match your image format\n",
    "            file_path = os.path.join(dir, file)\n",
    "            im = Image.open(file_path)\n",
    "            width, height = im.size\n",
    "            im = im.resize((int(width/2),int(height/2)))\n",
    "            img.append(im)\n",
    "    img[0].save(\n",
    "        \"../build/html/_images/axis_on image.gif\", save_all=True, append_images=img[1:], duration=100, loop=0\n",
    "    )"
   ]
  },
  {
   "attachments": {},
   "cell_type": "markdown",
   "metadata": {},
   "source": [
    "![dataset gif](_images/axis_on image.gif)"
   ]
  }
 ],
 "metadata": {
  "kernelspec": {
   "display_name": "matis",
   "language": "python",
   "name": "python3"
  },
  "language_info": {
   "codemirror_mode": {
    "name": "ipython",
    "version": 3
   },
   "file_extension": ".py",
   "mimetype": "text/x-python",
   "name": "python",
   "nbconvert_exporter": "python",
   "pygments_lexer": "ipython3",
   "version": "3.9.12"
  }
 },
 "nbformat": 4,
 "nbformat_minor": 2
}
