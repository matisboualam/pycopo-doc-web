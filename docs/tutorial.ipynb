{
 "cells": [
  {
   "attachments": {},
   "cell_type": "markdown",
   "metadata": {},
   "source": [
    "# Jupyter Notebook tutorial"
   ]
  },
  {
   "attachments": {},
   "cell_type": "markdown",
   "metadata": {},
   "source": [
    "_______________\n",
    "#### introduction"
   ]
  },
  {
   "attachments": {},
   "cell_type": "markdown",
   "metadata": {},
   "source": [
    "This jupyter notebook will guide you throught the creation of a composite marker.\n",
    "\n",
    "During this tutorial, we will work with a dataset of images included in the pycopo gitlab repository (https://gitlab.com/symmehub/pycopo.git) "
   ]
  },
  {
   "attachments": {},
   "cell_type": "markdown",
   "metadata": {},
   "source": [
    "> **_NOTE:_**  *refer to the usage section to get the pycopo module installation process* "
   ]
  },
  {
   "attachments": {},
   "cell_type": "markdown",
   "metadata": {},
   "source": [
    "_______________\n",
    "#### i_ module importation"
   ]
  },
  {
   "attachments": {},
   "cell_type": "markdown",
   "metadata": {},
   "source": [
    ">The **first step** consist in importing every module required to run this tutorial:"
   ]
  },
  {
   "cell_type": "code",
   "execution_count": 30,
   "metadata": {},
   "outputs": [
    {
     "name": "stdout",
     "output_type": "stream",
     "text": [
      "optimizing\t elapsed time : 166.908\ts\r"
     ]
    }
   ],
   "source": [
    "import os\n",
    "from PIL import Image\n",
    "import json\n",
    "import time\n",
    "import tarfile\n",
    "\n",
    "from skimage import io\n",
    "import numpy as np\n",
    "from cv2 import aruco\n",
    "import pycopo as pcp\n",
    "import matplotlib.pyplot as plt\n",
    "import networkx as nx"
   ]
  },
  {
   "attachments": {},
   "cell_type": "markdown",
   "metadata": {},
   "source": [
    "_______________\n",
    "#### ii_ image dataset"
   ]
  },
  {
   "attachments": {},
   "cell_type": "markdown",
   "metadata": {},
   "source": [
    ">Then we need to properly set up our image dataset:"
   ]
  },
  {
   "cell_type": "code",
   "execution_count": 31,
   "metadata": {},
   "outputs": [
    {
     "name": "stdout",
     "output_type": "stream",
     "text": [
      "optimizing\t elapsed time : 167.115\ts\r"
     ]
    },
    {
     "name": "stdout",
     "output_type": "stream",
     "text": [
      "optimizing\t elapsed time : 167.246\ts\r"
     ]
    }
   ],
   "source": [
    "# SETUP\n",
    "image_directory = \"./_dataset/\"\n",
    "\n",
    "metadata = json.load(open(image_directory + \"metadata.json\"))\n",
    "camera_matrix = np.array(metadata[\"camera_matrix\"])\n",
    "distortion_coefficients = np.array(metadata[\"distortion_coefficients\"])\n",
    "md = float(metadata[\"aruco_marker_size\"].split()[0])\n",
    "marker_dimension = {i: md for i in range(1, 250)}\n",
    "marker_size = 12.4079e-3\n",
    "marker_dimension = {i: marker_size for i in range(1, 250)}\n",
    "\n",
    "# Aruco settings\n",
    "parameters = aruco.DetectorParameters()\n",
    "parameters.cornerRefinementMethod = 1\n",
    "parameters.cornerRefinementWinSize = 2\n",
    "parameters.cornerRefinementMaxIterations = 10"
   ]
  },
  {
   "cell_type": "code",
   "execution_count": 32,
   "metadata": {},
   "outputs": [
    {
     "name": "stdout",
     "output_type": "stream",
     "text": [
      "optimizing\t elapsed time : 167.319\ts\r"
     ]
    },
    {
     "name": "stdout",
     "output_type": "stream",
     "text": [
      "optimizing\t elapsed time : 167.344\ts"
     ]
    }
   ],
   "source": [
    "target_dir = \"../build/html/_images/\"\n",
    "dir = \"./_dataset\"\n",
    "files = os.listdir(target_dir)\n",
    "no_gif = True\n",
    "for file in files:\n",
    "    if file.endswith(\".gif\"):  # Change the file extensions to match your image format\n",
    "        no_gif = False\n",
    "if (no_gif):\n",
    "    images = []\n",
    "    for file in os.listdir(dir):\n",
    "        if file.endswith(\".tif\"):  # Change the file extensions to match your image format\n",
    "            file_path = os.path.join(dir, file)\n",
    "            im = Image.open(file_path)\n",
    "            width, height = im.size\n",
    "            im = im.resize((int(width/2),int(height/2)))\n",
    "            images.append(im)\n",
    "    images[0].save(\n",
    "        \"../build/html/_images/imdataset.gif\", save_all=True, append_images=images[1:], duration=500, loop=0\n",
    "    )"
   ]
  },
  {
   "attachments": {},
   "cell_type": "markdown",
   "metadata": {},
   "source": [
    "_______________"
   ]
  },
  {
   "attachments": {},
   "cell_type": "markdown",
   "metadata": {},
   "source": [
    ">Let's have a look on our images:"
   ]
  },
  {
   "attachments": {},
   "cell_type": "markdown",
   "metadata": {},
   "source": [
    "> **_NOTE:_**  *(here a concatenation of every images from our dataset in a .GIF file)* "
   ]
  },
  {
   "attachments": {},
   "cell_type": "markdown",
   "metadata": {},
   "source": [
    "\n",
    "![dataset gif](_images/imdataset.gif)"
   ]
  },
  {
   "attachments": {},
   "cell_type": "markdown",
   "metadata": {},
   "source": [
    ">A dodecahedron object is set on the center of every images in our dataset. We rotate the object during the photoshoot in order to capture every faces.\n",
    "\n",
    ">There are as much Aruco markers as the object has faces. **Each of them needs to be identifiable in the dataset** in order to create a composite trackable in every position."
   ]
  },
  {
   "attachments": {},
   "cell_type": "markdown",
   "metadata": {},
   "source": [
    "_______________\n",
    "#### iii_ dataframe initialization"
   ]
  },
  {
   "attachments": {},
   "cell_type": "markdown",
   "metadata": {},
   "source": [
    ">**Let's create and load a dataframe called batch.**\n",
    "\n",
    ">This dataframe will contain our images, the corner's coordinates from the markers detected in each image, the poses associated and many more info we are going to manipulate in the creation of our composite. "
   ]
  },
  {
   "cell_type": "code",
   "execution_count": 33,
   "metadata": {},
   "outputs": [
    {
     "name": "stdout",
     "output_type": "stream",
     "text": [
      "optimizing\t elapsed time : 167.435\ts# BATCH INTITIALIZATION\n",
      "optimizing\t elapsed time : 167.508\ts\r"
     ]
    },
    {
     "data": {
      "text/plain": [
       "<pycopo.calibration.ImageBatchCalibration at 0x7f34e7354df0>"
      ]
     },
     "execution_count": 33,
     "metadata": {},
     "output_type": "execute_result"
    },
    {
     "name": "stdout",
     "output_type": "stream",
     "text": [
      "optimizing\t elapsed time : 167.554\ts\r"
     ]
    }
   ],
   "source": [
    "# STEP 1: PREPROCESSING\n",
    "print(\"# BATCH INTITIALIZATION\")\n",
    "batch = pcp.calibration.ImageBatchCalibration(\n",
    "    aruco_dict=aruco.DICT_6X6_250,\n",
    "    parameters=parameters,\n",
    "    marker_dimension=marker_dimension,\n",
    "    output_directory=\"./_outputs_calibration/\",\n",
    "    camera_matrix=camera_matrix,\n",
    "    distortion_coefficients=distortion_coefficients,\n",
    ")\n",
    "\n",
    "batch.load_image_batch(directory=image_directory)"
   ]
  },
  {
   "attachments": {},
   "cell_type": "markdown",
   "metadata": {},
   "source": [
    "_______________\n",
    "#### iv_ marker detection et pose estimation"
   ]
  },
  {
   "attachments": {},
   "cell_type": "markdown",
   "metadata": {},
   "source": [
    ">We initiate the creation of our composite by detecting and estimating the pose of any marker identifiable."
   ]
  },
  {
   "cell_type": "code",
   "execution_count": 34,
   "metadata": {},
   "outputs": [
    {
     "name": "stdout",
     "output_type": "stream",
     "text": [
      "optimizing\t elapsed time : 167.726\ts\r"
     ]
    },
    {
     "name": "stderr",
     "output_type": "stream",
     "text": [
      "Estimating pose on detect id_detect: 0:   0%|          | 0/1005 [00:00<?, ?it/s]"
     ]
    },
    {
     "name": "stdout",
     "output_type": "stream",
     "text": [
      "optimizing\t elapsed time : 168.49\tss\r"
     ]
    },
    {
     "name": "stderr",
     "output_type": "stream",
     "text": [
      "Estimating pose on detect id_detect: 1:   0%|          | 1/1005 [00:00<13:20,  1.25it/s]"
     ]
    },
    {
     "name": "stdout",
     "output_type": "stream",
     "text": [
      "optimizing\t elapsed time : 169.395\ts\r"
     ]
    },
    {
     "name": "stderr",
     "output_type": "stream",
     "text": [
      "Estimating pose on detect id_detect: 2:   0%|          | 2/1005 [00:01<14:17,  1.17it/s]"
     ]
    },
    {
     "name": "stdout",
     "output_type": "stream",
     "text": [
      "optimizing\t elapsed time : 169.572\ts\r"
     ]
    },
    {
     "name": "stderr",
     "output_type": "stream",
     "text": [
      "Estimating pose on detect id_detect: 3:   0%|          | 3/1005 [00:01<09:01,  1.85it/s]"
     ]
    },
    {
     "name": "stdout",
     "output_type": "stream",
     "text": [
      "optimizing\t elapsed time : 170.041\ts"
     ]
    },
    {
     "name": "stderr",
     "output_type": "stream",
     "text": [
      "Estimating pose on detect id_detect: 4:   0%|          | 4/1005 [00:02<08:36,  1.94it/s]"
     ]
    },
    {
     "name": "stdout",
     "output_type": "stream",
     "text": [
      "optimizing\t elapsed time : 170.111\ts"
     ]
    },
    {
     "name": "stderr",
     "output_type": "stream",
     "text": [
      "Estimating pose on detect id_detect: 5:   0%|          | 5/1005 [00:02<06:12,  2.68it/s]"
     ]
    },
    {
     "name": "stdout",
     "output_type": "stream",
     "text": [
      "optimizing\t elapsed time : 170.333\ts\r"
     ]
    },
    {
     "name": "stderr",
     "output_type": "stream",
     "text": [
      "Estimating pose on detect id_detect: 6:   1%|          | 6/1005 [00:02<05:30,  3.02it/s]"
     ]
    },
    {
     "name": "stdout",
     "output_type": "stream",
     "text": [
      "optimizing\t elapsed time : 171.124\ts"
     ]
    },
    {
     "name": "stderr",
     "output_type": "stream",
     "text": [
      "Estimating pose on detect id_detect: 7:   1%|          | 7/1005 [00:03<07:35,  2.19it/s]"
     ]
    },
    {
     "name": "stdout",
     "output_type": "stream",
     "text": [
      "optimizing\t elapsed time : 171.808\ts"
     ]
    },
    {
     "name": "stderr",
     "output_type": "stream",
     "text": [
      "Estimating pose on detect id_detect: 8:   1%|          | 8/1005 [00:04<09:22,  1.77it/s]"
     ]
    },
    {
     "name": "stdout",
     "output_type": "stream",
     "text": [
      "optimizing\t elapsed time : 172.024\ts\r"
     ]
    },
    {
     "name": "stderr",
     "output_type": "stream",
     "text": [
      "Estimating pose on detect id_detect: 9:   1%|          | 9/1005 [00:04<07:28,  2.22it/s]"
     ]
    },
    {
     "name": "stdout",
     "output_type": "stream",
     "text": [
      "optimizing\t elapsed time : 172.233\ts\r"
     ]
    },
    {
     "name": "stderr",
     "output_type": "stream",
     "text": [
      "Estimating pose on detect id_detect: 12:   1%|          | 10/1005 [00:04<05:43,  2.89it/s]"
     ]
    },
    {
     "name": "stdout",
     "output_type": "stream",
     "text": [
      "optimizing\t elapsed time : 172.7\ts\ts"
     ]
    },
    {
     "name": "stderr",
     "output_type": "stream",
     "text": [
      "Estimating pose on detect id_detect: 13:   1%|▏         | 13/1005 [00:05<03:58,  4.15it/s]"
     ]
    },
    {
     "name": "stdout",
     "output_type": "stream",
     "text": [
      "optimizing\t elapsed time : 173.94\tss"
     ]
    },
    {
     "name": "stderr",
     "output_type": "stream",
     "text": [
      "Estimating pose on detect id_detect: 14:   1%|▏         | 14/1005 [00:06<07:23,  2.24it/s]"
     ]
    },
    {
     "name": "stdout",
     "output_type": "stream",
     "text": [
      "optimizing\t elapsed time : 174.961\ts\r"
     ]
    },
    {
     "name": "stderr",
     "output_type": "stream",
     "text": [
      "Estimating pose on detect id_detect: 15:   1%|▏         | 15/1005 [00:07<09:46,  1.69it/s]"
     ]
    },
    {
     "name": "stdout",
     "output_type": "stream",
     "text": [
      "optimizing\t elapsed time : 175.261\ts\r"
     ]
    },
    {
     "name": "stderr",
     "output_type": "stream",
     "text": [
      "Estimating pose on detect id_detect: 16:   2%|▏         | 16/1005 [00:07<08:26,  1.95it/s]"
     ]
    },
    {
     "name": "stdout",
     "output_type": "stream",
     "text": [
      "optimizing\t elapsed time : 175.586\ts"
     ]
    },
    {
     "name": "stderr",
     "output_type": "stream",
     "text": [
      "Estimating pose on detect id_detect: 17:   2%|▏         | 17/1005 [00:07<07:47,  2.11it/s]"
     ]
    },
    {
     "name": "stdout",
     "output_type": "stream",
     "text": [
      "optimizing\t elapsed time : 176.079\ts\r"
     ]
    },
    {
     "name": "stderr",
     "output_type": "stream",
     "text": [
      "Estimating pose on detect id_detect: 18:   2%|▏         | 18/1005 [00:08<07:57,  2.07it/s]"
     ]
    },
    {
     "name": "stdout",
     "output_type": "stream",
     "text": [
      "optimizing\t elapsed time : 177.022\ts\r"
     ]
    },
    {
     "name": "stderr",
     "output_type": "stream",
     "text": [
      "Estimating pose on detect id_detect: 19:   2%|▏         | 19/1005 [00:09<09:49,  1.67it/s]"
     ]
    },
    {
     "name": "stdout",
     "output_type": "stream",
     "text": [
      "optimizing\t elapsed time : 177.515\ts\r"
     ]
    },
    {
     "name": "stderr",
     "output_type": "stream",
     "text": [
      "Estimating pose on detect id_detect: 20:   2%|▏         | 20/1005 [00:09<09:17,  1.77it/s]"
     ]
    },
    {
     "name": "stdout",
     "output_type": "stream",
     "text": [
      "optimizing\t elapsed time : 178.132\ts"
     ]
    },
    {
     "name": "stderr",
     "output_type": "stream",
     "text": [
      "Estimating pose on detect id_detect: 21:   2%|▏         | 21/1005 [00:10<09:28,  1.73it/s]"
     ]
    },
    {
     "name": "stdout",
     "output_type": "stream",
     "text": [
      "optimizing\t elapsed time : 179.465\ts\r"
     ]
    },
    {
     "name": "stderr",
     "output_type": "stream",
     "text": [
      "Estimating pose on detect id_detect: 22:   2%|▏         | 22/1005 [00:11<13:17,  1.23it/s]"
     ]
    },
    {
     "name": "stdout",
     "output_type": "stream",
     "text": [
      "optimizing\t elapsed time : 180.516\ts\r"
     ]
    },
    {
     "name": "stderr",
     "output_type": "stream",
     "text": [
      "Estimating pose on detect id_detect: 23:   2%|▏         | 23/1005 [00:12<14:12,  1.15it/s]"
     ]
    },
    {
     "name": "stdout",
     "output_type": "stream",
     "text": [
      "optimizing\t elapsed time : 181.705\ts\r"
     ]
    },
    {
     "name": "stderr",
     "output_type": "stream",
     "text": [
      "Estimating pose on detect id_detect: 24:   2%|▏         | 24/1005 [00:14<16:25,  1.00s/it]"
     ]
    },
    {
     "name": "stdout",
     "output_type": "stream",
     "text": [
      "optimizing\t elapsed time : 182.302\ts\r"
     ]
    },
    {
     "name": "stderr",
     "output_type": "stream",
     "text": [
      "Estimating pose on detect id_detect: 25:   2%|▏         | 25/1005 [00:14<13:47,  1.18it/s]"
     ]
    },
    {
     "name": "stdout",
     "output_type": "stream",
     "text": [
      "optimizing\t elapsed time : 182.775\ts\r"
     ]
    },
    {
     "name": "stderr",
     "output_type": "stream",
     "text": [
      "Estimating pose on detect id_detect: 26:   3%|▎         | 26/1005 [00:15<11:56,  1.37it/s]"
     ]
    },
    {
     "name": "stdout",
     "output_type": "stream",
     "text": [
      "optimizing\t elapsed time : 183.344\ts"
     ]
    },
    {
     "name": "stderr",
     "output_type": "stream",
     "text": [
      "Estimating pose on detect id_detect: 27:   3%|▎         | 27/1005 [00:15<11:11,  1.46it/s]"
     ]
    },
    {
     "name": "stdout",
     "output_type": "stream",
     "text": [
      "optimizing\t elapsed time : 184.175\ts\r"
     ]
    },
    {
     "name": "stderr",
     "output_type": "stream",
     "text": [
      "Estimating pose on detect id_detect: 28:   3%|▎         | 28/1005 [00:16<11:57,  1.36it/s]"
     ]
    },
    {
     "name": "stdout",
     "output_type": "stream",
     "text": [
      "optimizing\t elapsed time : 184.582\ts\r"
     ]
    },
    {
     "name": "stderr",
     "output_type": "stream",
     "text": [
      "Estimating pose on detect id_detect: 29:   3%|▎         | 29/1005 [00:16<10:22,  1.57it/s]"
     ]
    },
    {
     "name": "stdout",
     "output_type": "stream",
     "text": [
      "optimizing\t elapsed time : 184.951\ts\r"
     ]
    },
    {
     "name": "stderr",
     "output_type": "stream",
     "text": [
      "Estimating pose on detect id_detect: 30:   3%|▎         | 30/1005 [00:17<08:50,  1.84it/s]"
     ]
    },
    {
     "name": "stdout",
     "output_type": "stream",
     "text": [
      "optimizing\t elapsed time : 185.598\ts\r"
     ]
    },
    {
     "name": "stderr",
     "output_type": "stream",
     "text": [
      "Estimating pose on detect id_detect: 31:   3%|▎         | 31/1005 [00:17<09:24,  1.73it/s]"
     ]
    },
    {
     "name": "stdout",
     "output_type": "stream",
     "text": [
      "optimizing\t elapsed time : 186.226\ts\r"
     ]
    },
    {
     "name": "stderr",
     "output_type": "stream",
     "text": [
      "Estimating pose on detect id_detect: 32:   3%|▎         | 32/1005 [00:18<09:45,  1.66it/s]"
     ]
    },
    {
     "name": "stdout",
     "output_type": "stream",
     "text": [
      "optimizing\t elapsed time : 188.686\ts\r"
     ]
    },
    {
     "name": "stderr",
     "output_type": "stream",
     "text": [
      "Estimating pose on detect id_detect: 33:   3%|▎         | 33/1005 [00:21<19:04,  1.18s/it]"
     ]
    },
    {
     "name": "stdout",
     "output_type": "stream",
     "text": [
      "optimizing\t elapsed time : 194.459\ts\r"
     ]
    },
    {
     "name": "stderr",
     "output_type": "stream",
     "text": [
      "Estimating pose on detect id_detect: 34:   3%|▎         | 34/1005 [00:26<41:05,  2.54s/it]"
     ]
    },
    {
     "name": "stdout",
     "output_type": "stream",
     "text": [
      "optimizing\t elapsed time : 194.879\ts\r"
     ]
    },
    {
     "name": "stderr",
     "output_type": "stream",
     "text": [
      "Estimating pose on detect id_detect: 35:   3%|▎         | 35/1005 [00:27<31:02,  1.92s/it]"
     ]
    },
    {
     "name": "stdout",
     "output_type": "stream",
     "text": [
      "optimizing\t elapsed time : 195.322\ts"
     ]
    },
    {
     "name": "stderr",
     "output_type": "stream",
     "text": [
      "Estimating pose on detect id_detect: 36:   4%|▎         | 36/1005 [00:27<23:30,  1.46s/it]"
     ]
    },
    {
     "name": "stdout",
     "output_type": "stream",
     "text": [
      "optimizing\t elapsed time : 195.823\ts\r"
     ]
    },
    {
     "name": "stderr",
     "output_type": "stream",
     "text": [
      "Estimating pose on detect id_detect: 37:   4%|▎         | 37/1005 [00:28<19:00,  1.18s/it]"
     ]
    },
    {
     "name": "stdout",
     "output_type": "stream",
     "text": [
      "optimizing\t elapsed time : 196.566\ts\r"
     ]
    },
    {
     "name": "stderr",
     "output_type": "stream",
     "text": [
      "Estimating pose on detect id_detect: 38:   4%|▍         | 38/1005 [00:28<16:55,  1.05s/it]"
     ]
    },
    {
     "name": "stdout",
     "output_type": "stream",
     "text": [
      "optimizing\t elapsed time : 196.978\ts\r"
     ]
    },
    {
     "name": "stderr",
     "output_type": "stream",
     "text": [
      "Estimating pose on detect id_detect: 39:   4%|▍         | 39/1005 [00:29<13:43,  1.17it/s]"
     ]
    },
    {
     "name": "stdout",
     "output_type": "stream",
     "text": [
      "optimizing\t elapsed time : 197.399\ts\r"
     ]
    },
    {
     "name": "stderr",
     "output_type": "stream",
     "text": [
      "Estimating pose on detect id_detect: 40:   4%|▍         | 40/1005 [00:29<11:23,  1.41it/s]"
     ]
    },
    {
     "name": "stdout",
     "output_type": "stream",
     "text": [
      "optimizing\t elapsed time : 197.6\ts\ts\r"
     ]
    },
    {
     "name": "stderr",
     "output_type": "stream",
     "text": [
      "Estimating pose on detect id_detect: 41:   4%|▍         | 41/1005 [00:29<09:15,  1.73it/s]"
     ]
    },
    {
     "name": "stdout",
     "output_type": "stream",
     "text": [
      "optimizing\t elapsed time : 198.427\ts\r"
     ]
    },
    {
     "name": "stderr",
     "output_type": "stream",
     "text": [
      "Estimating pose on detect id_detect: 42:   4%|▍         | 42/1005 [00:30<10:16,  1.56it/s]"
     ]
    },
    {
     "name": "stdout",
     "output_type": "stream",
     "text": [
      "optimizing\t elapsed time : 198.915\ts\r"
     ]
    },
    {
     "name": "stderr",
     "output_type": "stream",
     "text": [
      "Estimating pose on detect id_detect: 43:   4%|▍         | 43/1005 [00:31<09:50,  1.63it/s]"
     ]
    },
    {
     "name": "stdout",
     "output_type": "stream",
     "text": [
      "optimizing\t elapsed time : 199.876\ts"
     ]
    },
    {
     "name": "stderr",
     "output_type": "stream",
     "text": [
      "Estimating pose on detect id_detect: 44:   4%|▍         | 44/1005 [00:32<11:24,  1.40it/s]"
     ]
    },
    {
     "name": "stdout",
     "output_type": "stream",
     "text": [
      "optimizing\t elapsed time : 200.377\ts\r"
     ]
    },
    {
     "name": "stderr",
     "output_type": "stream",
     "text": [
      "Estimating pose on detect id_detect: 45:   4%|▍         | 45/1005 [00:32<10:02,  1.59it/s]"
     ]
    },
    {
     "name": "stdout",
     "output_type": "stream",
     "text": [
      "optimizing\t elapsed time : 200.784\ts"
     ]
    },
    {
     "name": "stderr",
     "output_type": "stream",
     "text": [
      "Estimating pose on detect id_detect: 46:   5%|▍         | 46/1005 [00:33<09:09,  1.75it/s]"
     ]
    },
    {
     "name": "stdout",
     "output_type": "stream",
     "text": [
      "optimizing\t elapsed time : 201.408\ts\r"
     ]
    },
    {
     "name": "stderr",
     "output_type": "stream",
     "text": [
      "Estimating pose on detect id_detect: 47:   5%|▍         | 47/1005 [00:33<09:24,  1.70it/s]"
     ]
    },
    {
     "name": "stdout",
     "output_type": "stream",
     "text": [
      "optimizing\t elapsed time : 202.025\ts"
     ]
    },
    {
     "name": "stderr",
     "output_type": "stream",
     "text": [
      "Estimating pose on detect id_detect: 48:   5%|▍         | 48/1005 [00:34<09:23,  1.70it/s]"
     ]
    },
    {
     "name": "stdout",
     "output_type": "stream",
     "text": [
      "optimizing\t elapsed time : 202.515\ts\r"
     ]
    },
    {
     "name": "stderr",
     "output_type": "stream",
     "text": [
      "Estimating pose on detect id_detect: 49:   5%|▍         | 49/1005 [00:34<09:07,  1.75it/s]"
     ]
    },
    {
     "name": "stdout",
     "output_type": "stream",
     "text": [
      "optimizing\t elapsed time : 202.892\ts\r"
     ]
    },
    {
     "name": "stderr",
     "output_type": "stream",
     "text": [
      "Estimating pose on detect id_detect: 50:   5%|▍         | 50/1005 [00:35<08:16,  1.93it/s]"
     ]
    },
    {
     "name": "stdout",
     "output_type": "stream",
     "text": [
      "optimizing\t elapsed time : 203.483\ts\r"
     ]
    },
    {
     "name": "stderr",
     "output_type": "stream",
     "text": [
      "Estimating pose on detect id_detect: 51:   5%|▌         | 51/1005 [00:35<08:24,  1.89it/s]"
     ]
    },
    {
     "name": "stdout",
     "output_type": "stream",
     "text": [
      "optimizing\t elapsed time : 203.97\tss\r"
     ]
    },
    {
     "name": "stderr",
     "output_type": "stream",
     "text": [
      "Estimating pose on detect id_detect: 52:   5%|▌         | 52/1005 [00:36<08:19,  1.91it/s]"
     ]
    },
    {
     "name": "stdout",
     "output_type": "stream",
     "text": [
      "optimizing\t elapsed time : 205.135\ts\r"
     ]
    },
    {
     "name": "stderr",
     "output_type": "stream",
     "text": [
      "Estimating pose on detect id_detect: 52:   5%|▌         | 53/1005 [00:37<11:19,  1.40it/s]"
     ]
    },
    {
     "name": "stdout",
     "output_type": "stream",
     "text": [
      "optimizing\t elapsed time : 205.204\ts\r"
     ]
    },
    {
     "name": "stderr",
     "output_type": "stream",
     "text": [
      "Estimating pose on detect id_detect: 53:   5%|▌         | 53/1005 [00:37<11:19,  1.40it/s]"
     ]
    },
    {
     "name": "stdout",
     "output_type": "stream",
     "text": [
      "optimizing\t elapsed time : 207.288\ts\r"
     ]
    },
    {
     "name": "stderr",
     "output_type": "stream",
     "text": [
      "Estimating pose on detect id_detect: 54:   5%|▌         | 54/1005 [00:39<18:18,  1.15s/it]"
     ]
    },
    {
     "name": "stdout",
     "output_type": "stream",
     "text": [
      "optimizing\t elapsed time : 207.835\ts"
     ]
    },
    {
     "name": "stderr",
     "output_type": "stream",
     "text": [
      "Estimating pose on detect id_detect: 55:   5%|▌         | 55/1005 [00:40<15:08,  1.05it/s]"
     ]
    },
    {
     "name": "stdout",
     "output_type": "stream",
     "text": [
      "optimizing\t elapsed time : 208.113\ts"
     ]
    },
    {
     "name": "stderr",
     "output_type": "stream",
     "text": [
      "Estimating pose on detect id_detect: 56:   6%|▌         | 56/1005 [00:40<11:58,  1.32it/s]"
     ]
    },
    {
     "name": "stdout",
     "output_type": "stream",
     "text": [
      "optimizing\t elapsed time : 208.734\ts"
     ]
    },
    {
     "name": "stderr",
     "output_type": "stream",
     "text": [
      "Estimating pose on detect id_detect: 57:   6%|▌         | 57/1005 [00:41<11:31,  1.37it/s]"
     ]
    },
    {
     "name": "stdout",
     "output_type": "stream",
     "text": [
      "optimizing\t elapsed time : 209.288\ts"
     ]
    },
    {
     "name": "stderr",
     "output_type": "stream",
     "text": [
      "Estimating pose on detect id_detect: 58:   6%|▌         | 58/1005 [00:41<10:34,  1.49it/s]"
     ]
    },
    {
     "name": "stdout",
     "output_type": "stream",
     "text": [
      "optimizing\t elapsed time : 209.769\ts\r"
     ]
    },
    {
     "name": "stderr",
     "output_type": "stream",
     "text": [
      "Estimating pose on detect id_detect: 59:   6%|▌         | 59/1005 [00:42<09:28,  1.66it/s]"
     ]
    },
    {
     "name": "stdout",
     "output_type": "stream",
     "text": [
      "optimizing\t elapsed time : 210.341\ts\r"
     ]
    },
    {
     "name": "stderr",
     "output_type": "stream",
     "text": [
      "Estimating pose on detect id_detect: 60:   6%|▌         | 60/1005 [00:42<09:16,  1.70it/s]"
     ]
    },
    {
     "name": "stdout",
     "output_type": "stream",
     "text": [
      "optimizing\t elapsed time : 212.848\ts"
     ]
    },
    {
     "name": "stderr",
     "output_type": "stream",
     "text": [
      "Estimating pose on detect id_detect: 61:   6%|▌         | 61/1005 [00:45<18:52,  1.20s/it]"
     ]
    },
    {
     "name": "stdout",
     "output_type": "stream",
     "text": [
      "optimizing\t elapsed time : 214.282\ts"
     ]
    },
    {
     "name": "stderr",
     "output_type": "stream",
     "text": [
      "Estimating pose on detect id_detect: 62:   6%|▌         | 62/1005 [00:46<20:04,  1.28s/it]"
     ]
    },
    {
     "name": "stdout",
     "output_type": "stream",
     "text": [
      "optimizing\t elapsed time : 215.523\ts"
     ]
    },
    {
     "name": "stderr",
     "output_type": "stream",
     "text": [
      "Estimating pose on detect id_detect: 63:   6%|▋         | 63/1005 [00:47<19:15,  1.23s/it]"
     ]
    },
    {
     "name": "stdout",
     "output_type": "stream",
     "text": [
      "optimizing\t elapsed time : 217.563\ts"
     ]
    },
    {
     "name": "stderr",
     "output_type": "stream",
     "text": [
      "Estimating pose on detect id_detect: 64:   6%|▋         | 64/1005 [00:49<23:22,  1.49s/it]"
     ]
    },
    {
     "name": "stdout",
     "output_type": "stream",
     "text": [
      "optimizing\t elapsed time : 217.981\ts"
     ]
    },
    {
     "name": "stderr",
     "output_type": "stream",
     "text": [
      "Estimating pose on detect id_detect: 65:   6%|▋         | 65/1005 [00:50<18:33,  1.19s/it]"
     ]
    },
    {
     "name": "stdout",
     "output_type": "stream",
     "text": [
      "optimizing\t elapsed time : 218.61\tss"
     ]
    },
    {
     "name": "stderr",
     "output_type": "stream",
     "text": [
      "Estimating pose on detect id_detect: 66:   7%|▋         | 66/1005 [00:51<15:54,  1.02s/it]"
     ]
    },
    {
     "name": "stdout",
     "output_type": "stream",
     "text": [
      "optimizing\t elapsed time : 219.828\ts\r"
     ]
    },
    {
     "name": "stderr",
     "output_type": "stream",
     "text": [
      "Estimating pose on detect id_detect: 67:   7%|▋         | 67/1005 [00:52<16:14,  1.04s/it]"
     ]
    },
    {
     "name": "stdout",
     "output_type": "stream",
     "text": [
      "optimizing\t elapsed time : 220.48\tss"
     ]
    },
    {
     "name": "stderr",
     "output_type": "stream",
     "text": [
      "Estimating pose on detect id_detect: 68:   7%|▋         | 68/1005 [00:52<14:31,  1.08it/s]"
     ]
    },
    {
     "name": "stdout",
     "output_type": "stream",
     "text": [
      "optimizing\t elapsed time : 221.086\ts\r"
     ]
    },
    {
     "name": "stderr",
     "output_type": "stream",
     "text": [
      "Estimating pose on detect id_detect: 69:   7%|▋         | 69/1005 [00:53<12:58,  1.20it/s]"
     ]
    },
    {
     "name": "stdout",
     "output_type": "stream",
     "text": [
      "optimizing\t elapsed time : 221.699\ts\r"
     ]
    },
    {
     "name": "stderr",
     "output_type": "stream",
     "text": [
      "Estimating pose on detect id_detect: 70:   7%|▋         | 70/1005 [00:53<11:50,  1.32it/s]"
     ]
    },
    {
     "name": "stdout",
     "output_type": "stream",
     "text": [
      "optimizing\t elapsed time : 222.118\ts"
     ]
    },
    {
     "name": "stderr",
     "output_type": "stream",
     "text": [
      "Estimating pose on detect id_detect: 71:   7%|▋         | 71/1005 [00:54<10:21,  1.50it/s]"
     ]
    },
    {
     "name": "stdout",
     "output_type": "stream",
     "text": [
      "optimizing\t elapsed time : 222.532\ts"
     ]
    },
    {
     "name": "stderr",
     "output_type": "stream",
     "text": [
      "Estimating pose on detect id_detect: 72:   7%|▋         | 72/1005 [00:54<09:44,  1.60it/s]"
     ]
    },
    {
     "name": "stdout",
     "output_type": "stream",
     "text": [
      "optimizing\t elapsed time : 222.949\ts"
     ]
    },
    {
     "name": "stderr",
     "output_type": "stream",
     "text": [
      "Estimating pose on detect id_detect: 73:   7%|▋         | 73/1005 [00:55<08:50,  1.76it/s]"
     ]
    },
    {
     "name": "stdout",
     "output_type": "stream",
     "text": [
      "optimizing\t elapsed time : 223.354\ts"
     ]
    },
    {
     "name": "stderr",
     "output_type": "stream",
     "text": [
      "Estimating pose on detect id_detect: 74:   7%|▋         | 74/1005 [00:55<08:10,  1.90it/s]"
     ]
    },
    {
     "name": "stdout",
     "output_type": "stream",
     "text": [
      "optimizing\t elapsed time : 223.982\ts\r"
     ]
    },
    {
     "name": "stderr",
     "output_type": "stream",
     "text": [
      "Estimating pose on detect id_detect: 75:   7%|▋         | 75/1005 [00:56<07:42,  2.01it/s]"
     ]
    },
    {
     "name": "stdout",
     "output_type": "stream",
     "text": [
      "optimizing\t elapsed time : 224.592\ts"
     ]
    },
    {
     "name": "stderr",
     "output_type": "stream",
     "text": [
      "Estimating pose on detect id_detect: 76:   8%|▊         | 76/1005 [00:57<08:48,  1.76it/s]"
     ]
    },
    {
     "name": "stdout",
     "output_type": "stream",
     "text": [
      "optimizing\t elapsed time : 225.209\ts\r"
     ]
    },
    {
     "name": "stderr",
     "output_type": "stream",
     "text": [
      "Estimating pose on detect id_detect: 77:   8%|▊         | 77/1005 [00:57<09:21,  1.65it/s]"
     ]
    },
    {
     "name": "stdout",
     "output_type": "stream",
     "text": [
      "optimizing\t elapsed time : 225.824\ts\r"
     ]
    },
    {
     "name": "stderr",
     "output_type": "stream",
     "text": [
      "Estimating pose on detect id_detect: 78:   8%|▊         | 78/1005 [00:58<08:40,  1.78it/s]"
     ]
    },
    {
     "name": "stdout",
     "output_type": "stream",
     "text": [
      "optimizing\t elapsed time : 226.236\ts\r"
     ]
    },
    {
     "name": "stderr",
     "output_type": "stream",
     "text": [
      "Estimating pose on detect id_detect: 79:   8%|▊         | 79/1005 [00:58<07:53,  1.95it/s]"
     ]
    },
    {
     "name": "stdout",
     "output_type": "stream",
     "text": [
      "optimizing\t elapsed time : 227.064\ts\r"
     ]
    },
    {
     "name": "stderr",
     "output_type": "stream",
     "text": [
      "Estimating pose on detect id_detect: 80:   8%|▊         | 80/1005 [00:59<09:34,  1.61it/s]"
     ]
    },
    {
     "name": "stdout",
     "output_type": "stream",
     "text": [
      "optimizing\t elapsed time : 227.669\ts\r"
     ]
    },
    {
     "name": "stderr",
     "output_type": "stream",
     "text": [
      "Estimating pose on detect id_detect: 81:   8%|▊         | 81/1005 [00:59<09:23,  1.64it/s]"
     ]
    },
    {
     "name": "stdout",
     "output_type": "stream",
     "text": [
      "optimizing\t elapsed time : 228.108\ts"
     ]
    },
    {
     "name": "stderr",
     "output_type": "stream",
     "text": [
      "Estimating pose on detect id_detect: 82:   8%|▊         | 82/1005 [01:00<08:33,  1.80it/s]"
     ]
    },
    {
     "name": "stdout",
     "output_type": "stream",
     "text": [
      "optimizing\t elapsed time : 228.72\tss\r"
     ]
    },
    {
     "name": "stderr",
     "output_type": "stream",
     "text": [
      "Estimating pose on detect id_detect: 83:   8%|▊         | 83/1005 [01:01<09:18,  1.65it/s]"
     ]
    },
    {
     "name": "stdout",
     "output_type": "stream",
     "text": [
      "optimizing\t elapsed time : 229.534\ts"
     ]
    },
    {
     "name": "stderr",
     "output_type": "stream",
     "text": [
      "Estimating pose on detect id_detect: 84:   8%|▊         | 84/1005 [01:01<09:59,  1.54it/s]"
     ]
    },
    {
     "name": "stdout",
     "output_type": "stream",
     "text": [
      "optimizing\t elapsed time : 229.949\ts"
     ]
    },
    {
     "name": "stderr",
     "output_type": "stream",
     "text": [
      "Estimating pose on detect id_detect: 85:   8%|▊         | 85/1005 [01:02<08:38,  1.77it/s]"
     ]
    },
    {
     "name": "stdout",
     "output_type": "stream",
     "text": [
      "optimizing\t elapsed time : 230.354\ts\r"
     ]
    },
    {
     "name": "stderr",
     "output_type": "stream",
     "text": [
      "Estimating pose on detect id_detect: 86:   9%|▊         | 86/1005 [01:02<08:29,  1.80it/s]"
     ]
    },
    {
     "name": "stdout",
     "output_type": "stream",
     "text": [
      "optimizing\t elapsed time : 230.968\ts\r"
     ]
    },
    {
     "name": "stderr",
     "output_type": "stream",
     "text": [
      "Estimating pose on detect id_detect: 87:   9%|▊         | 87/1005 [01:03<08:37,  1.77it/s]"
     ]
    },
    {
     "name": "stdout",
     "output_type": "stream",
     "text": [
      "optimizing\t elapsed time : 231.371\ts"
     ]
    },
    {
     "name": "stderr",
     "output_type": "stream",
     "text": [
      "Estimating pose on detect id_detect: 88:   9%|▉         | 88/1005 [01:03<07:42,  1.98it/s]"
     ]
    },
    {
     "name": "stdout",
     "output_type": "stream",
     "text": [
      "optimizing\t elapsed time : 231.986\ts\r"
     ]
    },
    {
     "name": "stderr",
     "output_type": "stream",
     "text": [
      "Estimating pose on detect id_detect: 89:   9%|▉         | 89/1005 [01:04<08:06,  1.88it/s]"
     ]
    },
    {
     "name": "stdout",
     "output_type": "stream",
     "text": [
      "optimizing\t elapsed time : 232.39\tss\r"
     ]
    },
    {
     "name": "stderr",
     "output_type": "stream",
     "text": [
      "Estimating pose on detect id_detect: 90:   9%|▉         | 90/1005 [01:04<07:31,  2.03it/s]"
     ]
    },
    {
     "name": "stdout",
     "output_type": "stream",
     "text": [
      "optimizing\t elapsed time : 232.815\ts\r"
     ]
    },
    {
     "name": "stderr",
     "output_type": "stream",
     "text": [
      "Estimating pose on detect id_detect: 91:   9%|▉         | 91/1005 [01:05<07:40,  1.99it/s]"
     ]
    },
    {
     "name": "stdout",
     "output_type": "stream",
     "text": [
      "optimizing\t elapsed time : 233.856\ts\r"
     ]
    },
    {
     "name": "stderr",
     "output_type": "stream",
     "text": [
      "Estimating pose on detect id_detect: 92:   9%|▉         | 92/1005 [01:06<09:51,  1.54it/s]"
     ]
    },
    {
     "name": "stdout",
     "output_type": "stream",
     "text": [
      "optimizing\t elapsed time : 234.502\ts\r"
     ]
    },
    {
     "name": "stderr",
     "output_type": "stream",
     "text": [
      "Estimating pose on detect id_detect: 93:   9%|▉         | 93/1005 [01:06<09:58,  1.52it/s]"
     ]
    },
    {
     "name": "stdout",
     "output_type": "stream",
     "text": [
      "optimizing\t elapsed time : 235.12\tss"
     ]
    },
    {
     "name": "stderr",
     "output_type": "stream",
     "text": [
      "Estimating pose on detect id_detect: 94:   9%|▉         | 94/1005 [01:07<09:16,  1.64it/s]"
     ]
    },
    {
     "name": "stdout",
     "output_type": "stream",
     "text": [
      "optimizing\t elapsed time : 235.944\ts\r"
     ]
    },
    {
     "name": "stderr",
     "output_type": "stream",
     "text": [
      "Estimating pose on detect id_detect: 95:   9%|▉         | 95/1005 [01:08<10:08,  1.50it/s]"
     ]
    },
    {
     "name": "stdout",
     "output_type": "stream",
     "text": [
      "optimizing\t elapsed time : 237.596\ts\r"
     ]
    },
    {
     "name": "stderr",
     "output_type": "stream",
     "text": [
      "Estimating pose on detect id_detect: 96:  10%|▉         | 96/1005 [01:09<14:56,  1.01it/s]"
     ]
    },
    {
     "name": "stdout",
     "output_type": "stream",
     "text": [
      "optimizing\t elapsed time : 238.031\ts\r"
     ]
    },
    {
     "name": "stderr",
     "output_type": "stream",
     "text": [
      "Estimating pose on detect id_detect: 97:  10%|▉         | 97/1005 [01:10<12:37,  1.20it/s]"
     ]
    },
    {
     "name": "stdout",
     "output_type": "stream",
     "text": [
      "optimizing\t elapsed time : 238.66\tss"
     ]
    },
    {
     "name": "stderr",
     "output_type": "stream",
     "text": [
      "Estimating pose on detect id_detect: 98:  10%|▉         | 98/1005 [01:11<11:35,  1.30it/s]"
     ]
    },
    {
     "name": "stdout",
     "output_type": "stream",
     "text": [
      "optimizing\t elapsed time : 240.31\tss\r"
     ]
    },
    {
     "name": "stderr",
     "output_type": "stream",
     "text": [
      "Estimating pose on detect id_detect: 99:  10%|▉         | 99/1005 [01:12<15:01,  1.00it/s]"
     ]
    },
    {
     "name": "stdout",
     "output_type": "stream",
     "text": [
      "optimizing\t elapsed time : 240.919\ts"
     ]
    },
    {
     "name": "stderr",
     "output_type": "stream",
     "text": [
      "Estimating pose on detect id_detect: 100:  10%|▉         | 100/1005 [01:13<13:27,  1.12it/s]"
     ]
    },
    {
     "name": "stdout",
     "output_type": "stream",
     "text": [
      "optimizing\t elapsed time : 241.34\tss"
     ]
    },
    {
     "name": "stderr",
     "output_type": "stream",
     "text": [
      "Estimating pose on detect id_detect: 101:  10%|█         | 101/1005 [01:13<11:08,  1.35it/s]"
     ]
    },
    {
     "name": "stdout",
     "output_type": "stream",
     "text": [
      "optimizing\t elapsed time : 241.743\ts"
     ]
    },
    {
     "name": "stderr",
     "output_type": "stream",
     "text": [
      "Estimating pose on detect id_detect: 102:  10%|█         | 102/1005 [01:14<09:45,  1.54it/s]"
     ]
    },
    {
     "name": "stdout",
     "output_type": "stream",
     "text": [
      "optimizing\t elapsed time : 242.142\ts"
     ]
    },
    {
     "name": "stderr",
     "output_type": "stream",
     "text": [
      "Estimating pose on detect id_detect: 103:  10%|█         | 103/1005 [01:14<08:44,  1.72it/s]"
     ]
    },
    {
     "name": "stdout",
     "output_type": "stream",
     "text": [
      "optimizing\t elapsed time : 243.166\ts"
     ]
    },
    {
     "name": "stderr",
     "output_type": "stream",
     "text": [
      "Estimating pose on detect id_detect: 104:  10%|█         | 104/1005 [01:15<10:26,  1.44it/s]"
     ]
    },
    {
     "name": "stdout",
     "output_type": "stream",
     "text": [
      "optimizing\t elapsed time : 243.573\ts\r"
     ]
    },
    {
     "name": "stderr",
     "output_type": "stream",
     "text": [
      "Estimating pose on detect id_detect: 105:  10%|█         | 105/1005 [01:15<09:39,  1.55it/s]"
     ]
    },
    {
     "name": "stdout",
     "output_type": "stream",
     "text": [
      "optimizing\t elapsed time : 243.972\ts"
     ]
    },
    {
     "name": "stderr",
     "output_type": "stream",
     "text": [
      "Estimating pose on detect id_detect: 106:  11%|█         | 106/1005 [01:16<09:01,  1.66it/s]"
     ]
    },
    {
     "name": "stdout",
     "output_type": "stream",
     "text": [
      "optimizing\t elapsed time : 245.667\ts\r"
     ]
    },
    {
     "name": "stderr",
     "output_type": "stream",
     "text": [
      "Estimating pose on detect id_detect: 107:  11%|█         | 107/1005 [01:18<13:20,  1.12it/s]"
     ]
    },
    {
     "name": "stdout",
     "output_type": "stream",
     "text": [
      "optimizing\t elapsed time : 246.156\ts\r"
     ]
    },
    {
     "name": "stderr",
     "output_type": "stream",
     "text": [
      "Estimating pose on detect id_detect: 108:  11%|█         | 108/1005 [01:18<11:30,  1.30it/s]"
     ]
    },
    {
     "name": "stdout",
     "output_type": "stream",
     "text": [
      "optimizing\t elapsed time : 246.768\ts\r"
     ]
    },
    {
     "name": "stderr",
     "output_type": "stream",
     "text": [
      "Estimating pose on detect id_detect: 109:  11%|█         | 109/1005 [01:19<10:45,  1.39it/s]"
     ]
    },
    {
     "name": "stdout",
     "output_type": "stream",
     "text": [
      "optimizing\t elapsed time : 247.396\ts"
     ]
    },
    {
     "name": "stderr",
     "output_type": "stream",
     "text": [
      "Estimating pose on detect id_detect: 110:  11%|█         | 110/1005 [01:19<10:05,  1.48it/s]"
     ]
    },
    {
     "name": "stdout",
     "output_type": "stream",
     "text": [
      "optimizing\t elapsed time : 247.795\ts\r"
     ]
    },
    {
     "name": "stderr",
     "output_type": "stream",
     "text": [
      "Estimating pose on detect id_detect: 111:  11%|█         | 111/1005 [01:20<09:13,  1.62it/s]"
     ]
    },
    {
     "name": "stdout",
     "output_type": "stream",
     "text": [
      "optimizing\t elapsed time : 249.034\ts"
     ]
    },
    {
     "name": "stderr",
     "output_type": "stream",
     "text": [
      "Estimating pose on detect id_detect: 112:  11%|█         | 112/1005 [01:21<12:09,  1.22it/s]"
     ]
    },
    {
     "name": "stdout",
     "output_type": "stream",
     "text": [
      "optimizing\t elapsed time : 249.668\ts\r"
     ]
    },
    {
     "name": "stderr",
     "output_type": "stream",
     "text": [
      "Estimating pose on detect id_detect: 113:  11%|█         | 113/1005 [01:22<11:14,  1.32it/s]"
     ]
    },
    {
     "name": "stdout",
     "output_type": "stream",
     "text": [
      "optimizing\t elapsed time : 250.262\ts\r"
     ]
    },
    {
     "name": "stderr",
     "output_type": "stream",
     "text": [
      "Estimating pose on detect id_detect: 114:  11%|█▏        | 114/1005 [01:22<10:37,  1.40it/s]"
     ]
    },
    {
     "name": "stdout",
     "output_type": "stream",
     "text": [
      "optimizing\t elapsed time : 251.102\ts\r"
     ]
    },
    {
     "name": "stderr",
     "output_type": "stream",
     "text": [
      "Estimating pose on detect id_detect: 115:  11%|█▏        | 115/1005 [01:23<10:41,  1.39it/s]"
     ]
    },
    {
     "name": "stdout",
     "output_type": "stream",
     "text": [
      "optimizing\t elapsed time : 251.726\ts\r"
     ]
    },
    {
     "name": "stderr",
     "output_type": "stream",
     "text": [
      "Estimating pose on detect id_detect: 116:  12%|█▏        | 116/1005 [01:24<09:59,  1.48it/s]"
     ]
    },
    {
     "name": "stdout",
     "output_type": "stream",
     "text": [
      "optimizing\t elapsed time : 252.135\ts\r"
     ]
    },
    {
     "name": "stderr",
     "output_type": "stream",
     "text": [
      "Estimating pose on detect id_detect: 116:  12%|█▏        | 117/1005 [01:24<09:42,  1.52it/s]"
     ]
    },
    {
     "name": "stdout",
     "output_type": "stream",
     "text": [
      "optimizing\t elapsed time : 252.353\ts"
     ]
    },
    {
     "name": "stderr",
     "output_type": "stream",
     "text": [
      "Estimating pose on detect id_detect: 117:  12%|█▏        | 117/1005 [01:24<09:42,  1.52it/s]"
     ]
    },
    {
     "name": "stdout",
     "output_type": "stream",
     "text": [
      "optimizing\t elapsed time : 252.737\ts"
     ]
    },
    {
     "name": "stderr",
     "output_type": "stream",
     "text": [
      "Estimating pose on detect id_detect: 118:  12%|█▏        | 118/1005 [01:25<08:44,  1.69it/s]"
     ]
    },
    {
     "name": "stdout",
     "output_type": "stream",
     "text": [
      "optimizing\t elapsed time : 253.214\ts\r"
     ]
    },
    {
     "name": "stderr",
     "output_type": "stream",
     "text": [
      "Estimating pose on detect id_detect: 119:  12%|█▏        | 119/1005 [01:25<08:16,  1.78it/s]"
     ]
    },
    {
     "name": "stdout",
     "output_type": "stream",
     "text": [
      "optimizing\t elapsed time : 253.834\ts\r"
     ]
    },
    {
     "name": "stderr",
     "output_type": "stream",
     "text": [
      "Estimating pose on detect id_detect: 120:  12%|█▏        | 120/1005 [01:26<08:18,  1.78it/s]"
     ]
    },
    {
     "name": "stdout",
     "output_type": "stream",
     "text": [
      "optimizing\t elapsed time : 259.98\tss"
     ]
    },
    {
     "name": "stderr",
     "output_type": "stream",
     "text": [
      "Estimating pose on detect id_detect: 121:  12%|█▏        | 121/1005 [01:32<32:58,  2.24s/it]"
     ]
    },
    {
     "name": "stdout",
     "output_type": "stream",
     "text": [
      "optimizing\t elapsed time : 260.181\ts\r"
     ]
    },
    {
     "name": "stderr",
     "output_type": "stream",
     "text": [
      "Estimating pose on detect id_detect: 122:  12%|█▏        | 122/1005 [01:32<24:47,  1.68s/it]"
     ]
    },
    {
     "name": "stdout",
     "output_type": "stream",
     "text": [
      "optimizing\t elapsed time : 260.597\ts\r"
     ]
    },
    {
     "name": "stderr",
     "output_type": "stream",
     "text": [
      "Estimating pose on detect id_detect: 123:  12%|█▏        | 123/1005 [01:32<18:48,  1.28s/it]"
     ]
    },
    {
     "name": "stdout",
     "output_type": "stream",
     "text": [
      "optimizing\t elapsed time : 261.427\ts\r"
     ]
    },
    {
     "name": "stderr",
     "output_type": "stream",
     "text": [
      "Estimating pose on detect id_detect: 124:  12%|█▏        | 124/1005 [01:33<16:52,  1.15s/it]"
     ]
    },
    {
     "name": "stdout",
     "output_type": "stream",
     "text": [
      "optimizing\t elapsed time : 263.296\ts\r"
     ]
    },
    {
     "name": "stderr",
     "output_type": "stream",
     "text": [
      "Estimating pose on detect id_detect: 125:  12%|█▏        | 125/1005 [01:35<20:17,  1.38s/it]"
     ]
    },
    {
     "name": "stdout",
     "output_type": "stream",
     "text": [
      "optimizing\t elapsed time : 264.995\ts"
     ]
    },
    {
     "name": "stderr",
     "output_type": "stream",
     "text": [
      "Estimating pose on detect id_detect: 126:  13%|█▎        | 126/1005 [01:37<21:13,  1.45s/it]"
     ]
    },
    {
     "name": "stdout",
     "output_type": "stream",
     "text": [
      "optimizing\t elapsed time : 265.829\ts\r"
     ]
    },
    {
     "name": "stderr",
     "output_type": "stream",
     "text": [
      "Estimating pose on detect id_detect: 127:  13%|█▎        | 127/1005 [01:38<18:35,  1.27s/it]"
     ]
    },
    {
     "name": "stdout",
     "output_type": "stream",
     "text": [
      "optimizing\t elapsed time : 266.457\ts"
     ]
    },
    {
     "name": "stderr",
     "output_type": "stream",
     "text": [
      "Estimating pose on detect id_detect: 128:  13%|█▎        | 128/1005 [01:38<15:58,  1.09s/it]"
     ]
    },
    {
     "name": "stdout",
     "output_type": "stream",
     "text": [
      "optimizing\t elapsed time : 267.088\ts"
     ]
    },
    {
     "name": "stderr",
     "output_type": "stream",
     "text": [
      "Estimating pose on detect id_detect: 129:  13%|█▎        | 129/1005 [01:39<13:58,  1.04it/s]"
     ]
    },
    {
     "name": "stdout",
     "output_type": "stream",
     "text": [
      "optimizing\t elapsed time : 267.9\tsss"
     ]
    },
    {
     "name": "stderr",
     "output_type": "stream",
     "text": [
      "Estimating pose on detect id_detect: 130:  13%|█▎        | 130/1005 [01:40<12:46,  1.14it/s]"
     ]
    },
    {
     "name": "stdout",
     "output_type": "stream",
     "text": [
      "optimizing\t elapsed time : 271.658\ts\r"
     ]
    },
    {
     "name": "stderr",
     "output_type": "stream",
     "text": [
      "Estimating pose on detect id_detect: 131:  13%|█▎        | 131/1005 [01:44<25:35,  1.76s/it]"
     ]
    },
    {
     "name": "stdout",
     "output_type": "stream",
     "text": [
      "optimizing\t elapsed time : 272.729\ts\r"
     ]
    },
    {
     "name": "stderr",
     "output_type": "stream",
     "text": [
      "Estimating pose on detect id_detect: 132:  13%|█▎        | 132/1005 [01:45<22:29,  1.55s/it]"
     ]
    },
    {
     "name": "stdout",
     "output_type": "stream",
     "text": [
      "optimizing\t elapsed time : 273.139\ts\r"
     ]
    },
    {
     "name": "stderr",
     "output_type": "stream",
     "text": [
      "Estimating pose on detect id_detect: 133:  13%|█▎        | 133/1005 [01:45<17:57,  1.24s/it]"
     ]
    },
    {
     "name": "stdout",
     "output_type": "stream",
     "text": [
      "optimizing\t elapsed time : 273.77\tss\r"
     ]
    },
    {
     "name": "stderr",
     "output_type": "stream",
     "text": [
      "Estimating pose on detect id_detect: 133:  13%|█▎        | 134/1005 [01:46<15:21,  1.06s/it]"
     ]
    },
    {
     "name": "stdout",
     "output_type": "stream",
     "text": [
      "optimizing\t elapsed time : 273.959\ts\r"
     ]
    },
    {
     "name": "stderr",
     "output_type": "stream",
     "text": [
      "Estimating pose on detect id_detect: 134:  13%|█▎        | 134/1005 [01:46<15:21,  1.06s/it]"
     ]
    },
    {
     "name": "stdout",
     "output_type": "stream",
     "text": [
      "optimizing\t elapsed time : 274.401\ts\r"
     ]
    },
    {
     "name": "stderr",
     "output_type": "stream",
     "text": [
      "Estimating pose on detect id_detect: 135:  13%|█▎        | 135/1005 [01:46<13:04,  1.11it/s]"
     ]
    },
    {
     "name": "stdout",
     "output_type": "stream",
     "text": [
      "optimizing\t elapsed time : 275.421\ts"
     ]
    },
    {
     "name": "stderr",
     "output_type": "stream",
     "text": [
      "Estimating pose on detect id_detect: 136:  14%|█▎        | 136/1005 [01:47<13:23,  1.08it/s]"
     ]
    },
    {
     "name": "stdout",
     "output_type": "stream",
     "text": [
      "optimizing\t elapsed time : 276.035\ts\r"
     ]
    },
    {
     "name": "stderr",
     "output_type": "stream",
     "text": [
      "Estimating pose on detect id_detect: 137:  14%|█▎        | 137/1005 [01:48<12:01,  1.20it/s]"
     ]
    },
    {
     "name": "stdout",
     "output_type": "stream",
     "text": [
      "optimizing\t elapsed time : 276.642\ts\r"
     ]
    },
    {
     "name": "stderr",
     "output_type": "stream",
     "text": [
      "Estimating pose on detect id_detect: 138:  14%|█▎        | 138/1005 [01:48<11:02,  1.31it/s]"
     ]
    },
    {
     "name": "stdout",
     "output_type": "stream",
     "text": [
      "optimizing\t elapsed time : 276.857\ts\r"
     ]
    },
    {
     "name": "stderr",
     "output_type": "stream",
     "text": [
      "Estimating pose on detect id_detect: 139:  14%|█▍        | 139/1005 [01:49<09:03,  1.59it/s]"
     ]
    },
    {
     "name": "stdout",
     "output_type": "stream",
     "text": [
      "optimizing\t elapsed time : 277.256\ts\r"
     ]
    },
    {
     "name": "stderr",
     "output_type": "stream",
     "text": [
      "Estimating pose on detect id_detect: 140:  14%|█▍        | 140/1005 [01:49<08:11,  1.76it/s]"
     ]
    },
    {
     "name": "stdout",
     "output_type": "stream",
     "text": [
      "optimizing\t elapsed time : 278.704\ts\r"
     ]
    },
    {
     "name": "stderr",
     "output_type": "stream",
     "text": [
      "Estimating pose on detect id_detect: 141:  14%|█▍        | 141/1005 [01:51<11:25,  1.26it/s]"
     ]
    },
    {
     "name": "stdout",
     "output_type": "stream",
     "text": [
      "optimizing\t elapsed time : 279.135\ts"
     ]
    },
    {
     "name": "stderr",
     "output_type": "stream",
     "text": [
      "Estimating pose on detect id_detect: 142:  14%|█▍        | 142/1005 [01:51<10:20,  1.39it/s]"
     ]
    },
    {
     "name": "stdout",
     "output_type": "stream",
     "text": [
      "optimizing\t elapsed time : 279.745\ts\r"
     ]
    },
    {
     "name": "stderr",
     "output_type": "stream",
     "text": [
      "Estimating pose on detect id_detect: 143:  14%|█▍        | 143/1005 [01:52<09:21,  1.54it/s]"
     ]
    },
    {
     "name": "stdout",
     "output_type": "stream",
     "text": [
      "optimizing\t elapsed time : 280.58\tss\r"
     ]
    },
    {
     "name": "stderr",
     "output_type": "stream",
     "text": [
      "Estimating pose on detect id_detect: 144:  14%|█▍        | 144/1005 [01:52<10:17,  1.39it/s]"
     ]
    },
    {
     "name": "stdout",
     "output_type": "stream",
     "text": [
      "optimizing\t elapsed time : 281.861\ts"
     ]
    },
    {
     "name": "stderr",
     "output_type": "stream",
     "text": [
      "Estimating pose on detect id_detect: 145:  14%|█▍        | 145/1005 [01:54<12:40,  1.13it/s]"
     ]
    },
    {
     "name": "stdout",
     "output_type": "stream",
     "text": [
      "optimizing\t elapsed time : 282.681\ts"
     ]
    },
    {
     "name": "stderr",
     "output_type": "stream",
     "text": [
      "Estimating pose on detect id_detect: 146:  15%|█▍        | 146/1005 [01:55<12:20,  1.16it/s]"
     ]
    },
    {
     "name": "stdout",
     "output_type": "stream",
     "text": [
      "optimizing\t elapsed time : 283.305\ts\r"
     ]
    },
    {
     "name": "stderr",
     "output_type": "stream",
     "text": [
      "Estimating pose on detect id_detect: 147:  15%|█▍        | 147/1005 [01:55<11:27,  1.25it/s]"
     ]
    },
    {
     "name": "stdout",
     "output_type": "stream",
     "text": [
      "optimizing\t elapsed time : 283.713\ts\r"
     ]
    },
    {
     "name": "stderr",
     "output_type": "stream",
     "text": [
      "Estimating pose on detect id_detect: 148:  15%|█▍        | 148/1005 [01:56<09:44,  1.47it/s]"
     ]
    },
    {
     "name": "stdout",
     "output_type": "stream",
     "text": [
      "optimizing\t elapsed time : 284.34\tss\r"
     ]
    },
    {
     "name": "stderr",
     "output_type": "stream",
     "text": [
      "Estimating pose on detect id_detect: 149:  15%|█▍        | 149/1005 [01:56<09:14,  1.54it/s]"
     ]
    },
    {
     "name": "stdout",
     "output_type": "stream",
     "text": [
      "optimizing\t elapsed time : 284.946\ts"
     ]
    },
    {
     "name": "stderr",
     "output_type": "stream",
     "text": [
      "Estimating pose on detect id_detect: 150:  15%|█▍        | 150/1005 [01:57<08:54,  1.60it/s]"
     ]
    },
    {
     "name": "stdout",
     "output_type": "stream",
     "text": [
      "optimizing\t elapsed time : 286.616\ts"
     ]
    },
    {
     "name": "stderr",
     "output_type": "stream",
     "text": [
      "Estimating pose on detect id_detect: 151:  15%|█▌        | 151/1005 [01:58<13:31,  1.05it/s]"
     ]
    },
    {
     "name": "stdout",
     "output_type": "stream",
     "text": [
      "optimizing\t elapsed time : 287.028\ts\r"
     ]
    },
    {
     "name": "stderr",
     "output_type": "stream",
     "text": [
      "Estimating pose on detect id_detect: 152:  15%|█▌        | 152/1005 [01:59<11:29,  1.24it/s]"
     ]
    },
    {
     "name": "stdout",
     "output_type": "stream",
     "text": [
      "optimizing\t elapsed time : 287.632\ts"
     ]
    },
    {
     "name": "stderr",
     "output_type": "stream",
     "text": [
      "Estimating pose on detect id_detect: 153:  15%|█▌        | 153/1005 [01:59<10:08,  1.40it/s]"
     ]
    },
    {
     "name": "stdout",
     "output_type": "stream",
     "text": [
      "optimizing\t elapsed time : 288.664\ts\r"
     ]
    },
    {
     "name": "stderr",
     "output_type": "stream",
     "text": [
      "Estimating pose on detect id_detect: 154:  15%|█▌        | 154/1005 [02:00<11:33,  1.23it/s]"
     ]
    },
    {
     "name": "stdout",
     "output_type": "stream",
     "text": [
      "optimizing\t elapsed time : 289.499\ts"
     ]
    },
    {
     "name": "stderr",
     "output_type": "stream",
     "text": [
      "Estimating pose on detect id_detect: 155:  15%|█▌        | 155/1005 [02:01<11:58,  1.18it/s]"
     ]
    },
    {
     "name": "stdout",
     "output_type": "stream",
     "text": [
      "optimizing\t elapsed time : 290.765\ts\r"
     ]
    },
    {
     "name": "stderr",
     "output_type": "stream",
     "text": [
      "Estimating pose on detect id_detect: 156:  16%|█▌        | 156/1005 [02:03<13:36,  1.04it/s]"
     ]
    },
    {
     "name": "stdout",
     "output_type": "stream",
     "text": [
      "optimizing\t elapsed time : 291.193\ts\r"
     ]
    },
    {
     "name": "stderr",
     "output_type": "stream",
     "text": [
      "Estimating pose on detect id_detect: 157:  16%|█▌        | 157/1005 [02:03<11:13,  1.26it/s]"
     ]
    },
    {
     "name": "stdout",
     "output_type": "stream",
     "text": [
      "optimizing\t elapsed time : 291.819\ts"
     ]
    },
    {
     "name": "stderr",
     "output_type": "stream",
     "text": [
      "Estimating pose on detect id_detect: 158:  16%|█▌        | 158/1005 [02:04<10:43,  1.32it/s]"
     ]
    },
    {
     "name": "stdout",
     "output_type": "stream",
     "text": [
      "optimizing\t elapsed time : 292.45\tss\r"
     ]
    },
    {
     "name": "stderr",
     "output_type": "stream",
     "text": [
      "Estimating pose on detect id_detect: 159:  16%|█▌        | 159/1005 [02:04<09:54,  1.42it/s]"
     ]
    },
    {
     "name": "stdout",
     "output_type": "stream",
     "text": [
      "optimizing\t elapsed time : 295.343\ts\r"
     ]
    },
    {
     "name": "stderr",
     "output_type": "stream",
     "text": [
      "Estimating pose on detect id_detect: 160:  16%|█▌        | 160/1005 [02:07<19:07,  1.36s/it]"
     ]
    },
    {
     "name": "stdout",
     "output_type": "stream",
     "text": [
      "optimizing\t elapsed time : 295.97\tss\r"
     ]
    },
    {
     "name": "stderr",
     "output_type": "stream",
     "text": [
      "Estimating pose on detect id_detect: 161:  16%|█▌        | 161/1005 [02:08<16:04,  1.14s/it]"
     ]
    },
    {
     "name": "stdout",
     "output_type": "stream",
     "text": [
      "optimizing\t elapsed time : 296.356\ts"
     ]
    },
    {
     "name": "stderr",
     "output_type": "stream",
     "text": [
      "Estimating pose on detect id_detect: 162:  16%|█▌        | 162/1005 [02:08<13:12,  1.06it/s]"
     ]
    },
    {
     "name": "stdout",
     "output_type": "stream",
     "text": [
      "optimizing\t elapsed time : 297.438\ts\r"
     ]
    },
    {
     "name": "stderr",
     "output_type": "stream",
     "text": [
      "Estimating pose on detect id_detect: 163:  16%|█▌        | 163/1005 [02:09<13:21,  1.05it/s]"
     ]
    },
    {
     "name": "stdout",
     "output_type": "stream",
     "text": [
      "optimizing\t elapsed time : 298.91\tss\r"
     ]
    },
    {
     "name": "stderr",
     "output_type": "stream",
     "text": [
      "Estimating pose on detect id_detect: 164:  16%|█▋        | 164/1005 [02:11<15:34,  1.11s/it]"
     ]
    },
    {
     "name": "stdout",
     "output_type": "stream",
     "text": [
      "optimizing\t elapsed time : 299.499\ts"
     ]
    },
    {
     "name": "stderr",
     "output_type": "stream",
     "text": [
      "Estimating pose on detect id_detect: 165:  16%|█▋        | 165/1005 [02:11<13:19,  1.05it/s]"
     ]
    },
    {
     "name": "stdout",
     "output_type": "stream",
     "text": [
      "optimizing\t elapsed time : 300.139\ts\r"
     ]
    },
    {
     "name": "stderr",
     "output_type": "stream",
     "text": [
      "Estimating pose on detect id_detect: 166:  17%|█▋        | 166/1005 [02:12<11:52,  1.18it/s]"
     ]
    },
    {
     "name": "stdout",
     "output_type": "stream",
     "text": [
      "optimizing\t elapsed time : 301.158\ts"
     ]
    },
    {
     "name": "stderr",
     "output_type": "stream",
     "text": [
      "Estimating pose on detect id_detect: 167:  17%|█▋        | 167/1005 [02:13<13:11,  1.06it/s]"
     ]
    },
    {
     "name": "stdout",
     "output_type": "stream",
     "text": [
      "optimizing\t elapsed time : 301.975\ts"
     ]
    },
    {
     "name": "stderr",
     "output_type": "stream",
     "text": [
      "Estimating pose on detect id_detect: 168:  17%|█▋        | 168/1005 [02:14<12:06,  1.15it/s]"
     ]
    },
    {
     "name": "stdout",
     "output_type": "stream",
     "text": [
      "optimizing\t elapsed time : 302.589\ts\r"
     ]
    },
    {
     "name": "stderr",
     "output_type": "stream",
     "text": [
      "Estimating pose on detect id_detect: 169:  17%|█▋        | 169/1005 [02:14<11:18,  1.23it/s]"
     ]
    },
    {
     "name": "stdout",
     "output_type": "stream",
     "text": [
      "optimizing\t elapsed time : 303.201\ts\r"
     ]
    },
    {
     "name": "stderr",
     "output_type": "stream",
     "text": [
      "Estimating pose on detect id_detect: 170:  17%|█▋        | 170/1005 [02:15<10:14,  1.36it/s]"
     ]
    },
    {
     "name": "stdout",
     "output_type": "stream",
     "text": [
      "optimizing\t elapsed time : 303.857\ts\r"
     ]
    },
    {
     "name": "stderr",
     "output_type": "stream",
     "text": [
      "Estimating pose on detect id_detect: 171:  17%|█▋        | 171/1005 [02:16<10:06,  1.38it/s]"
     ]
    },
    {
     "name": "stdout",
     "output_type": "stream",
     "text": [
      "optimizing\t elapsed time : 305.093\ts\r"
     ]
    },
    {
     "name": "stderr",
     "output_type": "stream",
     "text": [
      "Estimating pose on detect id_detect: 172:  17%|█▋        | 172/1005 [02:17<12:36,  1.10it/s]"
     ]
    },
    {
     "name": "stdout",
     "output_type": "stream",
     "text": [
      "optimizing\t elapsed time : 305.674\ts"
     ]
    },
    {
     "name": "stderr",
     "output_type": "stream",
     "text": [
      "Estimating pose on detect id_detect: 173:  17%|█▋        | 173/1005 [02:18<11:19,  1.22it/s]"
     ]
    },
    {
     "name": "stdout",
     "output_type": "stream",
     "text": [
      "optimizing\t elapsed time : 306.345\ts"
     ]
    },
    {
     "name": "stderr",
     "output_type": "stream",
     "text": [
      "Estimating pose on detect id_detect: 174:  17%|█▋        | 174/1005 [02:18<10:38,  1.30it/s]"
     ]
    },
    {
     "name": "stdout",
     "output_type": "stream",
     "text": [
      "optimizing\t elapsed time : 307.18\tss"
     ]
    },
    {
     "name": "stderr",
     "output_type": "stream",
     "text": [
      "Estimating pose on detect id_detect: 175:  17%|█▋        | 175/1005 [02:19<10:31,  1.31it/s]"
     ]
    },
    {
     "name": "stdout",
     "output_type": "stream",
     "text": [
      "optimizing\t elapsed time : 308.605\ts\r"
     ]
    },
    {
     "name": "stderr",
     "output_type": "stream",
     "text": [
      "Estimating pose on detect id_detect: 176:  18%|█▊        | 176/1005 [02:21<13:27,  1.03it/s]"
     ]
    },
    {
     "name": "stdout",
     "output_type": "stream",
     "text": [
      "optimizing\t elapsed time : 309.029\ts\r"
     ]
    },
    {
     "name": "stderr",
     "output_type": "stream",
     "text": [
      "Estimating pose on detect id_detect: 177:  18%|█▊        | 177/1005 [02:21<11:03,  1.25it/s]"
     ]
    },
    {
     "name": "stdout",
     "output_type": "stream",
     "text": [
      "optimizing\t elapsed time : 309.647\ts"
     ]
    },
    {
     "name": "stderr",
     "output_type": "stream",
     "text": [
      "Estimating pose on detect id_detect: 178:  18%|█▊        | 178/1005 [02:21<09:52,  1.40it/s]"
     ]
    },
    {
     "name": "stdout",
     "output_type": "stream",
     "text": [
      "optimizing\t elapsed time : 310.249\ts\r"
     ]
    },
    {
     "name": "stderr",
     "output_type": "stream",
     "text": [
      "Estimating pose on detect id_detect: 179:  18%|█▊        | 179/1005 [02:22<10:08,  1.36it/s]"
     ]
    },
    {
     "name": "stdout",
     "output_type": "stream",
     "text": [
      "optimizing\t elapsed time : 311.282\ts"
     ]
    },
    {
     "name": "stderr",
     "output_type": "stream",
     "text": [
      "Estimating pose on detect id_detect: 180:  18%|█▊        | 180/1005 [02:23<10:32,  1.30it/s]"
     ]
    },
    {
     "name": "stdout",
     "output_type": "stream",
     "text": [
      "optimizing\t elapsed time : 311.693\ts"
     ]
    },
    {
     "name": "stderr",
     "output_type": "stream",
     "text": [
      "Estimating pose on detect id_detect: 181:  18%|█▊        | 181/1005 [02:24<09:33,  1.44it/s]"
     ]
    },
    {
     "name": "stdout",
     "output_type": "stream",
     "text": [
      "optimizing\t elapsed time : 312.531\ts\r"
     ]
    },
    {
     "name": "stderr",
     "output_type": "stream",
     "text": [
      "Estimating pose on detect id_detect: 182:  18%|█▊        | 182/1005 [02:24<09:58,  1.37it/s]"
     ]
    },
    {
     "name": "stdout",
     "output_type": "stream",
     "text": [
      "optimizing\t elapsed time : 315.414\ts\r"
     ]
    },
    {
     "name": "stderr",
     "output_type": "stream",
     "text": [
      "Estimating pose on detect id_detect: 183:  18%|█▊        | 183/1005 [02:27<18:32,  1.35s/it]"
     ]
    },
    {
     "name": "stdout",
     "output_type": "stream",
     "text": [
      "optimizing\t elapsed time : 316.629\ts"
     ]
    },
    {
     "name": "stderr",
     "output_type": "stream",
     "text": [
      "Estimating pose on detect id_detect: 184:  18%|█▊        | 184/1005 [02:29<18:41,  1.37s/it]"
     ]
    },
    {
     "name": "stdout",
     "output_type": "stream",
     "text": [
      "optimizing\t elapsed time : 317.262\ts"
     ]
    },
    {
     "name": "stderr",
     "output_type": "stream",
     "text": [
      "Estimating pose on detect id_detect: 185:  18%|█▊        | 185/1005 [02:29<15:18,  1.12s/it]"
     ]
    },
    {
     "name": "stdout",
     "output_type": "stream",
     "text": [
      "optimizing\t elapsed time : 317.67\tss\r"
     ]
    },
    {
     "name": "stderr",
     "output_type": "stream",
     "text": [
      "Estimating pose on detect id_detect: 186:  19%|█▊        | 186/1005 [02:30<12:23,  1.10it/s]"
     ]
    },
    {
     "name": "stdout",
     "output_type": "stream",
     "text": [
      "optimizing\t elapsed time : 318.07\tss\r"
     ]
    },
    {
     "name": "stderr",
     "output_type": "stream",
     "text": [
      "Estimating pose on detect id_detect: 187:  19%|█▊        | 187/1005 [02:30<10:32,  1.29it/s]"
     ]
    },
    {
     "name": "stdout",
     "output_type": "stream",
     "text": [
      "optimizing\t elapsed time : 318.687\ts\r"
     ]
    },
    {
     "name": "stderr",
     "output_type": "stream",
     "text": [
      "Estimating pose on detect id_detect: 188:  19%|█▊        | 188/1005 [02:31<09:18,  1.46it/s]"
     ]
    },
    {
     "name": "stdout",
     "output_type": "stream",
     "text": [
      "optimizing\t elapsed time : 319.097\ts\r"
     ]
    },
    {
     "name": "stderr",
     "output_type": "stream",
     "text": [
      "Estimating pose on detect id_detect: 189:  19%|█▉        | 189/1005 [02:31<08:05,  1.68it/s]"
     ]
    },
    {
     "name": "stdout",
     "output_type": "stream",
     "text": [
      "optimizing\t elapsed time : 319.285\ts"
     ]
    },
    {
     "name": "stderr",
     "output_type": "stream",
     "text": [
      "Estimating pose on detect id_detect: 190:  19%|█▉        | 190/1005 [02:31<07:18,  1.86it/s]"
     ]
    },
    {
     "name": "stdout",
     "output_type": "stream",
     "text": [
      "optimizing\t elapsed time : 320.377\ts\r"
     ]
    },
    {
     "name": "stderr",
     "output_type": "stream",
     "text": [
      "Estimating pose on detect id_detect: 191:  19%|█▉        | 191/1005 [02:32<08:55,  1.52it/s]"
     ]
    },
    {
     "name": "stdout",
     "output_type": "stream",
     "text": [
      "optimizing\t elapsed time : 322.241\ts"
     ]
    },
    {
     "name": "stderr",
     "output_type": "stream",
     "text": [
      "Estimating pose on detect id_detect: 192:  19%|█▉        | 192/1005 [02:34<13:50,  1.02s/it]"
     ]
    },
    {
     "name": "stdout",
     "output_type": "stream",
     "text": [
      "optimizing\t elapsed time : 322.863\ts"
     ]
    },
    {
     "name": "stderr",
     "output_type": "stream",
     "text": [
      "Estimating pose on detect id_detect: 193:  19%|█▉        | 193/1005 [02:35<12:10,  1.11it/s]"
     ]
    },
    {
     "name": "stdout",
     "output_type": "stream",
     "text": [
      "optimizing\t elapsed time : 323.275\ts\r"
     ]
    },
    {
     "name": "stderr",
     "output_type": "stream",
     "text": [
      "Estimating pose on detect id_detect: 194:  19%|█▉        | 194/1005 [02:35<10:12,  1.32it/s]"
     ]
    },
    {
     "name": "stdout",
     "output_type": "stream",
     "text": [
      "optimizing\t elapsed time : 323.958\ts\r"
     ]
    },
    {
     "name": "stderr",
     "output_type": "stream",
     "text": [
      "Estimating pose on detect id_detect: 195:  19%|█▉        | 195/1005 [02:36<10:07,  1.33it/s]"
     ]
    },
    {
     "name": "stdout",
     "output_type": "stream",
     "text": [
      "optimizing\t elapsed time : 324.569\ts\r"
     ]
    },
    {
     "name": "stderr",
     "output_type": "stream",
     "text": [
      "Estimating pose on detect id_detect: 196:  20%|█▉        | 196/1005 [02:36<09:33,  1.41it/s]"
     ]
    },
    {
     "name": "stdout",
     "output_type": "stream",
     "text": [
      "optimizing\t elapsed time : 325.223\ts\r"
     ]
    },
    {
     "name": "stderr",
     "output_type": "stream",
     "text": [
      "Estimating pose on detect id_detect: 196:  20%|█▉        | 197/1005 [02:37<09:35,  1.41it/s]"
     ]
    },
    {
     "name": "stdout",
     "output_type": "stream",
     "text": [
      "optimizing\t elapsed time : 325.434\ts\r"
     ]
    },
    {
     "name": "stderr",
     "output_type": "stream",
     "text": [
      "Estimating pose on detect id_detect: 197:  20%|█▉        | 197/1005 [02:37<09:35,  1.41it/s]"
     ]
    },
    {
     "name": "stdout",
     "output_type": "stream",
     "text": [
      "optimizing\t elapsed time : 325.852\ts\r"
     ]
    },
    {
     "name": "stderr",
     "output_type": "stream",
     "text": [
      "Estimating pose on detect id_detect: 198:  20%|█▉        | 198/1005 [02:38<09:02,  1.49it/s]"
     ]
    },
    {
     "name": "stdout",
     "output_type": "stream",
     "text": [
      "optimizing\t elapsed time : 330.247\ts"
     ]
    },
    {
     "name": "stderr",
     "output_type": "stream",
     "text": [
      "Estimating pose on detect id_detect: 199:  20%|█▉        | 199/1005 [02:42<24:05,  1.79s/it]"
     ]
    },
    {
     "name": "stdout",
     "output_type": "stream",
     "text": [
      "optimizing\t elapsed time : 331.279\ts\r"
     ]
    },
    {
     "name": "stderr",
     "output_type": "stream",
     "text": [
      "Estimating pose on detect id_detect: 200:  20%|█▉        | 200/1005 [02:43<20:51,  1.56s/it]"
     ]
    },
    {
     "name": "stdout",
     "output_type": "stream",
     "text": [
      "optimizing\t elapsed time : 332.816\ts\r"
     ]
    },
    {
     "name": "stderr",
     "output_type": "stream",
     "text": [
      "Estimating pose on detect id_detect: 201:  20%|██        | 201/1005 [02:45<21:01,  1.57s/it]"
     ]
    },
    {
     "name": "stdout",
     "output_type": "stream",
     "text": [
      "optimizing\t elapsed time : 333.218\ts\r"
     ]
    },
    {
     "name": "stderr",
     "output_type": "stream",
     "text": [
      "Estimating pose on detect id_detect: 202:  20%|██        | 202/1005 [02:45<15:43,  1.17s/it]"
     ]
    },
    {
     "name": "stdout",
     "output_type": "stream",
     "text": [
      "optimizing\t elapsed time : 333.632\ts\r"
     ]
    },
    {
     "name": "stderr",
     "output_type": "stream",
     "text": [
      "Estimating pose on detect id_detect: 203:  20%|██        | 203/1005 [02:46<13:10,  1.01it/s]"
     ]
    },
    {
     "name": "stdout",
     "output_type": "stream",
     "text": [
      "optimizing\t elapsed time : 334.256\ts\r"
     ]
    },
    {
     "name": "stderr",
     "output_type": "stream",
     "text": [
      "Estimating pose on detect id_detect: 204:  20%|██        | 204/1005 [02:46<11:43,  1.14it/s]"
     ]
    },
    {
     "name": "stdout",
     "output_type": "stream",
     "text": [
      "optimizing\t elapsed time : 334.955\ts\r"
     ]
    },
    {
     "name": "stderr",
     "output_type": "stream",
     "text": [
      "Estimating pose on detect id_detect: 205:  20%|██        | 205/1005 [02:47<10:58,  1.21it/s]"
     ]
    },
    {
     "name": "stdout",
     "output_type": "stream",
     "text": [
      "optimizing\t elapsed time : 335.58\tss"
     ]
    },
    {
     "name": "stderr",
     "output_type": "stream",
     "text": [
      "Estimating pose on detect id_detect: 206:  20%|██        | 206/1005 [02:47<09:36,  1.39it/s]"
     ]
    },
    {
     "name": "stdout",
     "output_type": "stream",
     "text": [
      "optimizing\t elapsed time : 335.999\ts"
     ]
    },
    {
     "name": "stderr",
     "output_type": "stream",
     "text": [
      "Estimating pose on detect id_detect: 207:  21%|██        | 207/1005 [02:48<08:36,  1.55it/s]"
     ]
    },
    {
     "name": "stdout",
     "output_type": "stream",
     "text": [
      "optimizing\t elapsed time : 336.587\ts"
     ]
    },
    {
     "name": "stderr",
     "output_type": "stream",
     "text": [
      "Estimating pose on detect id_detect: 208:  21%|██        | 208/1005 [02:48<08:06,  1.64it/s]"
     ]
    },
    {
     "name": "stdout",
     "output_type": "stream",
     "text": [
      "optimizing\t elapsed time : 337.016\ts\r"
     ]
    },
    {
     "name": "stderr",
     "output_type": "stream",
     "text": [
      "Estimating pose on detect id_detect: 209:  21%|██        | 209/1005 [02:49<07:39,  1.73it/s]"
     ]
    },
    {
     "name": "stdout",
     "output_type": "stream",
     "text": [
      "optimizing\t elapsed time : 338.05\tss\r"
     ]
    },
    {
     "name": "stderr",
     "output_type": "stream",
     "text": [
      "Estimating pose on detect id_detect: 210:  21%|██        | 210/1005 [02:50<09:49,  1.35it/s]"
     ]
    },
    {
     "name": "stdout",
     "output_type": "stream",
     "text": [
      "optimizing\t elapsed time : 338.67\tss"
     ]
    },
    {
     "name": "stderr",
     "output_type": "stream",
     "text": [
      "Estimating pose on detect id_detect: 211:  21%|██        | 211/1005 [02:51<08:45,  1.51it/s]"
     ]
    },
    {
     "name": "stdout",
     "output_type": "stream",
     "text": [
      "optimizing\t elapsed time : 339.292\ts\r"
     ]
    },
    {
     "name": "stderr",
     "output_type": "stream",
     "text": [
      "Estimating pose on detect id_detect: 212:  21%|██        | 212/1005 [02:51<08:24,  1.57it/s]"
     ]
    },
    {
     "name": "stdout",
     "output_type": "stream",
     "text": [
      "optimizing\t elapsed time : 340.12\tss\r"
     ]
    },
    {
     "name": "stderr",
     "output_type": "stream",
     "text": [
      "Estimating pose on detect id_detect: 213:  21%|██        | 213/1005 [02:52<09:33,  1.38it/s]"
     ]
    },
    {
     "name": "stdout",
     "output_type": "stream",
     "text": [
      "optimizing\t elapsed time : 340.524\ts\r"
     ]
    },
    {
     "name": "stderr",
     "output_type": "stream",
     "text": [
      "Estimating pose on detect id_detect: 214:  21%|██▏       | 214/1005 [02:52<08:15,  1.60it/s]"
     ]
    },
    {
     "name": "stdout",
     "output_type": "stream",
     "text": [
      "optimizing\t elapsed time : 341.125\ts\r"
     ]
    },
    {
     "name": "stderr",
     "output_type": "stream",
     "text": [
      "Estimating pose on detect id_detect: 215:  21%|██▏       | 215/1005 [02:53<08:12,  1.60it/s]"
     ]
    },
    {
     "name": "stdout",
     "output_type": "stream",
     "text": [
      "optimizing\t elapsed time : 341.537\ts\r"
     ]
    },
    {
     "name": "stderr",
     "output_type": "stream",
     "text": [
      "Estimating pose on detect id_detect: 216:  21%|██▏       | 216/1005 [02:53<07:26,  1.77it/s]"
     ]
    },
    {
     "name": "stdout",
     "output_type": "stream",
     "text": [
      "optimizing\t elapsed time : 341.947\ts"
     ]
    },
    {
     "name": "stderr",
     "output_type": "stream",
     "text": [
      "Estimating pose on detect id_detect: 217:  22%|██▏       | 217/1005 [02:54<06:57,  1.89it/s]"
     ]
    },
    {
     "name": "stdout",
     "output_type": "stream",
     "text": [
      "optimizing\t elapsed time : 342.556\ts\r"
     ]
    },
    {
     "name": "stderr",
     "output_type": "stream",
     "text": [
      "Estimating pose on detect id_detect: 218:  22%|██▏       | 218/1005 [02:54<06:34,  1.99it/s]"
     ]
    },
    {
     "name": "stdout",
     "output_type": "stream",
     "text": [
      "optimizing\t elapsed time : 342.757\ts\r"
     ]
    },
    {
     "name": "stderr",
     "output_type": "stream",
     "text": [
      "Estimating pose on detect id_detect: 219:  22%|██▏       | 219/1005 [02:55<06:06,  2.15it/s]"
     ]
    },
    {
     "name": "stdout",
     "output_type": "stream",
     "text": [
      "optimizing\t elapsed time : 343.376\ts"
     ]
    },
    {
     "name": "stderr",
     "output_type": "stream",
     "text": [
      "Estimating pose on detect id_detect: 220:  22%|██▏       | 220/1005 [02:55<06:34,  1.99it/s]"
     ]
    },
    {
     "name": "stdout",
     "output_type": "stream",
     "text": [
      "optimizing\t elapsed time : 343.776\ts"
     ]
    },
    {
     "name": "stderr",
     "output_type": "stream",
     "text": [
      "Estimating pose on detect id_detect: 222:  22%|██▏       | 222/1005 [02:56<04:29,  2.90it/s]"
     ]
    },
    {
     "name": "stdout",
     "output_type": "stream",
     "text": [
      "optimizing\t elapsed time : 343.988\ts"
     ]
    },
    {
     "name": "stderr",
     "output_type": "stream",
     "text": [
      "Estimating pose on detect id_detect: 223:  22%|██▏       | 223/1005 [02:56<03:45,  3.47it/s]"
     ]
    },
    {
     "name": "stdout",
     "output_type": "stream",
     "text": [
      "optimizing\t elapsed time : 344.189\ts\r"
     ]
    },
    {
     "name": "stderr",
     "output_type": "stream",
     "text": [
      "Estimating pose on detect id_detect: 224:  22%|██▏       | 224/1005 [02:56<03:22,  3.85it/s]"
     ]
    },
    {
     "name": "stdout",
     "output_type": "stream",
     "text": [
      "optimizing\t elapsed time : 345.191\ts"
     ]
    },
    {
     "name": "stderr",
     "output_type": "stream",
     "text": [
      "Estimating pose on detect id_detect: 225:  22%|██▏       | 225/1005 [02:57<06:09,  2.11it/s]"
     ]
    },
    {
     "name": "stdout",
     "output_type": "stream",
     "text": [
      "optimizing\t elapsed time : 345.827\ts"
     ]
    },
    {
     "name": "stderr",
     "output_type": "stream",
     "text": [
      "Estimating pose on detect id_detect: 226:  22%|██▏       | 226/1005 [02:58<06:34,  1.97it/s]"
     ]
    },
    {
     "name": "stdout",
     "output_type": "stream",
     "text": [
      "optimizing\t elapsed time : 346.459\ts"
     ]
    },
    {
     "name": "stderr",
     "output_type": "stream",
     "text": [
      "Estimating pose on detect id_detect: 227:  23%|██▎       | 227/1005 [02:58<07:32,  1.72it/s]"
     ]
    },
    {
     "name": "stdout",
     "output_type": "stream",
     "text": [
      "optimizing\t elapsed time : 347.11\tss\r"
     ]
    },
    {
     "name": "stderr",
     "output_type": "stream",
     "text": [
      "Estimating pose on detect id_detect: 228:  23%|██▎       | 228/1005 [02:59<07:46,  1.67it/s]"
     ]
    },
    {
     "name": "stdout",
     "output_type": "stream",
     "text": [
      "optimizing\t elapsed time : 347.742\ts\r"
     ]
    },
    {
     "name": "stderr",
     "output_type": "stream",
     "text": [
      "Estimating pose on detect id_detect: 229:  23%|██▎       | 229/1005 [03:00<07:57,  1.63it/s]"
     ]
    },
    {
     "name": "stdout",
     "output_type": "stream",
     "text": [
      "optimizing\t elapsed time : 348.563\ts"
     ]
    },
    {
     "name": "stderr",
     "output_type": "stream",
     "text": [
      "Estimating pose on detect id_detect: 230:  23%|██▎       | 230/1005 [03:00<08:14,  1.57it/s]"
     ]
    },
    {
     "name": "stdout",
     "output_type": "stream",
     "text": [
      "optimizing\t elapsed time : 348.988\ts\r"
     ]
    },
    {
     "name": "stderr",
     "output_type": "stream",
     "text": [
      "Estimating pose on detect id_detect: 231:  23%|██▎       | 231/1005 [03:01<08:09,  1.58it/s]"
     ]
    },
    {
     "name": "stdout",
     "output_type": "stream",
     "text": [
      "optimizing\t elapsed time : 349.644\ts"
     ]
    },
    {
     "name": "stderr",
     "output_type": "stream",
     "text": [
      "Estimating pose on detect id_detect: 232:  23%|██▎       | 232/1005 [03:02<07:53,  1.63it/s]"
     ]
    },
    {
     "name": "stdout",
     "output_type": "stream",
     "text": [
      "optimizing\t elapsed time : 350.044\ts"
     ]
    },
    {
     "name": "stderr",
     "output_type": "stream",
     "text": [
      "Estimating pose on detect id_detect: 233:  23%|██▎       | 233/1005 [03:02<07:14,  1.78it/s]"
     ]
    },
    {
     "name": "stdout",
     "output_type": "stream",
     "text": [
      "optimizing\t elapsed time : 350.663\ts\r"
     ]
    },
    {
     "name": "stderr",
     "output_type": "stream",
     "text": [
      "Estimating pose on detect id_detect: 234:  23%|██▎       | 234/1005 [03:02<06:52,  1.87it/s]"
     ]
    },
    {
     "name": "stdout",
     "output_type": "stream",
     "text": [
      "optimizing\t elapsed time : 351.481\ts"
     ]
    },
    {
     "name": "stderr",
     "output_type": "stream",
     "text": [
      "Estimating pose on detect id_detect: 235:  23%|██▎       | 235/1005 [03:03<07:59,  1.61it/s]"
     ]
    },
    {
     "name": "stdout",
     "output_type": "stream",
     "text": [
      "optimizing\t elapsed time : 351.888\ts"
     ]
    },
    {
     "name": "stderr",
     "output_type": "stream",
     "text": [
      "Estimating pose on detect id_detect: 236:  23%|██▎       | 236/1005 [03:04<07:35,  1.69it/s]"
     ]
    },
    {
     "name": "stdout",
     "output_type": "stream",
     "text": [
      "optimizing\t elapsed time : 352.315\ts\r"
     ]
    },
    {
     "name": "stderr",
     "output_type": "stream",
     "text": [
      "Estimating pose on detect id_detect: 237:  24%|██▎       | 237/1005 [03:04<06:48,  1.88it/s]"
     ]
    },
    {
     "name": "stdout",
     "output_type": "stream",
     "text": [
      "optimizing\t elapsed time : 352.732\ts"
     ]
    },
    {
     "name": "stderr",
     "output_type": "stream",
     "text": [
      "Estimating pose on detect id_detect: 238:  24%|██▎       | 238/1005 [03:05<06:42,  1.90it/s]"
     ]
    },
    {
     "name": "stdout",
     "output_type": "stream",
     "text": [
      "optimizing\t elapsed time : 353.36\tss\r"
     ]
    },
    {
     "name": "stderr",
     "output_type": "stream",
     "text": [
      "Estimating pose on detect id_detect: 239:  24%|██▍       | 239/1005 [03:05<06:50,  1.86it/s]"
     ]
    },
    {
     "name": "stdout",
     "output_type": "stream",
     "text": [
      "optimizing\t elapsed time : 354.603\ts"
     ]
    },
    {
     "name": "stderr",
     "output_type": "stream",
     "text": [
      "Estimating pose on detect id_detect: 240:  24%|██▍       | 240/1005 [03:06<09:01,  1.41it/s]"
     ]
    },
    {
     "name": "stdout",
     "output_type": "stream",
     "text": [
      "optimizing\t elapsed time : 355.016\ts"
     ]
    },
    {
     "name": "stderr",
     "output_type": "stream",
     "text": [
      "Estimating pose on detect id_detect: 241:  24%|██▍       | 241/1005 [03:07<08:16,  1.54it/s]"
     ]
    },
    {
     "name": "stdout",
     "output_type": "stream",
     "text": [
      "optimizing\t elapsed time : 355.42\tss"
     ]
    },
    {
     "name": "stderr",
     "output_type": "stream",
     "text": [
      "Estimating pose on detect id_detect: 242:  24%|██▍       | 242/1005 [03:07<07:39,  1.66it/s]"
     ]
    },
    {
     "name": "stdout",
     "output_type": "stream",
     "text": [
      "optimizing\t elapsed time : 356.035\ts\r"
     ]
    },
    {
     "name": "stderr",
     "output_type": "stream",
     "text": [
      "Estimating pose on detect id_detect: 243:  24%|██▍       | 243/1005 [03:08<07:31,  1.69it/s]"
     ]
    },
    {
     "name": "stdout",
     "output_type": "stream",
     "text": [
      "optimizing\t elapsed time : 356.683\ts"
     ]
    },
    {
     "name": "stderr",
     "output_type": "stream",
     "text": [
      "Estimating pose on detect id_detect: 244:  24%|██▍       | 244/1005 [03:09<07:51,  1.61it/s]"
     ]
    },
    {
     "name": "stdout",
     "output_type": "stream",
     "text": [
      "optimizing\t elapsed time : 357.517\ts\r"
     ]
    },
    {
     "name": "stderr",
     "output_type": "stream",
     "text": [
      "Estimating pose on detect id_detect: 245:  24%|██▍       | 245/1005 [03:09<08:12,  1.54it/s]"
     ]
    },
    {
     "name": "stdout",
     "output_type": "stream",
     "text": [
      "optimizing\t elapsed time : 357.92\tss\r"
     ]
    },
    {
     "name": "stderr",
     "output_type": "stream",
     "text": [
      "Estimating pose on detect id_detect: 246:  24%|██▍       | 246/1005 [03:10<07:20,  1.72it/s]"
     ]
    },
    {
     "name": "stdout",
     "output_type": "stream",
     "text": [
      "optimizing\t elapsed time : 358.934\ts\r"
     ]
    },
    {
     "name": "stderr",
     "output_type": "stream",
     "text": [
      "Estimating pose on detect id_detect: 247:  25%|██▍       | 247/1005 [03:11<08:45,  1.44it/s]"
     ]
    },
    {
     "name": "stdout",
     "output_type": "stream",
     "text": [
      "optimizing\t elapsed time : 359.744\ts"
     ]
    },
    {
     "name": "stderr",
     "output_type": "stream",
     "text": [
      "Estimating pose on detect id_detect: 248:  25%|██▍       | 248/1005 [03:12<09:36,  1.31it/s]"
     ]
    },
    {
     "name": "stdout",
     "output_type": "stream",
     "text": [
      "optimizing\t elapsed time : 361.174\ts\r"
     ]
    },
    {
     "name": "stderr",
     "output_type": "stream",
     "text": [
      "Estimating pose on detect id_detect: 249:  25%|██▍       | 249/1005 [03:13<12:10,  1.04it/s]"
     ]
    },
    {
     "name": "stdout",
     "output_type": "stream",
     "text": [
      "optimizing\t elapsed time : 361.388\ts"
     ]
    },
    {
     "name": "stderr",
     "output_type": "stream",
     "text": [
      "Estimating pose on detect id_detect: 249:  25%|██▍       | 250/1005 [03:13<09:31,  1.32it/s]"
     ]
    },
    {
     "name": "stdout",
     "output_type": "stream",
     "text": [
      "optimizing\t elapsed time : 361.593\ts\r"
     ]
    },
    {
     "name": "stderr",
     "output_type": "stream",
     "text": [
      "Estimating pose on detect id_detect: 250:  25%|██▍       | 250/1005 [03:13<09:31,  1.32it/s]"
     ]
    },
    {
     "name": "stdout",
     "output_type": "stream",
     "text": [
      "optimizing\t elapsed time : 361.997\ts"
     ]
    },
    {
     "name": "stderr",
     "output_type": "stream",
     "text": [
      "Estimating pose on detect id_detect: 251:  25%|██▍       | 251/1005 [03:14<08:19,  1.51it/s]"
     ]
    },
    {
     "name": "stdout",
     "output_type": "stream",
     "text": [
      "optimizing\t elapsed time : 362.404\ts\r"
     ]
    },
    {
     "name": "stderr",
     "output_type": "stream",
     "text": [
      "Estimating pose on detect id_detect: 252:  25%|██▌       | 252/1005 [03:14<07:29,  1.67it/s]"
     ]
    },
    {
     "name": "stdout",
     "output_type": "stream",
     "text": [
      "optimizing\t elapsed time : 363.251\ts\r"
     ]
    },
    {
     "name": "stderr",
     "output_type": "stream",
     "text": [
      "Estimating pose on detect id_detect: 253:  25%|██▌       | 253/1005 [03:15<08:18,  1.51it/s]"
     ]
    },
    {
     "name": "stdout",
     "output_type": "stream",
     "text": [
      "optimizing\t elapsed time : 363.654\ts\r"
     ]
    },
    {
     "name": "stderr",
     "output_type": "stream",
     "text": [
      "Estimating pose on detect id_detect: 254:  25%|██▌       | 254/1005 [03:15<07:19,  1.71it/s]"
     ]
    },
    {
     "name": "stdout",
     "output_type": "stream",
     "text": [
      "optimizing\t elapsed time : 364.483\ts\r"
     ]
    },
    {
     "name": "stderr",
     "output_type": "stream",
     "text": [
      "Estimating pose on detect id_detect: 255:  25%|██▌       | 255/1005 [03:16<08:06,  1.54it/s]"
     ]
    },
    {
     "name": "stdout",
     "output_type": "stream",
     "text": [
      "optimizing\t elapsed time : 365.506\ts\r"
     ]
    },
    {
     "name": "stderr",
     "output_type": "stream",
     "text": [
      "Estimating pose on detect id_detect: 255:  25%|██▌       | 256/1005 [03:17<10:09,  1.23it/s]"
     ]
    },
    {
     "name": "stdout",
     "output_type": "stream",
     "text": [
      "optimizing\t elapsed time : 365.714\ts\r"
     ]
    },
    {
     "name": "stderr",
     "output_type": "stream",
     "text": [
      "Estimating pose on detect id_detect: 256:  25%|██▌       | 256/1005 [03:17<10:09,  1.23it/s]"
     ]
    },
    {
     "name": "stdout",
     "output_type": "stream",
     "text": [
      "optimizing\t elapsed time : 366.14\tss\r"
     ]
    }
   ],
   "source": [
    "batch.detect_markers(\n",
    "    plot_markers=False,\n",
    "    enforce=False,\n",
    ")\n",
    "_ = batch.estimate_pose()"
   ]
  },
  {
   "attachments": {},
   "cell_type": "markdown",
   "metadata": {},
   "source": [
    ">The draw_markers() function allows us to define the contour of an Aruco marker detected in an image and print its id.\n",
    "\n",
    ">A blue point is also drew at the upper-left corner, allowing us to observe the orientation's marker."
   ]
  },
  {
   "cell_type": "code",
   "execution_count": null,
   "metadata": {},
   "outputs": [],
   "source": [
    "dir = \"./_outputs_calibration\"\n",
    "contents = os.listdir(dir)\n",
    "if len(contents) == 0:\n",
    "    batch.draw_markers()"
   ]
  },
  {
   "attachments": {},
   "cell_type": "markdown",
   "metadata": {},
   "source": [
    ">Here a zoomed in image with its marker drew:"
   ]
  },
  {
   "cell_type": "code",
   "execution_count": null,
   "metadata": {},
   "outputs": [
    {
     "data": {
      "text/plain": [
       "<matplotlib.image.AxesImage at 0x7f34f003db50>"
      ]
     },
     "execution_count": 7,
     "metadata": {},
     "output_type": "execute_result"
    },
    {
     "data": {
      "image/png": "[encoded data removed]",
      "text/plain": [
       "<Figure size 432x288 with 1 Axes>"
      ]
     },
     "metadata": {
      "needs_background": "light"
     },
     "output_type": "display_data"
    }
   ],
   "source": [
    "im = io.imread(\"./_outputs_calibration/img_0099_markers.jpg\")\n",
    "zoomed = im[950:1600, 2400:2800]\n",
    "\n",
    "io.imshow(zoomed)"
   ]
  },
  {
   "attachments": {},
   "cell_type": "markdown",
   "metadata": {},
   "source": [
    "_______________\n",
    "#### v_ graph creation"
   ]
  },
  {
   "attachments": {},
   "cell_type": "markdown",
   "metadata": {},
   "source": [
    ">If we want to visualize our raw marker/image detection data, we end-up with this graph:"
   ]
  },
  {
   "cell_type": "code",
   "execution_count": null,
   "metadata": {},
   "outputs": [
    {
     "data": {
      "image/png": "[encoded data removed]",
      "text/plain": [
       "<Figure size 432x288 with 1 Axes>"
      ]
     },
     "metadata": {},
     "output_type": "display_data"
    }
   ],
   "source": [
    "data = batch.merge_all()\n",
    "MG = pcp.utils.get_multigraph(data=data)\n",
    "G = pcp.utils.get_graph(data=data)\n",
    "pcp.utils.plot_graph(G, MG)"
   ]
  },
  {
   "attachments": {},
   "cell_type": "markdown",
   "metadata": {},
   "source": [
    "> *blue nodes: marker poses | red nodes: image*"
   ]
  },
  {
   "attachments": {},
   "cell_type": "markdown",
   "metadata": {},
   "source": [
    "_______________\n",
    "#### vi_ GBU algorithm"
   ]
  },
  {
   "attachments": {},
   "cell_type": "markdown",
   "metadata": {},
   "source": [
    ">**In order to get rid of the pose ambiguity (cf. [pycopo_theory](./pycopo_theory.md)), we submit our dataframe poses info to the GBU algorithm.**\n",
    "\n",
    ">>The pose filtration process relies on the get_graph_data function from the pycopo module. Here the detailed process:\n",
    "    \n",
    ">>* info extraction from our dataframe batch\n",
    ">>* graph construction based on the image/marker detection info\n",
    ">>* GBU algorithm filtration\n",
    ">>* graph updating with the filtered poses\n",
    ">>* marker counting, checking if we've lost some ids "
   ]
  },
  {
   "cell_type": "code",
   "execution_count": null,
   "metadata": {},
   "outputs": [
    {
     "name": "stderr",
     "output_type": "stream",
     "text": [
      "Working on cycle: ('m189', 'i115', 'm188', 'i114'): 100%|██████████| 680/680 [00:22<00:00, 30.42it/s]\n"
     ]
    },
    {
     "name": "stdout",
     "output_type": "stream",
     "text": [
      "full data \t= 2010 poses\n",
      "no valid pose \t= 0 poses\n",
      "out of cycle \t= 328 poses\n",
      "good data \t= 411 poses\n",
      "bad data \t= 1157 poses\n",
      "ambigus data \t= 114 poses\n",
      "==========================\n"
     ]
    },
    {
     "name": "stderr",
     "output_type": "stream",
     "text": [
      "Working on cycle: ('m193', 'i113', 'm204', 'i112'): 100%|██████████| 308/308 [00:08<00:00, 35.88it/s]\n"
     ]
    },
    {
     "name": "stdout",
     "output_type": "stream",
     "text": [
      "full data \t= 525 poses\n",
      "no valid pose \t= 0 poses\n",
      "out of cycle \t= 54 poses\n",
      "good data \t= 378 poses\n",
      "bad data \t= 48 poses\n",
      "ambigus data \t= 10 poses\n",
      "==========================\n",
      "/!\\ we lose marker(s) : {192}\n"
     ]
    }
   ],
   "source": [
    "batch.get_graph_data(plot_markers=False, criterion=0.15, atomic_cycle=True, deph_max=1)"
   ]
  },
  {
   "attachments": {},
   "cell_type": "markdown",
   "metadata": {},
   "source": [
    ">Once the bad poses cleaned-up, we calibrate our graph in specifying our central markers wich are the graph nodes the most related to the other.\n",
    "\n",
    ">Here the resulting graph from the whole process:"
   ]
  },
  {
   "cell_type": "code",
   "execution_count": null,
   "metadata": {},
   "outputs": [
    {
     "data": {
      "image/png": "[encoded data removed]",
      "text/plain": [
       "<Figure size 432x288 with 1 Axes>"
      ]
     },
     "metadata": {},
     "output_type": "display_data"
    }
   ],
   "source": [
    "batch.graph_calibration()\n",
    "batch.plot_graph()"
   ]
  },
  {
   "attachments": {},
   "cell_type": "markdown",
   "metadata": {},
   "source": [
    "> *green nodes: non-central marker poses | red nodes: image | blue nodes: central marker poses*"
   ]
  },
  {
   "cell_type": "code",
   "execution_count": null,
   "metadata": {},
   "outputs": [],
   "source": []
  }
 ],
 "metadata": {
  "kernelspec": {
   "display_name": "matis",
   "language": "python",
   "name": "python3"
  },
  "language_info": {
   "codemirror_mode": {
    "name": "ipython",
    "version": 3
   },
   "file_extension": ".py",
   "mimetype": "text/x-python",
   "name": "python",
   "nbconvert_exporter": "python",
   "pygments_lexer": "ipython3",
   "version": "3.9.12"
  }
 },
 "nbformat": 4,
 "nbformat_minor": 2
}
